{
 "cells": [
  {
   "cell_type": "markdown",
   "metadata": {},
   "source": [
    "<img src=\"images/header.png\" alt=\"Logo UCLM-ESII\" align=\"right\">\n",
    "\n",
    "<br><br><br><br>\n",
    "<h2><font color=\"#92002A\" size=4>Trabajo Fin de Grado</font></h2>\n",
    "\n",
    "<h1><font color=\"#6B001F\" size=5>Generación automática de playlist de canciones <br> mediante técnicas de minería de datos</font></h1>\n",
    "<h2><font color=\"#92002A\" size=3>Parte 1 - Búsqueda de playlists</font></h2>\n",
    "\n",
    "<br>\n",
    "<div style=\"text-align: right\">\n",
    "    <font color=\"#B20033\" size=3><strong>Autor</strong>: <em>Miguel Ángel Cantero Víllora</em></font><br>\n",
    "    <br>\n",
    "    <font color=\"#B20033\" size=3><strong>Directores</strong>: <em>José Antonio Gámez Martín</em></font><br>\n",
    "    <font color=\"#B20033\" size=3><em>Juan Ángel Aledo Sánchez</em></font><br>\n",
    "    <br>\n",
    "<font color=\"#B20033\" size=3>Grado en Ingeniería Informática</font><br>\n",
    "<font color=\"#B20033\" size=2>Escuela Superior de Ingeniería Informática | Universidad de Castilla-La Mancha</font>\n",
    "\n",
    "</div>"
   ]
  },
  {
   "cell_type": "markdown",
   "metadata": {},
   "source": [
    "---\n",
    "<br>\n",
    "\n",
    "<a id=\"indice\"></a>\n",
    "<h2><font color=\"#92002A\" size=5>Índice</font></h2>\n",
    "\n",
    "<br>\n",
    "\n",
    "\n",
    "* [1. Introducción](#section1)\n",
    "* [2. Librería _Spotipy_](#section2)\n",
    "* [3. Métodos auxiliares](#section3)\n",
    "* [4. Método para la búsqueda de playlists](#section4)\n",
    "* [4. Método para procesar las listas de palabras](#section5)\n",
    "* [6. Proceso de descarga de playlists](#section6)\n",
    "\n",
    "<br>\n",
    "\n",
    "---"
   ]
  },
  {
   "cell_type": "code",
   "execution_count": 1,
   "metadata": {},
   "outputs": [
    {
     "data": {
      "text/html": [
       "<style>.container { width:95% !important; }</style>"
      ],
      "text/plain": [
       "<IPython.core.display.HTML object>"
      ]
     },
     "metadata": {},
     "output_type": "display_data"
    }
   ],
   "source": [
    "# Permite establecer la anchura de la celda\n",
    "from IPython.core.display import display, HTML\n",
    "display(HTML(\"<style>.container { width:95% !important; }</style>\"))"
   ]
  },
  {
   "cell_type": "code",
   "execution_count": 2,
   "metadata": {},
   "outputs": [],
   "source": [
    "#!pip install tqdm ipywidgets\n",
    "#!jupyter nbextension enable --py widgetsnbextension\n",
    "#!pip install requests\n",
    "#!pip install spotipy"
   ]
  },
  {
   "cell_type": "code",
   "execution_count": 3,
   "metadata": {},
   "outputs": [],
   "source": [
    "import codecs\n",
    "import csv\n",
    "import datetime\n",
    "import os\n",
    "import requests\n",
    "import shutil\n",
    "import spotipy\n",
    "import time\n",
    "\n",
    "from collections import defaultdict\n",
    "from spotipy.oauth2 import SpotifyClientCredentials\n",
    "from tqdm.notebook import tqdm as tqdm_nb"
   ]
  },
  {
   "cell_type": "markdown",
   "metadata": {},
   "source": [
    "---\n",
    "<br>\n",
    "\n",
    "<a id=\"section1\"></a>\n",
    "## <font color=\"#92002A\">1 - Introducción</font>\n",
    "<br>\n",
    "\n",
    "En esta libreta nos encargaremos de buscar playlists para su posterior descarga. En concreto, vamos a obtener los datos básicos para analizarlos y quedarnos con un conjunto de listas que descargar. Para la búsqueda, partiremos de las 3.000 palabras más frecuentes usadas en inglés que hemos obtenido de [\"*EF Education First*\"](https://www.ef.com/wwen/english-resources/english-vocabulary/top-3000-words/).\n",
    "\n",
    "También se han creado varios conjuntos que contienen los días de la semana, meses, eventos especiales, géneros musicales, períodos musicales, estados de ánimo, actividades, lugares, etc... Estos conjuntos se encuentran en:\n",
    "\n",
    "- `split_lists\\splitlist-ages.txt`\n",
    "- `split_lists\\splitlist-genres.txt`\n",
    "- `split_lists\\splitlist-special1.txt`\n",
    "- `split_lists\\splitlist-special2.txt`\n",
    "\n"
   ]
  },
  {
   "cell_type": "markdown",
   "metadata": {},
   "source": [
    "<div style=\"text-align: right\">\n",
    "<a href=\"#indice\"><font size=5><i class=\"fa fa-arrow-circle-up\" aria-hidden=\"true\" style=\"color:#92002A\"></i></font></a>\n",
    "</div>\n",
    "\n",
    "---"
   ]
  },
  {
   "cell_type": "markdown",
   "metadata": {},
   "source": [
    "<a id=\"section2\"></a>\n",
    "## <font color=\"#92002A\">2 - Librería *Spotipy*</font>\n",
    "\n",
    "<br>\n",
    "\n",
    "Para trabajar de forma más cómoda con la [WebAPI de Spotify](https://developer.spotify.com/documentation/web-api/), haremos uso de la librería [`Spotipy`](https://spotipy.readthedocs.io).\n",
    "\n",
    "_Spotipy_ es una biblioteca de _Python_ con la cual obtenemos acceso completo a todos los datos de música proporcionados por la plataforma de _Spotify_ y es compatible con todas las funciones de la WebAPI, incluido el acceso a todos los endpoints y el soporte a la autorización por parte del usuario (para algunas características se requiere que el usuario confirme que desea otorgar el acceso).\n",
    "\n",
    "Antes de comenzar a utilizar la librería *Spotipy*, establecemos las claves que hemos obtenido al crear un proyecto en el [_Spotify Developer Dashboard_](https://developer.spotify.com/dashboard). Por último, creamos el gestor que utilizaremos para buscar listas de reproducción."
   ]
  },
  {
   "cell_type": "code",
   "execution_count": 4,
   "metadata": {},
   "outputs": [],
   "source": [
    "sp_client_id = '' #SpotifyClientID\n",
    "sp_client_secret = '' #SpotifyClientSecret\n",
    "\n",
    "# Crea el gestor\n",
    "client_credentials_manager = SpotifyClientCredentials(client_id=sp_client_id, client_secret=sp_client_secret)\n",
    "sp = spotipy.Spotify(client_credentials_manager=client_credentials_manager)"
   ]
  },
  {
   "cell_type": "markdown",
   "metadata": {},
   "source": [
    "<div style=\"text-align: right\">\n",
    "<a href=\"#indice\"><font size=5><i class=\"fa fa-arrow-circle-up\" aria-hidden=\"true\" style=\"color:#92002A\"></i></font></a>\n",
    "</div>\n",
    "\n",
    "---"
   ]
  },
  {
   "cell_type": "markdown",
   "metadata": {},
   "source": [
    "<a id=\"section3\"></a>\n",
    "## <font color=\"#92002A\">3 - Métodos auxiliares</font>\n",
    "<br>\n",
    "\n",
    "En este apartado se encuentran los métodos auxiliares que se van a emplear para la búsqueda de playlists, para el procesado de las listas de palabras y para la obtención de la información de las playlists."
   ]
  },
  {
   "cell_type": "code",
   "execution_count": 5,
   "metadata": {},
   "outputs": [],
   "source": [
    "# Variables globales\n",
    "\n",
    "# Directorio donde se almacenan los sets generados\n",
    "SETS_PATH = 'sets'\n",
    "\n",
    "# Directorio donde se encuentran las listas de palabras que se generan\n",
    "SPLIT_LISTS_PATH = 'split_lists'\n",
    "\n",
    "# Directorio que empleamos para guardar copias de seguridad\n",
    "BACKUP_PATH = 'backup'"
   ]
  },
  {
   "cell_type": "markdown",
   "metadata": {},
   "source": [
    "<br>\n",
    "\n",
    "<a id=\"section31\"></a>\n",
    "### <font color=\"#B20033\">Bot de Telegram</font>\n",
    "<br>\n",
    "\n",
    "Se ha creado un Bot de [_Telegram_](https://www.telegram.org/) para seguir el proceso de búsqueda y recibir notificaciones en caso de que surja cualquier problema.\n",
    "\n",
    "\n",
    "*Fuente*: [How to create a Telegram bot, and send messages with Python (Medium)](https://medium.com/@ManHay_Hong/how-to-create-a-telegram-bot-and-send-messages-with-python-4cf314d9fa3e)."
   ]
  },
  {
   "cell_type": "code",
   "execution_count": 6,
   "metadata": {},
   "outputs": [],
   "source": [
    "tl_bot_token = ''\n",
    "tl_bot_chatID = ''\n",
    "\n",
    "def telegram_bot_sendtext(bot_message, prefix=''):\n",
    "    \"\"\"\n",
    "    :param bot_message: Mensaje que publicará el bot.\n",
    "    :param prefix: Prefijo con que se identificará el mensaje (opcional).\n",
    "    :return: Resultado de la petición.\n",
    "    \"\"\"\n",
    "    bot_token = tl_bot_token\n",
    "    bot_chatID = tl_bot_chatID\n",
    "    \n",
    "    if prefix != '':\n",
    "        bot_message = '[{}]: {}'.format(prefix,bot_message)\n",
    "        \n",
    "    send_text = 'https://api.telegram.org/bot' + bot_token + '/sendMessage?chat_id=' + bot_chatID + '&text=' + bot_message\n",
    "\n",
    "    response = requests.get(send_text)\n",
    "\n",
    "    return response.json()['ok']"
   ]
  },
  {
   "cell_type": "markdown",
   "metadata": {},
   "source": [
    "<br>\n",
    "<div class=\"alert alert-block alert-info\">\n",
    "    \n",
    "<i class=\"fa fa-info-circle\" aria-hidden=\"true\"></i> __Nota__: El argumento `prefix` lo utilizaremos para distinguir desde dónde se ha enviado el mensaje, en caso de que se empleen varios equipos o procesos para la búsqueda de playlists.\n",
    "</div>\n",
    "\n",
    "<br>"
   ]
  },
  {
   "cell_type": "markdown",
   "metadata": {},
   "source": [
    "Para comprobar que el Bot funciona correctamente:"
   ]
  },
  {
   "cell_type": "code",
   "execution_count": 7,
   "metadata": {},
   "outputs": [],
   "source": [
    "#test = telegram_bot_sendtext('Testing Telegram Bot')\n",
    "#print(test)"
   ]
  },
  {
   "cell_type": "markdown",
   "metadata": {},
   "source": [
    "<div style=\"text-align: right\">\n",
    "<a href=\"#indice\"><font size=5><i class=\"fa fa-arrow-circle-up\" aria-hidden=\"true\" style=\"color:#92002A\"></i></font></a>\n",
    "</div>\n",
    "\n",
    "---"
   ]
  },
  {
   "cell_type": "markdown",
   "metadata": {},
   "source": [
    "<a id=\"section32\"></a>\n",
    "### <font color=\"#B20033\">Creación de logs</font>\n",
    "<br>\n",
    "\n",
    "Para almacenar la información del proceso de búsqueda, hemos creado una función que nos permitirá guardar aquellos eventos que consideremos de interés junto a la fecha y hora en la que han ocurrido. El nombre del fichero, por defecto, es `log.txt`."
   ]
  },
  {
   "cell_type": "code",
   "execution_count": 8,
   "metadata": {},
   "outputs": [],
   "source": [
    "# Escribe un texto en un fichero de logs\n",
    "def write_to_log(text,file_name='log.txt'):\n",
    "    \"\"\"\n",
    "    :param text: Mensaje a escribir en el log.\n",
    "    :param file_name: Nombre del fichero donde almacenaremos el log.\n",
    "    \"\"\"\n",
    "    current_date = datetime.datetime.now()\n",
    "    with open(file_name, 'a') as fp:\n",
    "        fp.write(f'({current_date}):\\t{text}\\n')"
   ]
  },
  {
   "cell_type": "markdown",
   "metadata": {},
   "source": [
    "<div style=\"text-align: right\">\n",
    "<a href=\"#indice\"><font size=5><i class=\"fa fa-arrow-circle-up\" aria-hidden=\"true\" style=\"color:#92002A\"></i></font></a>\n",
    "</div>\n",
    "\n",
    "---"
   ]
  },
  {
   "cell_type": "markdown",
   "metadata": {},
   "source": [
    "<a id=\"section33\"></a>\n",
    "### <font color=\"#B20033\">Listas de palabras</font>\n",
    "<br>\n",
    "\n",
    "Para la búsqueda de playlists, los términos con los que vamos a realizar las consultas serán almacenados en ficheros `.txt`, siendo agrupados por su letra inicial (salvo el caso de los términos especiales que hemos indicado en el apartado de '[Introducción](#section1)').\n",
    "\n",
    "Esto se realiza así para que el proceso de búsqueda pueda hacerse de forma escalonada y también pueda realizarse desde varias máquinas o en varios procesos.\n",
    "\n",
    "También utilizaremos estos métodos para modificar los ficheros conforme avance el proceso de búsqueda. Así en caso de que surja cualquier problema, aquellas palabras que ya se han tratado no volverán a procesarse cuando se reanude la búsqueda."
   ]
  },
  {
   "cell_type": "code",
   "execution_count": 9,
   "metadata": {},
   "outputs": [],
   "source": [
    "# Devuelve una lista con las palabras contenidas en un fichero\n",
    "def load_word_list(file_name):\n",
    "    \"\"\"\n",
    "    :param file_name: Nombre del fichero que contiene la lista de palabras.\n",
    "    :return: Lista con las palabras contenidas en el fichero.\n",
    "    \"\"\"\n",
    "    with open(file_name) as file:\n",
    "        content = file.readlines()\n",
    "        # Elimina espacios en blanco como `\\n` al final de cada línea\n",
    "        return [word.strip().lower() for word in content] "
   ]
  },
  {
   "cell_type": "code",
   "execution_count": 10,
   "metadata": {},
   "outputs": [],
   "source": [
    "# Almacena una lista de palabras en un fichero\n",
    "def store_word_list(file_path, word_list):\n",
    "    \"\"\"\n",
    "    :param file_path: Ruta donde guardaremos las listas de palabras.\n",
    "    :param word_list: Lista de palabras a guardar.\n",
    "    \"\"\"\n",
    "    with open(file_path, 'w') as f:\n",
    "        for word in word_list:\n",
    "            f.write(\"%s\\n\" % word)"
   ]
  },
  {
   "cell_type": "markdown",
   "metadata": {},
   "source": [
    "<div style=\"text-align: right\">\n",
    "<a href=\"#indice\"><font size=5><i class=\"fa fa-arrow-circle-up\" aria-hidden=\"true\" style=\"color:#92002A\"></i></font></a>\n",
    "</div>\n",
    "\n",
    "---"
   ]
  },
  {
   "cell_type": "markdown",
   "metadata": {},
   "source": [
    "<a id=\"section34\"></a>\n",
    "### <font color=\"#B20033\">Diccionarios</font>\n",
    "<br>\n",
    "\n",
    "Para agrupar las palabras por su letra inicial, nos apoyaremos en el uso de [_diccionarios_](https://docs.python.org/2/tutorial/datastructures.html#dictionaries).\n",
    "\n",
    "Los siguientes métodos nos permiten crear diccionarios, con los cuales agrupamos las palabras por letra inicial, y almacenarlos en ficheros:"
   ]
  },
  {
   "cell_type": "code",
   "execution_count": 11,
   "metadata": {},
   "outputs": [],
   "source": [
    "# Crea un diccionario con la letra inicial como clave\n",
    "# y cuyo valor es la lista de palabras que comienzan \n",
    "# por esa letra\n",
    "def create_dictionary(input):\n",
    "    \"\"\"\n",
    "    :param input: Lista de palabras.\n",
    "    :return: Diccionario cuya clave es la letra inicial y sus valores\n",
    "             la lista de palabras que empiezan dicha letra.\n",
    "    \"\"\"\n",
    "    result = defaultdict(list)\n",
    "    for word in input:\n",
    "        result[word[0]].append(word)\n",
    "    return result"
   ]
  },
  {
   "cell_type": "code",
   "execution_count": 12,
   "metadata": {},
   "outputs": [],
   "source": [
    "# Convierte el diccionario en ficheros\n",
    "def split_dict_to_files(dictionary, dir_path, name ='',):\n",
    "    \"\"\"\n",
    "    :param dictionary: Diccionario que contiene una lista de palabras.\n",
    "    :param name: (Opcional) Prefijo que añadimos al nombre del fichero para identificarlo.\n",
    "    :param dir_path: Directorio donde se almacenará el fichero resultante.\n",
    "    \"\"\"\n",
    "    \n",
    "    # Cambio en la nomenclatura en caso \n",
    "    # de indicar un prefijo (name)\n",
    "    if name != '' : \n",
    "        name = f'-{name}_'\n",
    "    else:\n",
    "        name = '-'\n",
    "    \n",
    "    # key   -> Letra \n",
    "    # value -> Lista de palabras\n",
    "    for key, value in dictionary.items():\n",
    "        file_name = f'splitlist{name}{key}.txt'\n",
    "        \n",
    "        # Creamos el directorio donde se almacenarán\n",
    "        # las listas de palabras que se han generado\n",
    "        if not os.path.exists(dir_path):\n",
    "            os.makedirs(dir_path)\n",
    "        \n",
    "        # Guardamos las palabras contenidas en la lista 'value'\n",
    "        with open(os.path.join(dir_path, file_name), 'w') as file:\n",
    "            for item in value:\n",
    "                file.write(\"%s\\n\" % item)"
   ]
  },
  {
   "cell_type": "markdown",
   "metadata": {},
   "source": [
    "<br>\n",
    "\n",
    "<div class=\"alert alert-block alert-warning\">\n",
    "\n",
    "<i class=\"fa fa-exclamation-circle\" aria-hidden=\"true\"></i>\n",
    "__Importante__: Ambos métodos ***split_dict_to_files*** y ***store_word_list*** se encargan de almacenar conjuntos de palabras en ficheros `.txt`, pero el primero se utiliza para generar por primera vez los ficheros que contienen las palabras agrupadas por letra inicial y el segundo se utiliza únicamente para almacenar un fichero de palabras en caso de querer eliminar una palabra que ya hemos procesado (modificación).\n",
    "</div>"
   ]
  },
  {
   "cell_type": "markdown",
   "metadata": {},
   "source": [
    "<div style=\"text-align: right\">\n",
    "<a href=\"#indice\"><font size=5><i class=\"fa fa-arrow-circle-up\" aria-hidden=\"true\" style=\"color:#92002A\"></i></font></a>\n",
    "</div>\n",
    "\n",
    "---"
   ]
  },
  {
   "cell_type": "markdown",
   "metadata": {},
   "source": [
    "### <a id=\"section4\"></a>\n",
    "## <font color=\"#92002A\">4 - Método para la búsqueda de playlists</font>\n",
    "\n",
    "<br>\n",
    "\n",
    "El siguiente método es el que vamos a emplear para buscar las playlists que contengan el término que indiquemos. Su funcionamiento es el siguiente:\n",
    "1. Como la WebAPI de _Spotify_ no devuelve todos los resultados en una única llamada, nos encargamos de realizar varias llamadas para recabar todos los resultados que contengan el término solicitado.\n",
    "2. _Spotify_ limita los resultados de búsqueda a 10.000, por lo tanto, comprobamos que el índice del primer elemento que va a devolver la siguiente llamada (*query_offset*) sea menor que dicho número. Este valor se incrementa al final del bucle.\n",
    "3. Establecemos el número de items a devolver por llamada a 50, ya que es el máximo permitido.\n",
    "4. Si una lista es de *Spotify*, no la incluimos en los resultados (ya que estamos interesados en las playlists creadas por usuarios).\n",
    "5. Tras procesar los resultados de la petición actual, obtenemos la URL de la siguiente petición. En caso de que no existan más resultados, el valor de la siguiente llamada será _null_. Por lo tanto, paramos el proceso y devolvemos los resultados."
   ]
  },
  {
   "cell_type": "code",
   "execution_count": 13,
   "metadata": {},
   "outputs": [],
   "source": [
    "# Busca un término en Spotify\n",
    "def playlist_search(term):\n",
    "    \"\"\"\n",
    "    :param term: Termino con el que se realizará la búsqueda.\n",
    "    :return: Lista que contiene las playlists obtenidas.\n",
    "    \"\"\"\n",
    "    query_offset = 0 # Contiene el índice del primer elemento a devolver\n",
    "    nxt = '' # URL de la siguiente página de items (null en caso de no haber)\n",
    "    limit = 50 # Limite de items en la respuesta\n",
    "    playlists = list()\n",
    "    \n",
    "    # La API de Spotify limita los resultados a 10000,\n",
    "    # con lo cual comprobamos que el 'query_offset' sea\n",
    "    # menor a dicho número\n",
    "    while (query_offset < 10000) and (nxt != None):\n",
    "        query = sp.search(term, limit, type='playlist', offset=query_offset)\n",
    "        results = query['playlists']['items']\n",
    "        for result in results:\n",
    "            # Descartamos las listas del usuario 'Spotify'\n",
    "            if str(result['owner']['display_name']).lower() != 'spotify':\n",
    "                playlists.append({'id' : result['id'],\n",
    "                                  'num_tracks' : result['tracks']['total'],\n",
    "                                  'name': result['name']})\n",
    "        nxt = query['playlists']['next']\n",
    "        query_offset += limit\n",
    "        time.sleep(0.7) # Retardo\n",
    "        \n",
    "    return playlists"
   ]
  },
  {
   "cell_type": "markdown",
   "metadata": {},
   "source": [
    "<br>\n",
    "\n",
    "<div class=\"alert alert-block alert-warning\">\n",
    "\n",
    "<i class=\"fa fa-exclamation-circle\" aria-hidden=\"true\"></i>\n",
    "__Importante__: Como podemos observar, en la mayoría de los métodos que implican llamadas a la WebAPI de _Spotify_ hemos introducido un retardo para no saturar el servidor realizando miles de peticiones consecutivas. Aparte de evitar cualquier saturación, si no lo hiciéramos infringiríamos uno de los [_Términos del Servicio (ToS)_](https://developer.spotify.com/terms/#iv) de _Spotify_.\n",
    "</div>"
   ]
  },
  {
   "cell_type": "markdown",
   "metadata": {},
   "source": [
    "<div style=\"text-align: right\">\n",
    "<a href=\"#indice\"><font size=5><i class=\"fa fa-arrow-circle-up\" aria-hidden=\"true\" style=\"color:#92002A\"></i></font></a>\n",
    "</div>\n",
    "\n",
    "---"
   ]
  },
  {
   "cell_type": "markdown",
   "metadata": {},
   "source": [
    "<a id=\"section5\"></a>\n",
    "## <font color=\"#92002A\">5 - Método para procesar las listas de palabras</font>\n",
    "<br>"
   ]
  },
  {
   "cell_type": "markdown",
   "metadata": {},
   "source": [
    "El método ***process_split_lists*** es el encargado de procesar todas las listas de términos que hemos creado y que se encuentran almacenadas dentro de un directorio:"
   ]
  },
  {
   "cell_type": "code",
   "execution_count": 14,
   "metadata": {},
   "outputs": [],
   "source": [
    "# Procesa los ficheros con las palabras\n",
    "def process_split_lists(sets_path, split_lists_path):\n",
    "    \"\"\"\n",
    "    :param sets_path: Ruta donde almacenaremos los resultados obtenidos.\n",
    "    :param split_lists_path: Ruta de donde se encuentran las listas de palabras.\n",
    "    \"\"\"\n",
    "    \n",
    "    # Creamos el fichero donde se almacenaran los sets con\n",
    "    # los resultados de las búsquedas en caso de no existir\n",
    "    if not os.path.exists(sets_path):\n",
    "        os.makedirs(sets_path)\n",
    "    \n",
    "    # Definimos las barras de progreso que vamos a emplear\n",
    "    # para la búsqueda de playlists\n",
    "    pbar_general = tqdm_nb(total=len(os.listdir(split_lists_path)))\n",
    "    pbar_general.set_description('Ficheros procesados')\n",
    "    pbar_file = tqdm_nb(total=1) # Nota: Si no se establece un valor superior a 0,\n",
    "                                 #       la barra no se muestra correctamente (bug)\n",
    "    try:\n",
    "        for file_name in os.listdir(split_lists_path):\n",
    "            file_path = os.path.join(split_lists_path,file_name)\n",
    "            \n",
    "            # Comprobamos que es un fichero y comienza por 'split_lists_'\n",
    "            # (prefijo utilizado para las listas de palabras)\n",
    "            if os.path.isfile(file_path) and 'splitlist-' in file_name:\n",
    "                words_list = load_word_list(file_path)\n",
    "                pending_words = words_list.copy()\n",
    "                pbar_file.set_description(f\"Palabras en '{file_name}'\")\n",
    "                pbar_file.reset(total=len(words_list))\n",
    "                \n",
    "                # Extraemos el identificador del nombre del fichero\n",
    "                # y establecemos la ruta del fichero .csv\n",
    "                set_id = file_name.split('-')[-1].split('.')[0]\n",
    "                set_file_path = os.path.join(sets_path,f'set-{set_id}.csv')\n",
    "                \n",
    "                # Para cada palabra del fichero realizamos la búsqueda\n",
    "                for index, word in enumerate(words_list):\n",
    "                    result = playlist_search(word)\n",
    "                    \n",
    "                    # Cuando se termina la búsqueda de la palabra,\n",
    "                    # almacenamos los resultados en el fichero .csv\n",
    "                    with codecs.open(set_file_path, 'a', 'utf-8') as csvfile:\n",
    "                        writer = csv.DictWriter(csvfile, fieldnames=['id','name','num_tracks'])\n",
    "                        for data in result:\n",
    "                            writer.writerow(data)\n",
    "\n",
    "                    # Eliminamos la palabra procesada para que en caso de que se produzca\n",
    "                    # un error, cuando volvamos a procesar el fichero no se vuelvan a\n",
    "                    # buscar aquellas palabras que ya han sido procesadas\n",
    "                    pending_words.pop(0)\n",
    "                    store_word_list(file_path, pending_words)\n",
    "                    \n",
    "                    # Actualizamos la barra de progreso para las palabras\n",
    "                    # del fichero actual\n",
    "                    pbar_file.update()\n",
    "                    time.sleep(30) # Retardo\n",
    "                \n",
    "                # El fichero ha terminado de procesarse\n",
    "                message = f'{file_name} file has been processed.'\n",
    "                write_to_log(message)\n",
    "                telegram_bot_sendtext(message)    \n",
    "                \n",
    "                # Una vez procesado el fichero, lo borramos\n",
    "                os.remove(file_path)\n",
    "                time.sleep(60) # Retardo      \n",
    "            \n",
    "            # Actualizamos la barra para los ficheros leidos\n",
    "            pbar_general.update()\n",
    "        \n",
    "        # Una vez procesados todos los ficheros, borramos el directorio\n",
    "        os.rmdir(split_lists_path)        \n",
    "        \n",
    "        message = 'Search process completed.'\n",
    "        write_to_log(message)\n",
    "        telegram_bot_sendtext(message)  \n",
    "    except Exception as e:\n",
    "        # Guardamos el error en el log y avisamos por Telegram\n",
    "        message = f'Something went wrong in \"process_split_lists\". Retrying in 5 minutes.'\n",
    "        write_to_log(message)\n",
    "        write_to_log(str(e))\n",
    "        telegram_bot_sendtext(message)\n",
    "        \n",
    "        # Esperamos 5 minutos antes de repetir el proceso\n",
    "        time.sleep(300)\n",
    "        process_split_lists(sets_path)"
   ]
  },
  {
   "cell_type": "markdown",
   "metadata": {},
   "source": [
    "<br>\n",
    "\n",
    "<div class=\"alert alert-block alert-warning\">\n",
    "\n",
    "<i class=\"fa fa-exclamation-circle\" aria-hidden=\"true\"></i>\n",
    "__Importante__: Los tiempos indicados en las barras de progreso son orientativos, puesto que cada fichero contiene un número diferente de términos y cada término requiere un tiempo distinto.\n",
    "</div>"
   ]
  },
  {
   "cell_type": "markdown",
   "metadata": {},
   "source": [
    "<div style=\"text-align: right\">\n",
    "<a href=\"#indice\"><font size=5><i class=\"fa fa-arrow-circle-up\" aria-hidden=\"true\" style=\"color:#92002A\"></i></font></a>\n",
    "</div>\n",
    "\n",
    "---"
   ]
  },
  {
   "cell_type": "markdown",
   "metadata": {},
   "source": [
    "<a id=\"section6\"></a>\n",
    "## <font color=\"#92002A\">6 - Proceso de obtención de playlists</font>\n",
    "<br>\n",
    "\n",
    "Una vez hemos definido todos los métodos que vamos a utilizar, empezamos con el proceso de búsqueda de playlists:"
   ]
  },
  {
   "cell_type": "code",
   "execution_count": 15,
   "metadata": {},
   "outputs": [],
   "source": [
    "# Cargamos la lista con las 3000 palabras más usadas\n",
    "eng_words = load_word_list('files/list-words_eng.txt')\n",
    "\n",
    "# Creamos un diccionario con las palabras agrupadas por letra inicial\n",
    "eng_dict = create_dictionary(eng_words)\n",
    "\n",
    "# Convertimos el diccionario en ficheros de texto\n",
    "split_dict_to_files(eng_dict, SPLIT_LISTS_PATH, name='eng')"
   ]
  },
  {
   "cell_type": "code",
   "execution_count": 16,
   "metadata": {
    "scrolled": true
   },
   "outputs": [],
   "source": [
    "# Procesamos los ficheros\n",
    "process_split_lists(SETS_PATH, SPLIT_LISTS_PATH)"
   ]
  },
  {
   "cell_type": "markdown",
   "metadata": {},
   "source": [
    "<br>\n",
    "\n",
    "Tras completarse el proceso, guardamos una copia del directorio con los conjuntos obtenidos en un fichero comprimido y lo movemos al directorio establecido en la variable `BACKUP_PATH`:"
   ]
  },
  {
   "cell_type": "code",
   "execution_count": 17,
   "metadata": {
    "scrolled": true
   },
   "outputs": [
    {
     "data": {
      "text/plain": [
       "'backup/sets.zip'"
      ]
     },
     "execution_count": 17,
     "metadata": {},
     "output_type": "execute_result"
    }
   ],
   "source": [
    "if not os.path.exists(BACKUP_PATH):\n",
    "    os.makedirs(BACKUP_PATH)\n",
    "\n",
    "shutil.make_archive('sets', 'zip', SETS_PATH)\n",
    "shutil.move('sets.zip', BACKUP_PATH)"
   ]
  },
  {
   "cell_type": "markdown",
   "metadata": {},
   "source": [
    "<div style=\"text-align: right\">\n",
    "<a href=\"#indice\"><font size=5><i class=\"fa fa-arrow-circle-up\" aria-hidden=\"true\" style=\"color:#92002A\"></i></font></a>\n",
    "</div>\n",
    "\n",
    "---\n",
    "\n",
    "<div style=\"text-align: right\"> <font size=6><i class=\"fa fa-graduation-cap\" aria-hidden=\"true\" style=\"color:#92002A\"></i> </font></div>"
   ]
  }
 ],
 "metadata": {
  "kernelspec": {
   "display_name": "Python 3",
   "language": "python",
   "name": "python3"
  },
  "language_info": {
   "codemirror_mode": {
    "name": "ipython",
    "version": 3
   },
   "file_extension": ".py",
   "mimetype": "text/x-python",
   "name": "python",
   "nbconvert_exporter": "python",
   "pygments_lexer": "ipython3",
   "version": "3.8.5"
  }
 },
 "nbformat": 4,
 "nbformat_minor": 2
}
