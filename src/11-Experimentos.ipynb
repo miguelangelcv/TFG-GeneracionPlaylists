{
 "cells": [
  {
   "cell_type": "markdown",
   "metadata": {},
   "source": [
    "<img src=\"images/header.png\" alt=\"Logo UCLM-ESII\" align=\"right\">\n",
    "\n",
    "<br><br><br><br>\n",
    "<h2><font color=\"#92002A\" size=4>Trabajo Fin de Grado</font></h2>\n",
    "\n",
    "<h1><font color=\"#6B001F\" size=5>Generación automática de playlist de canciones <br> mediante técnicas de minería de datos</font></h1>\n",
    "<h2><font color=\"#92002A\" size=3>Parte 11 - Experimentos</font></h2>\n",
    "\n",
    "<br>\n",
    "<div style=\"text-align: right\">\n",
    "    <font color=\"#B20033\" size=3><strong>Autor</strong>: <em>Miguel Ángel Cantero Víllora</em></font><br>\n",
    "    <br>\n",
    "    <font color=\"#B20033\" size=3><strong>Directores</strong>: <em>José Antonio Gámez Martín</em></font><br>\n",
    "    <font color=\"#B20033\" size=3><em>Juan Ángel Aledo Sánchez</em></font><br>\n",
    "    <br>\n",
    "<font color=\"#B20033\" size=3>Grado en Ingeniería Informática</font><br>\n",
    "<font color=\"#B20033\" size=2>Escuela Superior de Ingeniería Informática | Universidad de Castilla-La Mancha</font>\n",
    "\n",
    "</div>"
   ]
  },
  {
   "cell_type": "markdown",
   "metadata": {},
   "source": [
    "---\n",
    "\n",
    "<br>\n",
    "\n",
    "\n",
    "<a id=\"indice\"></a>\n",
    "<h2><font color=\"#92002A\" size=5>Índice</font></h2>\n",
    "\n",
    "<br>\n",
    "\n",
    "* [1. Introducción](#section1)\n",
    "    * [1.1. Carga de datos](#section11)\n",
    "    * [1.2. Definición de funciones auxiliares](#section12)\n",
    "* [2. Experimentos](#section2)\n",
    "    * [2.1. Recomendaciones sobre canciones conocidas](#section21)\n",
    "    * [2.2. Predicciones sobre playlists seleccionadas](#section22)\n",
    "    * [2.3. Predicciones sobre playlists aleatorias](#section23)\n",
    "\n",
    "<br>\n",
    "\n",
    "---"
   ]
  },
  {
   "cell_type": "code",
   "execution_count": 1,
   "metadata": {},
   "outputs": [],
   "source": [
    "# Permite establecer la anchura de la celda\n",
    "#from IPython.core.display import display, HTML\n",
    "#display(HTML(\"<style>.container { width:95% !important; }</style>\"))"
   ]
  },
  {
   "cell_type": "code",
   "execution_count": 2,
   "metadata": {},
   "outputs": [
    {
     "name": "stderr",
     "output_type": "stream",
     "text": [
      "c:\\pythonenv\\mcidaen\\lib\\site-packages\\lightfm\\_lightfm_fast.py:9: UserWarning: LightFM was compiled without OpenMP support. Only a single thread will be used.\n",
      "  warnings.warn(\n"
     ]
    }
   ],
   "source": [
    "import os\n",
    "import numpy as np\n",
    "import joblib\n",
    "import json\n",
    "import pandas as pd\n",
    "import time\n",
    "import pickle\n",
    "import random\n",
    "\n",
    "from collections import defaultdict\n",
    "from lightfm import LightFM\n",
    "from lightfm.evaluation import precision_at_k\n",
    "from lightfm.cross_validation import random_train_test_split"
   ]
  },
  {
   "cell_type": "code",
   "execution_count": 3,
   "metadata": {},
   "outputs": [],
   "source": [
    "import warnings\n",
    "warnings.filterwarnings('ignore')"
   ]
  },
  {
   "cell_type": "code",
   "execution_count": 4,
   "metadata": {},
   "outputs": [],
   "source": [
    "# Variables globales\n",
    "NUM_THREADS = 8\n",
    "SEED = 0\n",
    "\n",
    "# Directorio empleado para guardar/leer los datos generados\n",
    "DATA_PATH = 'MPD_CSV'\n",
    "MODELS_PATH = \"models\"\n",
    "EXPERIMENTS_PATH = \"backup\"\n",
    "\n",
    "ARTISTS_PATH = os.path.join(DATA_PATH,'mpd.artists.csv')\n",
    "TRACKS_PATH = os.path.join(DATA_PATH,'mpd.tracks.csv')\n",
    "PLSINFO_PATH = os.path.join(DATA_PATH,'mpd.playlists-info.csv')\n",
    "MODEL_PATH = os.path.join(MODELS_PATH,'lightfm_model.pkl')\n",
    "MPD_LFM_FILE = os.path.join(DATA_PATH, \"mpd_lightfm.pickle\")"
   ]
  },
  {
   "cell_type": "markdown",
   "metadata": {},
   "source": [
    "---\n",
    "\n",
    "<br>\n",
    "\n",
    "\n",
    "<a id=\"section1\"></a>\n",
    "## <font color=\"#92002A\">1 - Introducción</font>\n",
    "<br>\n",
    "\n",
    "Tras completarse el entrenamiento, vamos a realizar una serie de experimentos en los que comprobamos los resultados que produce nuestro modelo realizando predicciones a las playlists que tenemos en nuestro conjunto de entrenamiento. Una vez realizados dichos experimentos, vamos a emplear las 10.000 playlists incompletas, que habíamos clasificado previamente en 10 categorías, para ver el desempeño de nuestro modelo.\n",
    "\n",
    "\n",
    "<br>\n",
    "\n",
    "---\n",
    "\n",
    "<br>\n",
    "\n",
    "<a id=\"section11\"></a>\n",
    "### <font color=\"#92002A\">1.1 - Carga de datos</font>\n",
    "\n",
    "<br>"
   ]
  },
  {
   "cell_type": "code",
   "execution_count": 5,
   "metadata": {},
   "outputs": [],
   "source": [
    "#DataSet en formato LightFM\n",
    "with open(MPD_LFM_FILE, \"rb\") as read_file:\n",
    "    mpd_lfm_dict = pickle.load(read_file)\n",
    "    \n",
    "#Cargamos el modelo\n",
    "tfg_model = joblib.load(MODEL_PATH)"
   ]
  },
  {
   "cell_type": "code",
   "execution_count": 6,
   "metadata": {},
   "outputs": [],
   "source": [
    "# Dataframea utilizados durante los experimentos\n",
    "df_tracks = pd.read_csv(TRACKS_PATH, index_col=0)\n",
    "df_artists = pd.read_csv(ARTISTS_PATH,index_col=0)\n",
    "df_plsinfo = pd.read_csv(PLSINFO_PATH, index_col=0)\n",
    "\n",
    "# Array de numpy con los títulos de las pistas\n",
    "tracks_names = df_tracks.track_name.to_numpy()\n",
    "artists_names = df_artists.artist_name.to_numpy()\n",
    "pls_names = df_plsinfo.name.to_numpy()"
   ]
  },
  {
   "cell_type": "markdown",
   "metadata": {},
   "source": [
    "---\n",
    "\n",
    "<br>\n",
    "\n",
    "<a id=\"section12\"></a>\n",
    "### <font color=\"#92002A\">1.2 - Definición de funciones auxiliares</font>\n",
    "<br>\n"
   ]
  },
  {
   "cell_type": "code",
   "execution_count": 7,
   "metadata": {},
   "outputs": [],
   "source": [
    "# Obtiene de un modelo los items similares al indicado\n",
    "# mediante la similaridad coseno\n",
    "def similar_items(item_id, model, N=-1):\n",
    "    \"\"\"\n",
    "    :param item_id: Item del que obtener similares.\n",
    "    :param model: Modelo a emplear.\n",
    "    :param N: (Opcional) Número de items similares, por defecto se devuelven todos.\n",
    "    :return: Lista de tuplas en formato (PID,SCORE).\n",
    "    \"\"\"\n",
    "    (item_biased, item_representations) = model.get_item_representations()\n",
    "    \n",
    "    # Cosine Similarity\n",
    "    scores = item_representations.dot(item_representations[item_id])\n",
    "    item_norms = np.linalg.norm(item_representations, axis=1)\n",
    "    item_norms[item_norms == 0] = 1e-10    \n",
    "    scores /= item_norms\n",
    "    best = np.argpartition(scores, -N)[-N:]    \n",
    "    return sorted(zip(best, scores[best] / item_norms[item_id]),\n",
    "                  key=lambda x: -x[1])\n",
    "\n",
    "# https://github.com/lyst/lightfm/issues/244"
   ]
  },
  {
   "cell_type": "code",
   "execution_count": 8,
   "metadata": {},
   "outputs": [],
   "source": [
    "# Realiza la prediccion de pistas a una o varias playlists\n",
    "def make_prediction(model, data, pls_pids, labels, u_features=None, N=10):\n",
    "    \"\"\"\n",
    "    :param model: Modelo a emplear.\n",
    "    :param data: Matriz de interacciones (Sparse Matrix).\n",
    "    :param pls_pids: Usuarios de los que se desea obtener recomendaciones.\n",
    "    :param labels : Etiquetas/nombres de los items\n",
    "    :param u_features: Matriz con las características de las playlists (Matriz de expansión).\n",
    "    :param N: (Opcional) Número de items a predecir similares, por defecto se devuelven 10.\n",
    "    :return: Lista de diccionarios.\n",
    "    \"\"\"\n",
    "    results_list = []\n",
    "\n",
    "    #Numero de usuarios e items de la matriz\n",
    "    n_pls, n_items = data.shape\n",
    "\n",
    "    #Genera recomendación para cada usuario\n",
    "    for pl_id in pls_pids:\n",
    "        \n",
    "        #Items que el usuario conoce\n",
    "        known_positives = data.tocsr()[pl_id].indices\n",
    "        \n",
    "        #Items que nuestro modelo predice al usuario\n",
    "        scores = model.predict(pl_id, np.arange(n_items), user_features=u_features, num_threads=NUM_THREADS)\n",
    "        #Ordena los items por puntuación\n",
    "        top_items = np.argsort(-scores)\n",
    "\n",
    "        # Borramos los items conocidos de las recomendaciones\n",
    "        sorter = np.argsort(top_items)\n",
    "        removable_indices = sorter[np.searchsorted(top_items, known_positives, sorter=sorter)]\n",
    "        top_items = np.delete(top_items,removable_indices)\n",
    "\n",
    "        # Resultados\n",
    "        result_dict = {'pl_pid': pl_id,\n",
    "                       'known_items' : list(known_positives),\n",
    "                       'known_items_labels' : list(labels[known_positives]),\n",
    "                       'recommended_items' : list(top_items[:N]),\n",
    "                       'recommended_items_labels' : list(labels[top_items[:N]])}\n",
    "        \n",
    "        results_list.append(result_dict)\n",
    "        \n",
    "    return results_list"
   ]
  },
  {
   "cell_type": "code",
   "execution_count": 9,
   "metadata": {},
   "outputs": [],
   "source": [
    "# Realiza predicciones a la lista de usuarios indicada\n",
    "# (Cross-Validation)\n",
    "def make_prediction_cv(model, train_data, test_data, pls_pids, labels, u_features=None, N=0):\n",
    "    \"\"\"\n",
    "    :param model: Modelo a emplear.\n",
    "    :param train_data: Matriz de interacciones (Sparse Matrix).\n",
    "    :param test_data: Matriz de interacciones (Sparse Matrix).\n",
    "    :param pls_pids: Usuarios de los que se desea obtener recomendaciones.\n",
    "    :param labels: Etiquetas/nombres de los items.\n",
    "    :param u_features: Matriz de características de playlist (Sparse Matrix).\n",
    "    :param N: (Opcional) Número de items a predecir similares, por defecto se devuelven 10.\n",
    "    :return: Lista de diccionarios.\n",
    "    \"\"\"\n",
    "    results_list = []\n",
    "\n",
    "    #Numero de usuarios e items de la matriz\n",
    "    n_pls, n_items = train_data.shape\n",
    "\n",
    "    #Genera recomendación para cada usuario\n",
    "    for pl_id in pls_pids:\n",
    "        \n",
    "        #Items que el usuario conoce\n",
    "        known_positives = train_data.tocsr()[pl_id].indices\n",
    "        #Items para validación\n",
    "        val_items = test_data.tocsr()[pl_id].indices        \n",
    "                \n",
    "        if N==0: \n",
    "            N = len(val_items)\n",
    "        \n",
    "        #Items que nuestro modelo predice al usuario\n",
    "        scores = model.predict(pl_id, np.arange(n_items), user_features=u_features, num_threads=NUM_THREADS)\n",
    "        #Ordena los items por puntuación\n",
    "        top_items = np.argsort(-scores)\n",
    "\n",
    "        # Borramos los items conocidos de las recomendaciones\n",
    "        sorter = np.argsort(top_items)\n",
    "        removable_indices = sorter[np.searchsorted(top_items, known_positives, sorter=sorter)]\n",
    "        top_items = np.delete(top_items,removable_indices)\n",
    "\n",
    "        # Resultados\n",
    "        result_dict = {'pl_pid': pl_id,\n",
    "                       'known_items' : list(known_positives),\n",
    "                       'known_items_labels' : list(labels[known_positives]),\n",
    "                       'recommended_items' : list(top_items[:N]),\n",
    "                       'recommended_items_labels' : list(labels[top_items[:N]]),\n",
    "                       'validation_items' : list(val_items),\n",
    "                       'validation_items_labels' : list(labels[val_items]) }\n",
    "        \n",
    "        results_list.append(result_dict)\n",
    "        \n",
    "    return results_list"
   ]
  },
  {
   "cell_type": "code",
   "execution_count": 10,
   "metadata": {},
   "outputs": [],
   "source": [
    "# Función que empleamos para evaluar los resultados de\n",
    "# una predicción mediante validación cruzada\n",
    "def plstrs_rec_analysis(rec_items, val_items):\n",
    "    \"\"\"\n",
    "    :param rec_items: Items que ha recomendado el modelo.\n",
    "    :param val_items: Items pertenecientes al conjunto de validación.\n",
    "    :return: Diccionario con los resultados de las métricas.\n",
    "    \"\"\"\n",
    "    val_set = {x['track_pid'] for x in val_items}\n",
    "    rec10_set = {x['track_pid'] for x in rec_items[:10]}\n",
    "    rec25_set = {x['track_pid'] for x in rec_items[:25]}\n",
    "    rec50_set =  {x['track_pid'] for x in rec_items[:50]}\n",
    "    rec100_set = {x['track_pid'] for x in rec_items[:100]}\n",
    "    \n",
    "    analysis_results = dict()    \n",
    "    analysis_results['top_10'] = {'common' : rec10_set.intersection(val_set),\n",
    "                                  'score' : len(rec10_set.intersection(val_set))/len(val_set)}    \n",
    "    analysis_results['top_25'] = {'common' : rec25_set.intersection(val_set),\n",
    "                                  'score' : len(rec25_set.intersection(val_set))/len(val_set)}\n",
    "    analysis_results['top_50'] = {'common' : rec50_set.intersection(val_set),\n",
    "                                  'score' : len(rec50_set.intersection(val_set))/len(val_set)}\n",
    "    analysis_results['top_100'] = {'common' : rec100_set.intersection(val_set),\n",
    "                                   'score' : len(rec100_set.intersection(val_set))/len(val_set)}\n",
    "    \n",
    "    return analysis_results"
   ]
  },
  {
   "cell_type": "code",
   "execution_count": 11,
   "metadata": {},
   "outputs": [],
   "source": [
    "# Función auxiliar que empleamos para mostrar los resultados \n",
    "# tras evaluar una predicción\n",
    "def plstrs_analysis_printer(results):\n",
    "    print(\"TOP 10:  {:6}\".format(results['top_10']['score']))\n",
    "    print(\"TOP 25:  {:6}\".format(results['top_25']['score']))\n",
    "    print(\"TOP 50:  {:6}\".format(results['top_50']['score']))\n",
    "    print(\"TOP 100: {:6}\".format(results['top_100']['score']))"
   ]
  },
  {
   "cell_type": "markdown",
   "metadata": {},
   "source": [
    "<div style=\"text-align: right\">\n",
    "<a href=\"#indice\"><font size=5><i class=\"fa fa-arrow-circle-up\" aria-hidden=\"true\" style=\"color:#92002A\"></i></font></a>\n",
    "</div>\n",
    "\n",
    "---"
   ]
  },
  {
   "cell_type": "markdown",
   "metadata": {},
   "source": [
    "<a id=\"section2\"></a>\n",
    "## <font color=\"#92002A\">2 - Experimentos</font>\n",
    "<br>"
   ]
  },
  {
   "cell_type": "markdown",
   "metadata": {},
   "source": [
    "<a id=\"section21\"></a>\n",
    "### <font color=\"#B20033\">2.1 - Recomendaciones sobre canciones conocidas</font>\n",
    "\n",
    "<br>\n",
    "\n",
    "En este experimento, hemos seleccionado 3 canciones que conocemos y en las que podemos ver si nuestro modelo nos recomienda canciones que son relacionadas con éstas. Las canciones que hemos seleccionado son las siguientes:\n",
    "\n",
    "* \"**Toxic**\" de *Britney Spears*.\n",
    "* \"**Cool**\" de *Alesso*.\n",
    "* \"**Six Feet Under**\" de *The Weeknd*. \n",
    "\n",
    "<br>"
   ]
  },
  {
   "cell_type": "code",
   "execution_count": 12,
   "metadata": {},
   "outputs": [],
   "source": [
    "# Método empleado para realizar el experimento 1\n",
    "def experiment_1(tracks_pids, model, df_t, a_labels, n_recs=20):\n",
    "    results_list = []\n",
    "    \n",
    "    for track_pid in tracks_pids:\n",
    "        result = dict()\n",
    "        result['track'] = {'track_pid' : track_pid,\n",
    "                           'track_name' : df_t.loc[track_pid].track_name,\n",
    "                           'track_artist' : a_labels[df_t.loc[track_pid].artist_pid]}\n",
    "        \n",
    "        rec_items = similar_items(track_pid, model, N=n_recs+1)[1:]\n",
    "        items_list = []    \n",
    "        \n",
    "        for t_id, _ in rec_items:\n",
    "            track = {'track_pid' : str(t_id),\n",
    "                     'track_name' : df_t.loc[t_id].track_name,\n",
    "                     'track_artist' : a_labels[df_t.loc[t_id].artist_pid]}\n",
    "            items_list.append(track)\n",
    "        \n",
    "        result['recommended_tracks'] = items_list\n",
    "        results_list.append(result)\n",
    "        \n",
    "    return results_list"
   ]
  },
  {
   "cell_type": "code",
   "execution_count": 13,
   "metadata": {},
   "outputs": [],
   "source": [
    "# Método para imprimir los resultados del experimento 1\n",
    "def experiment_1_printer(result,N=10):\n",
    "    print(\"*** {} ({}) ***\\n\".format(result['track']['track_name'],result['track']['track_artist']))\n",
    "    for track in result['recommended_tracks'][:N]:\n",
    "        print(\"{:50}  {}\".format(track['track_name'][:50],track['track_artist']))"
   ]
  },
  {
   "cell_type": "code",
   "execution_count": 14,
   "metadata": {},
   "outputs": [],
   "source": [
    "# PIDs de pistas que queremos probar\n",
    "test_pids = [239356, 143490, 31390]\n",
    "\n",
    "experiment_file = os.path.join(EXPERIMENTS_PATH,'experiment_1_results.json')\n",
    "if os.path.isfile(experiment_file):\n",
    "    with open(experiment_file) as json_file:\n",
    "        results_experiment_1 = json.load(json_file)\n",
    "else:\n",
    "    results_experiment_1 = experiment_1(test_pids, tfg_model, df_tracks, artists_names)\n",
    "    with open(experiment_file, 'w') as json_file:\n",
    "        json_file.write(json.dumps(results_experiment_1, indent=4))"
   ]
  },
  {
   "cell_type": "code",
   "execution_count": 15,
   "metadata": {},
   "outputs": [
    {
     "name": "stdout",
     "output_type": "stream",
     "text": [
      "*** Toxic (Britney Spears) ***\n",
      "\n",
      "Toxic                                               Britney Spears\n",
      "TiK ToK                                             Kesha\n",
      "Womanizer                                           Britney Spears\n",
      "Don't Stop The Music                                Rihanna\n",
      "Hollaback Girl                                      Gwen Stefani\n",
      "Hips Don't Lie                                      Shakira\n",
      "Wannabe                                             Spice Girls\n",
      "Crazy In Love (feat. Jay-Z)                         Beyoncé\n",
      "Hollaback Girl                                      Gwen Stefani\n",
      "SexyBack                                            Justin Timberlake\n"
     ]
    }
   ],
   "source": [
    "experiment_1_printer(results_experiment_1[0])"
   ]
  },
  {
   "cell_type": "code",
   "execution_count": 16,
   "metadata": {},
   "outputs": [
    {
     "name": "stdout",
     "output_type": "stream",
     "text": [
      "*** Cool (Alesso) ***\n",
      "\n",
      "City Of Dreams - Radio Edit                         Dirty South\n",
      "I Could Be The One (Avicii Vs. Nicky Romero) - Rad  Avicii\n",
      "Reload - Radio Edit                                 Sebastian Ingrosso\n",
      "Runaway (U & I)                                     Galantis\n",
      "Under Control                                       Calvin Harris\n",
      "Heroes (we could be)                                Alesso\n",
      "Ten Feet Tall                                       Afrojack\n",
      "If I Lose Myself - Alesso vs OneRepublic            OneRepublic\n",
      "Don't Look Down                                     Martin Garrix\n",
      "Red Lights                                          Tiësto\n"
     ]
    }
   ],
   "source": [
    "experiment_1_printer(results_experiment_1[1])"
   ]
  },
  {
   "cell_type": "code",
   "execution_count": 17,
   "metadata": {},
   "outputs": [
    {
     "name": "stdout",
     "output_type": "stream",
     "text": [
      "*** Six Feet Under (The Weeknd) ***\n",
      "\n",
      "Reminder                                            The Weeknd\n",
      "Party Monster                                       The Weeknd\n",
      "All I Know                                          The Weeknd\n",
      "Sidewalks                                           The Weeknd\n",
      "Shameless                                           The Weeknd\n",
      "Acquainted                                          The Weeknd\n",
      "Often                                               The Weeknd\n",
      "Love To Lay                                         The Weeknd\n",
      "Ordinary Life                                       The Weeknd\n",
      "Might Not                                           Belly\n"
     ]
    }
   ],
   "source": [
    "experiment_1_printer(results_experiment_1[2])"
   ]
  },
  {
   "cell_type": "markdown",
   "metadata": {},
   "source": [
    "Para la primera pista que hemos empleado como ejemplo, vemos que las canciones que nuestro modelo ha recomendado resultan ser de artistas similares al de la canción consultada. En este caso se da la peculiaridad de que vuelve a aparecer la misma canción que hemos consultado en los resultados. Esto se debe a que una canción puede aparecer en álbumes distintos y en cada uno de ellos *Spotify* la almacena con un identificador distinto.\n",
    "\n",
    "En el segundo caso, nuestro modelo nos ha devuelto una serie de canciones cuyos estilos musicales son similares al de la canción que hemos elegido.\n",
    "\n",
    "Para la última canción que hemos consultado, nuestro modelo nos ha devuelto 8 canciones del mismo artista (en las que la mayoría corresponden al mismo álbum) y 2 canciones de artistas similares. Probablemente este caso se deba a que la canción empleada no resulte muy conocida y sólo aparezca en playlists en las que figuren el resto de canciones que corresponden al álbum del artista.\n"
   ]
  },
  {
   "cell_type": "markdown",
   "metadata": {},
   "source": [
    "---"
   ]
  },
  {
   "cell_type": "markdown",
   "metadata": {},
   "source": [
    "<br>\n",
    "\n",
    "<a id=\"section22\"></a>\n",
    "### <font color=\"#B20033\">2.2 - Predicciones sobre playlists seleccionadas</font>\n",
    "\n",
    "<br>\n",
    "\n",
    "Para este experimento hemos seleccionado 3 playlists que contienen música que nos resulta conocida. A diferencia del experimento anterior, hemos aplicado validación cruzada sobre las playlists, de tal manera que extraemos el 20% de las pistas que contiene para posteriormente ver en qué parte de las *k* primeras posiciones aparecen. La métrica que emplearemos en este caso es la precisión (*precision@k*, proporción de elementos recomendados en el conjunto *top-k* que son relevantes). En nuestro caso vamos a consultar la precisión cuando *k* es igual a 10, 25, 50 y 100. Las playlist que hemos elegido son las siguientes:\n",
    "\n",
    "* “**Teen**” (PID 203663).\n",
    "* \"**Kisses For Breakfast**” (PID 98312).\n",
    "* \"**F.E.E.L. – Lucky Luke**” (PID 4569).\n",
    "\n",
    "<br>"
   ]
  },
  {
   "cell_type": "code",
   "execution_count": 18,
   "metadata": {},
   "outputs": [],
   "source": [
    "# Dividimos el conjunto en train y test, para validación cruzada\n",
    "train_tracks, test_tracks =  random_train_test_split(mpd_lfm_dict['plstrs_interactions'], test_percentage=0.2, \n",
    "                                                     random_state=np.random.RandomState(SEED))"
   ]
  },
  {
   "cell_type": "code",
   "execution_count": 19,
   "metadata": {},
   "outputs": [],
   "source": [
    "# Método empleado para realizar el experimento A4\n",
    "def experiment_2(model, train, test, pls_ids, df_t, a_labels, pls_labels, u_features=None, n_pred=500):\n",
    "    t_labels = df_t.track_name.to_numpy()\n",
    "    results_experiment = make_prediction_cv(model, train, test, pls_ids, t_labels, \n",
    "                                            u_features=u_features, N=n_pred)\n",
    "    results_list = []\n",
    "    \n",
    "    for r in results_experiment:\n",
    "        result = dict()        \n",
    "        result['pl_pid'] = str(r['pl_pid'])\n",
    "        result['pl_name'] = pls_labels[r['pl_pid']]\n",
    "        known_items = []\n",
    "        for i in range(len(r['known_items'])):\n",
    "            t_artist_pid = df_t.loc[r['known_items'][i]].artist_pid\n",
    "            known_items.append({'track_pid' : str(r['known_items'][i]),\n",
    "                                'track_name' : r['known_items_labels'][i],\n",
    "                                'track_artist': a_labels[t_artist_pid]})\n",
    "        result['known_tracks'] = known_items\n",
    "        recommended_items = []\n",
    "        for i in range(len(r['recommended_items'])):\n",
    "            t_artist_pid = df_t.loc[r['recommended_items'][i]].artist_pid\n",
    "            recommended_items.append({'track_pid' : str(r['recommended_items'][i]),\n",
    "                                      'track_name' : r['recommended_items_labels'][i],\n",
    "                                      'track_artist' : a_labels[t_artist_pid]})\n",
    "        result['recommended_tracks'] = recommended_items\n",
    "        \n",
    "        validation_items = []\n",
    "        for i in range(len(r['validation_items'])):\n",
    "            t_artist_pid = df_t.loc[r['validation_items'][i]].artist_pid\n",
    "            validation_items.append({'track_pid' : str(r['validation_items'][i]),\n",
    "                                     'track_name' : r['validation_items_labels'][i],\n",
    "                                     'track_artist' : a_labels[t_artist_pid]})\n",
    "        result['validation_tracks'] = validation_items\n",
    "        \n",
    "        results_list.append(result)\n",
    "        \n",
    "    return results_list"
   ]
  },
  {
   "cell_type": "code",
   "execution_count": 20,
   "metadata": {},
   "outputs": [],
   "source": [
    "# Función para imprimir los resultados del experimento A4\n",
    "def experiment_2_printer(result,max_items=10):\n",
    "    print(\"***PLAYLIST {} | {}***\".format(result['pl_pid'],result['pl_name']))\n",
    "    print(\"#Pistas conocidas#\")\n",
    "    known_tracks = [(x['track_name'],x['track_artist']) for x in result['known_tracks'][:max_items]]\n",
    "    for tr in known_tracks:\n",
    "        print(\"{:50}  {}\".format(tr[0][:50],tr[1]))\n",
    "    print(\"\\n#Pistas recomendadas#\")\n",
    "    rec_tracks = [(x['track_name'],x['track_artist']) for x in result['recommended_tracks'][:max_items]]\n",
    "    for tr in rec_tracks:\n",
    "        print(\"{:50}  {}\".format(tr[0][:50],tr[1]))\n",
    "    print(\"\\n#Pistas para validación#\")\n",
    "    val_tracks = [(x['track_name'],x['track_artist']) for x in result['validation_tracks'][:max_items]]\n",
    "    for tr in val_tracks:\n",
    "        print(\"{:50}  {}\".format(tr[0][:50],tr[1]))"
   ]
  },
  {
   "cell_type": "code",
   "execution_count": 21,
   "metadata": {},
   "outputs": [],
   "source": [
    "# PIDs de playlists que queremos probar\n",
    "test_pids = [203663,98312,4569]\n",
    "\n",
    "experiment_file = os.path.join(EXPERIMENTS_PATH,'experiment_2_results.json')\n",
    "if os.path.isfile(experiment_file):\n",
    "    with open(experiment_file) as json_file:\n",
    "        results_experiment_2 = json.load(json_file)\n",
    "else:\n",
    "    results_experiment_2 = experiment_2(tfg_model, train_tracks, test_tracks, test_pids,\n",
    "                                          df_tracks, artists_names, pls_names)\n",
    "    with open(experiment_file, 'w') as json_file:\n",
    "        json_file.write(json.dumps(results_experiment_2, indent=4))"
   ]
  },
  {
   "cell_type": "code",
   "execution_count": 22,
   "metadata": {},
   "outputs": [
    {
     "name": "stdout",
     "output_type": "stream",
     "text": [
      "***PLAYLIST 203663 | Teen***\n",
      "#Pistas conocidas#\n",
      "Wannabe                                             Spice Girls\n",
      "2 Become 1                                          Spice Girls\n",
      "Say You'll Be There                                 Spice Girls\n",
      "Viva Forever                                        Spice Girls\n",
      "Too Much                                            Spice Girls\n",
      "...Baby One More Time                               Britney Spears\n",
      "Sometimes                                           Britney Spears\n",
      "Toxic                                               Britney Spears\n",
      "Oops!...I Did It Again                              Britney Spears\n",
      "I'm a Slave 4 U                                     Britney Spears\n",
      "Genie in a Bottle                                   Christina Aguilera\n",
      "Rock Your Body                                      Justin Timberlake\n",
      "Cry Me a River                                      Justin Timberlake\n",
      "CAN'T STOP THE FEELING! (Original Song from DreamW  Justin Timberlake\n",
      "Mirrors                                             Justin Timberlake\n",
      "Say Something                                       Justin Timberlake\n",
      "Complicated                                         Avril Lavigne\n",
      "If You Had My Love                                  Jennifer Lopez\n",
      "Bye Bye Bye                                         *NSYNC\n",
      "It's Gonna Be Me                                    *NSYNC\n",
      "\n",
      "#Pistas recomendadas#\n",
      "Waterfalls                                          TLC\n",
      "How Do I Live                                       LeAnn Rimes\n",
      "One Sweet Day                                       Mariah Carey\n",
      "No Scrubs                                           TLC\n",
      "I Have Nothing                                      Whitney Houston\n",
      "Can't Fight The Moonlight                           LeAnn Rimes\n",
      "Truly Madly Deeply                                  Savage Garden\n",
      "Stop                                                Spice Girls\n",
      "Because You Loved Me (Theme from \"Up Close and Per  Céline Dion\n",
      "Un-Break My Heart                                   Toni Braxton\n",
      "Together Again                                      Janet Jackson\n",
      "If I Let You Go - Radio Edit                        Westlife\n",
      "Quit Playing Games (With My Heart)                  Backstreet Boys\n",
      "This I Promise You                                  *NSYNC\n",
      "You're Still The One                                Shania Twain\n",
      "Breathless                                          The Corrs\n",
      "Crush                                               Jennifer Paige\n",
      "Believe                                             Cher\n",
      "Always Be My Baby                                   Mariah Carey\n",
      "You're Still The One                                Shania Twain\n",
      "\n",
      "#Pistas para validación#\n",
      "Stop                                                Spice Girls\n",
      "What Goes Around.../...Comes Around (Interlude)     Justin Timberlake\n",
      "Cry Me a River                                      Justin Timberlake\n",
      "On The Floor - Radio Edit                           Jennifer Lopez\n",
      "If I Let You Go - Radio Edit                        Westlife\n"
     ]
    }
   ],
   "source": [
    "experiment_2_printer(results_experiment_2[0], max_items=20)"
   ]
  },
  {
   "cell_type": "code",
   "execution_count": 23,
   "metadata": {},
   "outputs": [
    {
     "data": {
      "text/plain": [
       "{'top_10': {'common': {'238006'}, 'score': 0.2},\n",
       " 'top_25': {'common': {'238006', '732850'}, 'score': 0.4},\n",
       " 'top_50': {'common': {'238006', '732850'}, 'score': 0.4},\n",
       " 'top_100': {'common': {'238006', '732850'}, 'score': 0.4}}"
      ]
     },
     "execution_count": 23,
     "metadata": {},
     "output_type": "execute_result"
    }
   ],
   "source": [
    "plstrs_rec_analysis(results_experiment_2[0]['recommended_tracks'],\n",
    "                    results_experiment_2[0]['validation_tracks'])"
   ]
  },
  {
   "cell_type": "code",
   "execution_count": 24,
   "metadata": {},
   "outputs": [
    {
     "name": "stdout",
     "output_type": "stream",
     "text": [
      "***PLAYLIST 98312 | Kisses For Breakfast ***\n",
      "#Pistas conocidas#\n",
      "The Other Side (with MAX & Ty Dolla $ign)           MAX\n",
      "We Don't Talk Anymore (feat. Selena Gomez)          Charlie Puth\n",
      "I Like Me Better                                    Lauv\n",
      "High Hopes                                          Panic! At The Disco\n",
      "The Other Side                                      Jason Derulo\n",
      "Worth It                                            Fifth Harmony\n",
      "Work from Home (feat. Ty Dolla $ign)                Fifth Harmony\n",
      "I Will Never Let You Down                           Rita Ora\n",
      "Attention                                           Charlie Puth\n",
      "Sit Still, Look Pretty                              Daya\n",
      "\n",
      "#Pistas recomendadas#\n",
      "Old Town Road - Remix                               Lil Nas X\n",
      "Sunflower - Spider-Man: Into the Spider-Verse       Post Malone\n",
      "Sucker                                              Jonas Brothers\n",
      "I Don't Care (with Justin Bieber)                   Ed Sheeran\n",
      "bad guy                                             Billie Eilish\n",
      "Happier                                             Marshmello\n",
      "Better Now                                          Post Malone\n",
      "Sweet but Psycho                                    Ava Max\n",
      "Shape of You                                        Ed Sheeran\n",
      "I Like It                                           Cardi B\n",
      "\n",
      "#Pistas para validación#\n",
      "Sunflower - Spider-Man: Into the Spider-Verse       Post Malone\n",
      "7 rings                                             Ariana Grande\n",
      "Meant to Be (feat. Florida Georgia Line)            Bebe Rexha\n"
     ]
    }
   ],
   "source": [
    "experiment_2_printer(results_experiment_2[1])"
   ]
  },
  {
   "cell_type": "code",
   "execution_count": 25,
   "metadata": {},
   "outputs": [
    {
     "data": {
      "text/plain": [
       "{'top_10': {'common': {'33365'}, 'score': 0.3333333333333333},\n",
       " 'top_25': {'common': {'305678', '33365'}, 'score': 0.6666666666666666},\n",
       " 'top_50': {'common': {'305678', '33365'}, 'score': 0.6666666666666666},\n",
       " 'top_100': {'common': {'305678', '33365'}, 'score': 0.6666666666666666}}"
      ]
     },
     "execution_count": 25,
     "metadata": {},
     "output_type": "execute_result"
    }
   ],
   "source": [
    "plstrs_rec_analysis(results_experiment_2[1]['recommended_tracks'],\n",
    "                    results_experiment_2[1]['validation_tracks'])"
   ]
  },
  {
   "cell_type": "code",
   "execution_count": 26,
   "metadata": {},
   "outputs": [
    {
     "name": "stdout",
     "output_type": "stream",
     "text": [
      "***PLAYLIST 4569 | F.E.E.L. – Lucky Luke***\n",
      "#Pistas conocidas#\n",
      "The Hum                                             Dimitri Vegas & Like Mike\n",
      "Virus (How About Now)                               Martin Garrix\n",
      "Body Talk (feat. Julian Perretta)                   Dimitri Vegas & Like Mike\n",
      "Hangover                                            Dynoro\n",
      "Drop It                                             Various Artists\n",
      "F.E.E.L.                                            Lucky Luke\n",
      "Cooler Than Me                                      Lucky Luke\n",
      "I Could Be The One (Avicii Vs. Nicky Romero) - Rad  Avicii\n",
      "Crazy                                               TRFN\n",
      "Drive                                               TRFN\n",
      "\n",
      "#Pistas recomendadas#\n",
      "In My Mind                                          Dynoro\n",
      "Old Town Road - Remix                               Lil Nas X\n",
      "Still Cold / Pathway Private                        Night Lovell\n",
      "Look at Me Now                                      Brennan Savage\n",
      "Spotlight                                           Marshmello\n",
      "Alone                                               Marshmello\n",
      "Dancin (feat. Luvli) - Krono Remix                  Aaron Smith\n",
      "Old Town Road                                       Lil Nas X\n",
      "Tokyo Drift                                         KVSH\n",
      "Go Fuck Yourself                                    Two Feet\n",
      "\n",
      "#Pistas para validación#\n",
      "Secrets                                             Tiësto\n",
      "Tsunami                                             DVBBS\n",
      "Still Cold / Pathway Private                        Night Lovell\n",
      "U Do (feat. Siadou)                                 TRFN\n"
     ]
    }
   ],
   "source": [
    "experiment_2_printer(results_experiment_2[2])"
   ]
  },
  {
   "cell_type": "code",
   "execution_count": 27,
   "metadata": {},
   "outputs": [
    {
     "data": {
      "text/plain": [
       "{'top_10': {'common': {'359624'}, 'score': 0.25},\n",
       " 'top_25': {'common': {'359624'}, 'score': 0.25},\n",
       " 'top_50': {'common': {'359624', '904974'}, 'score': 0.5},\n",
       " 'top_100': {'common': {'359624', '904974'}, 'score': 0.5}}"
      ]
     },
     "execution_count": 27,
     "metadata": {},
     "output_type": "execute_result"
    }
   ],
   "source": [
    "plstrs_rec_analysis(results_experiment_2[2]['recommended_tracks'],\n",
    "                    results_experiment_2[2]['validation_tracks'])"
   ]
  },
  {
   "cell_type": "markdown",
   "metadata": {},
   "source": [
    "<br>\n",
    "\n",
    "Si estudiamos con detalle las recomendaciones que ofrece nuestro modelo para completar las playlists seleccionadas, vemos que existe relación entre el contenido de todas ellas y sus títulos."
   ]
  },
  {
   "cell_type": "markdown",
   "metadata": {},
   "source": [
    "---"
   ]
  },
  {
   "cell_type": "markdown",
   "metadata": {},
   "source": [
    "<br>\n",
    "\n",
    "<a id=\"section23\"></a>\n",
    "### <font color=\"#B20033\">2.3 - Predicciones sobre playlists aleatorias</font>\n",
    "\n",
    "<br>\n",
    "\n",
    "Repetimos el experimento anterior empleando 3 listas aleatorias.\n",
    "\n",
    "<br>"
   ]
  },
  {
   "cell_type": "code",
   "execution_count": 28,
   "metadata": {},
   "outputs": [],
   "source": [
    "# Método empleado para realizar el experimento A5:\n",
    "def experiment_3(model, train, test, df_t, a_labels, pls_names, rand_items=3, u_features=None, n_pred=500):\n",
    "    random_pl_pids = []\n",
    "    for i in range(rand_items):\n",
    "        random_pl_pids.append(random.randrange(0,1000000))\n",
    "        \n",
    "    return experiment_2(model, train, test, random_pl_pids, df_t, \n",
    "                         a_labels, pls_names, u_features, n_pred=250)"
   ]
  },
  {
   "cell_type": "code",
   "execution_count": 29,
   "metadata": {},
   "outputs": [],
   "source": [
    "experiment_file = os.path.join(EXPERIMENTS_PATH,'experiment_3_results.json')\n",
    "\n",
    "if os.path.isfile(experiment_file):\n",
    "    with open(experiment_file) as json_file:\n",
    "        results_experiment_3 = json.load(json_file)\n",
    "else:\n",
    "    results_experiment_3 = experiment_3(tfg_model, train_tracks, test_tracks, \n",
    "                                          df_tracks, artists_names, pls_names)\n",
    "    with open(experiment_file, 'w') as json_file:\n",
    "        json_file.write(json.dumps(results_experiment_3, indent=4))"
   ]
  },
  {
   "cell_type": "code",
   "execution_count": 30,
   "metadata": {},
   "outputs": [
    {
     "name": "stdout",
     "output_type": "stream",
     "text": [
      "***PLAYLIST 18103 | 💬-.-- -summer 19***\n",
      "#Pistas conocidas#\n",
      "Best Part (feat. H.E.R.)                            Daniel Caesar\n",
      "Better Now                                          Post Malone\n",
      "Stay                                                Post Malone\n",
      "Psycho (feat. Ty Dolla $ign)                        Post Malone\n",
      "Same Drugs                                          Chance the Rapper\n",
      "Wonderwall                                          Oasis\n",
      "iSpy (feat. Lil Yachty)                             KYLE\n",
      "In My Feelings                                      Drake\n",
      "glisten (interlude)                                 Jeremy Zucker\n",
      "comethru (with Bea Miller)                          Jeremy Zucker\n",
      "\n",
      "#Pistas recomendadas#\n",
      "Loving Is Easy                                      Rex Orange County\n",
      "Shotgun                                             George Ezra\n",
      "Sunflower - Spider-Man: Into the Spider-Verse       Post Malone\n",
      "Sunflower                                           Rex Orange County\n",
      "Banana Pancakes                                     Jack Johnson\n",
      "Young Dumb & Broke                                  Khalid\n",
      "Old Town Road - Remix                               Lil Nas X\n",
      "3 Nights                                            Dominic Fike\n",
      "Talk                                                Khalid\n",
      "Magic In The Hamptons (feat. Lil Yachty)            Social House\n",
      "\n",
      "#Pistas para validación#\n",
      "Let's Fall in Love for the Night                    FINNEAS\n",
      "Candy Paint                                         Post Malone\n",
      "Playinwitme (feat. Kehlani)                         KYLE\n",
      "thinking 2 much                                     Jeremy Zucker\n",
      "Dirty Water                                         Marc E. Bassy\n",
      "Candy Wrappers                                      Summer Salt\n",
      "Ride Wit Me                                         Nelly\n",
      "Mr. Brightside                                      The Killers\n",
      "Young, Wild & Free (feat. Bruno Mars)               Snoop Dogg\n",
      "Through and Through                                 khai dreams\n"
     ]
    }
   ],
   "source": [
    "experiment_2_printer(results_experiment_3[0])"
   ]
  },
  {
   "cell_type": "code",
   "execution_count": 31,
   "metadata": {},
   "outputs": [
    {
     "data": {
      "text/plain": [
       "{'top_10': {'common': set(), 'score': 0.0},\n",
       " 'top_25': {'common': set(), 'score': 0.0},\n",
       " 'top_50': {'common': {'104518', '442568'}, 'score': 0.16666666666666666},\n",
       " 'top_100': {'common': {'104518', '442568'}, 'score': 0.16666666666666666}}"
      ]
     },
     "execution_count": 31,
     "metadata": {},
     "output_type": "execute_result"
    }
   ],
   "source": [
    "plstrs_rec_analysis(results_experiment_3[0]['recommended_tracks'],\n",
    "                    results_experiment_3[0]['validation_tracks'])"
   ]
  },
  {
   "cell_type": "code",
   "execution_count": 32,
   "metadata": {},
   "outputs": [
    {
     "name": "stdout",
     "output_type": "stream",
     "text": [
      "***PLAYLIST 668333 | blame it on the goose***\n",
      "#Pistas conocidas#\n",
      "rockstar                                            Post Malone\n",
      "Congratulations                                     Post Malone\n",
      "pick up the phone                                   Young Thug\n",
      "Come Get Her                                        Rae Sremmurd\n",
      "This Could Be Us                                    Rae Sremmurd\n",
      "Pleazer                                             Tyga\n",
      "Feel Me                                             Tyga\n",
      "Unforgettable                                       French Montana\n",
      "Loaded (Bonus Track) [feat. DJ Carnage]             G-Eazy\n",
      "HUMBLE.                                             Kendrick Lamar\n",
      "\n",
      "#Pistas recomendadas#\n",
      "God's Plan                                          Drake\n",
      "Congratulations                                     Post Malone\n",
      "No Role Modelz                                      J. Cole\n",
      "BUTTERFLY EFFECT                                    Travis Scott\n",
      "goosebumps                                          Travis Scott\n",
      "Closer                                              The Chainsmokers\n",
      "Young Dumb & Broke                                  Khalid\n",
      "I'm the One                                         DJ Khaled\n",
      "Nice For What                                       Drake\n",
      "Low Life                                            Future\n",
      "\n",
      "#Pistas para validación#\n",
      "Gold Digger                                         Kanye West\n",
      "Exchange                                            Bryson Tiller\n",
      "Slide (feat. Frank Ocean & Migos)                   Calvin Harris\n",
      "Now Or Never                                        Halsey\n",
      "Now Or Never - R3hab Remix                          Halsey\n",
      "Promiscuous                                         Nelly Furtado\n",
      "Kiss Kiss (feat. T-Pain)                            Chris Brown\n",
      "Sexy Can I feat. Yung Berg                          Ray J\n",
      "Ridin' Solo                                         Jason Derulo\n",
      "Beautiful Girls - Radio Disney Version              Sean Kingston\n"
     ]
    }
   ],
   "source": [
    "experiment_2_printer(results_experiment_3[1])"
   ]
  },
  {
   "cell_type": "code",
   "execution_count": 33,
   "metadata": {},
   "outputs": [
    {
     "data": {
      "text/plain": [
       "{'top_10': {'common': set(), 'score': 0.0},\n",
       " 'top_25': {'common': set(), 'score': 0.0},\n",
       " 'top_50': {'common': {'110636', '142562', '241082'},\n",
       "  'score': 0.21428571428571427},\n",
       " 'top_100': {'common': {'110636', '142562', '241082', '441732'},\n",
       "  'score': 0.2857142857142857}}"
      ]
     },
     "execution_count": 33,
     "metadata": {},
     "output_type": "execute_result"
    }
   ],
   "source": [
    "plstrs_rec_analysis(results_experiment_3[1]['recommended_tracks'],\n",
    "                    results_experiment_3[1]['validation_tracks'])"
   ]
  },
  {
   "cell_type": "code",
   "execution_count": 34,
   "metadata": {},
   "outputs": [
    {
     "name": "stdout",
     "output_type": "stream",
     "text": [
      "***PLAYLIST 264337 | neptuno surf shop opening***\n",
      "#Pistas conocidas#\n",
      "Cannonball                                          The Breeders\n",
      "Disorder - 2007 Remastered Version                  Joy Division\n",
      "Charlie Don't Surf                                  The Clash\n",
      "Spanish Bombs                                       The Clash\n",
      "Brand New Cadillac                                  The Clash\n",
      "Lost in the Supermarket                             The Clash\n",
      "Rudie Can't Fail                                    The Clash\n",
      "Hateful                                             The Clash\n",
      "Talking Backwards                                   Real Estate\n",
      "Fingertips                                          The Brian Jonestown Massacre\n",
      "\n",
      "#Pistas recomendadas#\n",
      "Where Is My Mind?                                   Pixies\n",
      "Shuggie                                             Foxygen\n",
      "The Less I Know The Better                          Tame Impala\n",
      "Under the Sun                                       DIIV\n",
      "White Rabbit                                        Jefferson Airplane\n",
      "Elephant                                            Tame Impala\n",
      "Bright Blue Day Haze                                Mystic Braves\n",
      "This Charming Man - 2011 Remaster                   The Smiths\n",
      "Orpheus Under the Influence                         The Buttertones\n",
      "Age Of Consent - 2015 Remastered Version            New Order\n",
      "\n",
      "#Pistas para validación#\n",
      "Hey                                                 Pixies\n",
      "Stained Glass                                       Real Estate\n",
      "Desire Lines                                        Deerhunter\n",
      "Be Nothing                                          Beach Fossils\n",
      "Freaks                                              Surf Curse\n",
      "Feel the Pain                                       Dinosaur Jr.\n",
      "Adult Fear                                          Holy Wave\n"
     ]
    }
   ],
   "source": [
    "experiment_2_printer(results_experiment_3[2])"
   ]
  },
  {
   "cell_type": "code",
   "execution_count": 35,
   "metadata": {},
   "outputs": [
    {
     "data": {
      "text/plain": [
       "{'top_10': {'common': set(), 'score': 0.0},\n",
       " 'top_25': {'common': {'240487', '2547791'}, 'score': 0.2857142857142857},\n",
       " 'top_50': {'common': {'240487', '2547791'}, 'score': 0.2857142857142857},\n",
       " 'top_100': {'common': {'240487', '2547791'}, 'score': 0.2857142857142857}}"
      ]
     },
     "execution_count": 35,
     "metadata": {},
     "output_type": "execute_result"
    }
   ],
   "source": [
    "plstrs_rec_analysis(results_experiment_3[2]['recommended_tracks'],\n",
    "                    results_experiment_3[2]['validation_tracks'])"
   ]
  },
  {
   "cell_type": "markdown",
   "metadata": {},
   "source": [
    "<br>\n",
    "\n",
    "Tras concluir los experimentos realizados hemos comprobado que los resultados esperados, tras las recomendaciones de nuestro modelo para el completado de playlists, son los esperados. En determinados casos las pistas que hemos estrado para validación no se encuentran en el *Top 20*, pero si miramos las recomendaciones ofrecidas podemos ver que las canciones ofrecidas se asemejan lo suficiente con el resto de contenido de las playlists y sus títulos. "
   ]
  },
  {
   "cell_type": "markdown",
   "metadata": {},
   "source": [
    "<div style=\"text-align: right\">\n",
    "<a href=\"#indice\"><font size=5><i class=\"fa fa-arrow-circle-up\" aria-hidden=\"true\" style=\"color:#92002A\"></i></font></a>\n",
    "</div>\n",
    "\n",
    "---\n",
    "\n",
    "<div style=\"text-align: right\"> <font size=6><i class=\"fa fa-graduation-cap\" aria-hidden=\"true\" style=\"color:#92002A\"></i> </font></div>"
   ]
  }
 ],
 "metadata": {
  "kernelspec": {
   "display_name": "Python 3",
   "language": "python",
   "name": "python3"
  },
  "language_info": {
   "codemirror_mode": {
    "name": "ipython",
    "version": 3
   },
   "file_extension": ".py",
   "mimetype": "text/x-python",
   "name": "python",
   "nbconvert_exporter": "python",
   "pygments_lexer": "ipython3",
   "version": "3.9.5"
  }
 },
 "nbformat": 4,
 "nbformat_minor": 4
}
