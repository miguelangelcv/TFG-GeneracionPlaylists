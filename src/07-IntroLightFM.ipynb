{
 "cells": [
  {
   "cell_type": "markdown",
   "metadata": {},
   "source": [
    "<img src=\"images/header.png\" alt=\"Logo UCLM-ESII\" align=\"right\">\n",
    "\n",
    "<br><br><br><br>\n",
    "<h2><font color=\"#92002A\" size=4>Trabajo Fin de Grado</font></h2>\n",
    "\n",
    "<h1><font color=\"#6B001F\" size=5>Generación automática de playlist de canciones <br> mediante técnicas de minería de datos</font></h1>\n",
    "<h2><font color=\"#92002A\" size=3>Parte 7 - Introducción a LightFM</font></h2>\n",
    "\n",
    "<br>\n",
    "<div style=\"text-align: right\">\n",
    "    <font color=\"#B20033\" size=3><strong>Autor</strong>: <em>Miguel Ángel Cantero Víllora</em></font><br>\n",
    "    <br>\n",
    "    <font color=\"#B20033\" size=3><strong>Directores</strong>: <em>José Antonio Gámez Martín</em></font><br>\n",
    "    <font color=\"#B20033\" size=3><em>Juan Ángel Aledo Sánchez</em></font><br>\n",
    "    <br>\n",
    "<font color=\"#B20033\" size=3>Grado en Ingeniería Informática</font><br>\n",
    "<font color=\"#B20033\" size=2>Escuela Superior de Ingeniería Informática | Universidad de Castilla-La Mancha</font>\n",
    "\n",
    "</div>"
   ]
  },
  {
   "cell_type": "markdown",
   "metadata": {},
   "source": [
    "---\n",
    "\n",
    "<br>\n",
    "\n",
    "\n",
    "<a id=\"indice\"></a>\n",
    "<h2><font color=\"#92002A\" size=5>Índice</font></h2>\n",
    "\n",
    "<br>\n",
    "\n",
    "* [1. Introducción](#section1)\n",
    "* [2. Preprocesamiento](#section2)\n",
    "* [3. Modelo](#section3)\n",
    "* [4. Validación cruzada](#section4)\n",
    "* [5. Entrenamiento](#section5)\n",
    "* [6. Evaluación](#section6)\n",
    "* [7. Predicciones](#section7)\n",
    "* [8. Enlaces de interés](#section8)\n",
    "\n",
    "<br>\n",
    "\n",
    "---"
   ]
  },
  {
   "cell_type": "code",
   "execution_count": 1,
   "metadata": {},
   "outputs": [],
   "source": [
    "# Permite establecer la anchura de la celda\n",
    "from IPython.core.display import display, HTML\n",
    "display(HTML(\"<style>.container { width:95% !important; }</style>\"))"
   ]
  },
  {
   "cell_type": "code",
   "execution_count": 2,
   "metadata": {},
   "outputs": [],
   "source": [
    "#!pip install lightfm\n",
    "#!pip install sklearn"
   ]
  },
  {
   "cell_type": "code",
   "execution_count": 3,
   "metadata": {},
   "outputs": [],
   "source": [
    "import html\n",
    "import numpy as np\n",
    "import os\n",
    "import pandas as pd\n",
    "import time"
   ]
  },
  {
   "cell_type": "code",
   "execution_count": 4,
   "metadata": {},
   "outputs": [],
   "source": [
    "NUM_THREADS = 8"
   ]
  },
  {
   "cell_type": "markdown",
   "metadata": {},
   "source": [
    "---\n",
    "\n",
    "<br>\n",
    "\n",
    "\n",
    "<a id=\"section1\"></a>\n",
    "## <font color=\"#92002A\">1 - Introducción</font>\n",
    "<br>\n",
    "\n",
    "En esta libreta vamos a presentar el modelo ***LightFM***, el cual usaremos para construir nuestro sistema de continuación de playlists. Junto a la explicación de las funciones que ofrece, vamos a emplear el conjunto de datos *GoodBooks* que incluimos como ejemplo para ver con más detalle cómo funciona *LightFM*.\n",
    "\n",
    "<br>\n",
    "\n",
    "---\n",
    "\n",
    "<br>\n",
    "\n",
    "<a id=\"section11\"></a>\n",
    "### <font color=\"#92002A\">1.1 - ¿Qué es *LightFM*?</font>\n",
    "<br>\n",
    "\n",
    "*LightFM* es una implementación en *Python* de una serie de algoritmos de recomendación para la retroalimentación implícita y explícita, incluida la implementación eficiente de las funciones de pérdida BPR y WARP. Es fácil de usar, rápido (a través de la estimación de modelos multiproceso) y produce resultados de alta calidad.\n",
    "\n",
    "También permite incorporar metadatos de elementos y usuarios en los algoritmos tradicionales de factorización matricial, representando a cada usuario y elemento como la suma de las representaciones latentes de sus características, permitiendo así que las recomendaciones se generalicen a nuevos elementos (a través de las características del elemento) y a nuevos usuarios (a través de las características del usuario).\n",
    "\n",
    "<br>\n",
    "\n",
    "<br>\n",
    "\n",
    "<div class=\"alert alert-block alert-warning\">\n",
    "    \n",
    "<i class=\"fa fa-exclamation-circle\" aria-hidden=\"true\"></i>\n",
    "__Importante__: *LightFM* hace uso de la librería **OpenMP**. En el caso de *Windows* y *macOS* no podremos emplear más de un hilo para realizar diferentes tareas (como la de entrenamiento), por lo que en caso de requerir el uso de múltiples hilos es necesario emplear un sistema operativo *Linux*.\n",
    "</div>\n",
    "\n",
    "<br>\n",
    "\n",
    "---\n",
    "\n",
    "\n",
    "<br>\n",
    "\n",
    "\n",
    "<a id=\"section12\"></a>\n",
    "### <font color=\"#92002A\">1.2 - Motivo de la elección</font>\n",
    "\n",
    "<br>\n",
    "\n",
    "La razón por la cual hemos optado por la librería *LightFM* es el uso de un sistema de recomendación hibrido, el cual resulta de combinar el filtrado colaborativo y el filtrado basado en contenido.\n",
    "\n",
    "Otra de las razones por las cuales hemos optado por ella, es el problema del *arranque en frio*. En nuestro proyecto, debemos ser capaces de realizar una recomendación basada en las características del usuario y sin tener ninguna valoración previa de éste.\n",
    "\n",
    "\n",
    "<br>\n",
    "\n",
    "----\n",
    "\n",
    "<a id=\"section13\"></a>\n",
    "### <font color=\"#92002A\">1.3 - DataSet GoodBooks</font>\n",
    "<br>\n",
    "\n",
    "*LightFM* proporciona dos *DataSets* con los que podemos realizar pruebas (uno de películas y otro bursátil). Puesto que ninguno de ellos contiene información sobre los usuarios (*features*) y también nos interesa estudiar la parte del preprocesado de los datos, vamos a hacer uso del conjunto de datos *GoodBooks*, que podemos encontrar en el siguiente [enlace](http://www2.informatik.uni-freiburg.de/~cziegler/BX/BX-CSV-Dump.zip).\n",
    "\n",
    "Dicho conjunto de datos nos proporciona tres ficheros:\n",
    "\n",
    "* `BX-Users.csv`, el cual nos proporciona información sobre los usuarios.\n",
    "* `BX-Books.csv` contiene información acerca de los libros empleados en el conjunto.\n",
    "* `BX-Books-Ratings.csv` proporciona las calificaciones que los usuarios han realizado sobre el conjunto de libros.\n",
    "\n",
    "<br>\n",
    "\n",
    "Para facilitar el proceso de obtención, hemos creado un módulo de Python llamado ***goodbooks***. Tras importarlo a nuestro proyecto, podemos obtener el conjunto de usuarios, libros y calificaciones de la siguiente manera:\n",
    "* **get_data()**: devuelve tres objetos DictReader en el siguiente orden:\n",
    "        1. Características de usuarios\n",
    "        2. Características de libros\n",
    "        3. Calificaciones\n",
    "* **get_user_features()**: devuelve las características de los usuarios.\n",
    "* **get_book_features()**: devuelve las características de los libros.\n",
    "* **get_ratings()**: devuelve las calificaciones realizadas.\n",
    "\n",
    "<br>\n",
    "\n",
    "<div class=\"alert alert-block alert-info\">\n",
    "    \n",
    "<i class=\"fa fa-info-circle\" aria-hidden=\"true\"></i> __Nota__: *DictReader* crea un objeto el cuál mapea la información leída a un diccionario.\n",
    "</div>"
   ]
  },
  {
   "cell_type": "code",
   "execution_count": 5,
   "metadata": {},
   "outputs": [],
   "source": [
    "import modules.goodbooks as goodbooks"
   ]
  },
  {
   "cell_type": "markdown",
   "metadata": {},
   "source": [
    "<div style=\"text-align: right\">\n",
    "<a href=\"#indice\"><font size=5><i class=\"fa fa-arrow-circle-up\" aria-hidden=\"true\" style=\"color:#92002A\"></i></font></a>\n",
    "</div>\n",
    "\n",
    "---"
   ]
  },
  {
   "cell_type": "markdown",
   "metadata": {},
   "source": [
    "<a id=\"section2\"></a>\n",
    "## <font color=\"#92002A\">2 - Preprocesamiento</font>\n",
    "\n",
    "<br>\n",
    "\n",
    "Para comenzar a usar *LightFM*, debemos preparar los datos que tenemos según el formato que nos indica la librería. Para esta tarea haremos uso de la clase `lightfm.data.Dataset`, la cual nos ayudará con la construcción.\n",
    "\n",
    "Los datos que debemos obtener, son los siguientes:\n",
    "* **Interacciones**.\n",
    "* **Características del usuario**.\n",
    "* **Características del item**.\n",
    "\n",
    "\n",
    "<br>\n",
    "\n",
    "Antes de crear las matrices que hemos mencionado, debemos crear un objeto de tipo `Dataset`: "
   ]
  },
  {
   "cell_type": "code",
   "execution_count": 6,
   "metadata": {},
   "outputs": [
    {
     "name": "stderr",
     "output_type": "stream",
     "text": [
      "c:\\pythonenv\\finaltfg\\lib\\site-packages\\lightfm\\_lightfm_fast.py:9: UserWarning: LightFM was compiled without OpenMP support. Only a single thread will be used.\n",
      "  warnings.warn('LightFM was compiled without OpenMP support. '\n"
     ]
    }
   ],
   "source": [
    "from lightfm.data import Dataset\n",
    "\n",
    "books_dataset = Dataset()"
   ]
  },
  {
   "cell_type": "markdown",
   "metadata": {},
   "source": [
    "Tras crear el objeto `books_dataset`, mapeamos los identificadores de los usuarios y los items de nuestro conjunto mediante la función **fit**:"
   ]
  },
  {
   "cell_type": "code",
   "execution_count": 7,
   "metadata": {},
   "outputs": [],
   "source": [
    "books_dataset.fit((x['User-ID'] for x in goodbooks.get_ratings()), \n",
    "                  (x['ISBN'] for x in goodbooks.get_ratings()))"
   ]
  },
  {
   "cell_type": "code",
   "execution_count": 8,
   "metadata": {},
   "outputs": [
    {
     "name": "stdout",
     "output_type": "stream",
     "text": [
      "num users: 105283, num_items 340553.\n"
     ]
    }
   ],
   "source": [
    "num_users, num_items = books_dataset.interactions_shape()\n",
    "print('num users: {}, num_items {}.'.format(num_users, num_items))"
   ]
  },
  {
   "cell_type": "markdown",
   "metadata": {},
   "source": [
    "A continuación, incorporamos los items (libros) y los usuarios junto a sus correspondientes características:"
   ]
  },
  {
   "cell_type": "code",
   "execution_count": 9,
   "metadata": {},
   "outputs": [],
   "source": [
    "books_dataset.fit_partial(items=(x['ISBN'] for x in goodbooks.get_book_features()),\n",
    "                          item_features=(x['Book-Author'] for x in goodbooks.get_book_features()),\n",
    "                          users=(x['User-ID'] for x in goodbooks.get_user_features()),\n",
    "                          user_features=(x['Age'] for x in goodbooks.get_user_features()))"
   ]
  },
  {
   "cell_type": "markdown",
   "metadata": {},
   "source": [
    "Una vez realizado el proceso anterior, ya podemos crear las matrices que necesitamos para poder construir un modelo de *LightFM*.\n",
    "\n",
    "Las interacciones consisten en dos matrices de tipo `sparse.coo_matrix`, cuyo tamaño es *(num_users , num_items)*. En la primera matriz, se indica la interacción de los usuarios con los items (cuyos valores posibles son *1*, si existe interacción, y *0* en caso contrario). La segunda matriz es similar, salvo que en vez de almacenar si existe interacción o no, almacenamos el *peso* de ésta.\n",
    "\n",
    "Mediante la función [***build_interactions***()](http://lyst.github.io/lightfm/docs/lightfm.data.html#lightfm.data.Dataset.build_interactions), que esta disponible dentro de la clase `Dataset`, podemos construir dichas matrices."
   ]
  },
  {
   "cell_type": "code",
   "execution_count": 10,
   "metadata": {},
   "outputs": [
    {
     "name": "stdout",
     "output_type": "stream",
     "text": [
      "<278858x341762 sparse matrix of type '<class 'numpy.int32'>'\n",
      "\twith 1149780 stored elements in COOrdinate format>\n"
     ]
    }
   ],
   "source": [
    "(interactions, weights) = books_dataset.build_interactions(((x['User-ID'], x['ISBN'],int(x['Book-Rating']))\n",
    "                                                            for x in goodbooks.get_ratings()))\n",
    "\n",
    "print(repr(interactions))"
   ]
  },
  {
   "cell_type": "markdown",
   "metadata": {},
   "source": [
    "Hasta este punto ya tenemos lo necesario para construir un modelo *LightFM*, puesto que ya hemos codificado las interacciones entre usuarios y los items.\n",
    "\n",
    "Como tenemos características de los usuarios y de los items, también podemos crear las correspondientes matrices de características empleando las funciones [***build_item_features***()](http://lyst.github.io/lightfm/docs/lightfm.data.html#lightfm.data.Dataset.build_item_features) y [***build_user_features***()](http://lyst.github.io/lightfm/docs/lightfm.data.html#lightfm.data.Dataset.build_user_features):"
   ]
  },
  {
   "cell_type": "code",
   "execution_count": 11,
   "metadata": {},
   "outputs": [
    {
     "name": "stdout",
     "output_type": "stream",
     "text": [
      "<341762x443805 sparse matrix of type '<class 'numpy.float32'>'\n",
      "\twith 613141 stored elements in Compressed Sparse Row format>\n"
     ]
    }
   ],
   "source": [
    "item_features = books_dataset.build_item_features(((x['ISBN'], [x['Book-Author']])\n",
    "                                                   for x in goodbooks.get_book_features()))\n",
    "print(repr(item_features))"
   ]
  },
  {
   "cell_type": "code",
   "execution_count": 12,
   "metadata": {},
   "outputs": [
    {
     "name": "stdout",
     "output_type": "stream",
     "text": [
      "<278858x278860 sparse matrix of type '<class 'numpy.float32'>'\n",
      "\twith 557716 stored elements in Compressed Sparse Row format>\n"
     ]
    }
   ],
   "source": [
    "user_features = books_dataset.build_user_features(((x['User-ID'], [x['Age']])\n",
    "                                                   for x in goodbooks.get_user_features()))\n",
    "print(repr(user_features))"
   ]
  },
  {
   "cell_type": "code",
   "execution_count": 13,
   "metadata": {},
   "outputs": [
    {
     "data": {
      "text/plain": [
       "array(['034545104X', '0155061224', '0446520802', '052165615X',\n",
       "       '0521795028', '2080674722', '3257224281', '0600570967',\n",
       "       '038550120X', '342310538'], dtype='<U14')"
      ]
     },
     "execution_count": 13,
     "metadata": {},
     "output_type": "execute_result"
    }
   ],
   "source": [
    "item_labels = np.array([x['ISBN'] for x in goodbooks.get_ratings()])\n",
    "item_labels[0:10]"
   ]
  },
  {
   "cell_type": "code",
   "execution_count": 14,
   "metadata": {},
   "outputs": [
    {
     "data": {
      "text/plain": [
       "array(['276725', '276726', '276727', '276729', '276729', '276733',\n",
       "       '276736', '276737', '276744', '276745'], dtype='<U6')"
      ]
     },
     "execution_count": 14,
     "metadata": {},
     "output_type": "execute_result"
    }
   ],
   "source": [
    "user_labels = np.array([x['User-ID'] for x in goodbooks.get_ratings()])\n",
    "user_labels[0:10]"
   ]
  },
  {
   "cell_type": "markdown",
   "metadata": {},
   "source": [
    "<div style=\"text-align: right\">\n",
    "<a href=\"#indice\"><font size=5><i class=\"fa fa-arrow-circle-up\" aria-hidden=\"true\" style=\"color:#92002A\"></i></font></a>\n",
    "</div>\n",
    "\n",
    "---"
   ]
  },
  {
   "cell_type": "markdown",
   "metadata": {},
   "source": [
    "<a id=\"section3\"></a>\n",
    "## <font color=\"#92002A\">3 - Modelo</font>\n",
    "\n",
    "<br>\n",
    "\n",
    "Para crear un modelo *LightFM*, emplearemos la siguiente clase `lightfm.LightFM`. La definición del modelo se realiza de la siguiente manera:\n",
    "\n",
    "\n",
    "```python\n",
    "LightFM(no_components=10, k=5, n=10, learning_schedule=’adagrad’, loss=’logistic’, \n",
    "        learning_rate=0.05, rho=0.95, epsilon=1e-06, item_alpha=0.0, user_alpha=0.0, \n",
    "        max_sampled=10, random_state=None)[source]\n",
    "```\n",
    "<br>\n",
    "\n",
    "A continuación, pasamos a describir algunos de sus parámetros más importantes (el resto podemos encontrarlo en la [documentación oficial](http://lyst.github.io/lightfm/docs/lightfm.html#lightfm.LightFM):\n",
    "\n",
    "* *Función de pérdida (loss)*. Tenemos disponibles las siguientes funciones:\n",
    "    * **logistic**: Útil cuando en las interacciones encontramos valores positivos (1) y negativos (-1).\n",
    "    * **BPR**: *Bayesian Personalised Ranking*. Maximiza la diferencia de predicción entre un ejemplo positivo y un ejemplo negativo elegido al azar. Es útil cuando sólo hay interacciones positivas y se desea optimizar ROC AUC.\n",
    "    * **WARP**: *Weighted Approximate-Rank Pairwise*. Maximiza el rango de ejemplos positivos al muestrear repetidamente ejemplos negativos hasta que se encuentre el rango lo incumpla. Es útil cuando solo hay interacciones positivas y se desea optimizar la parte superior de la lista de recomendaciones (precision@k).\n",
    "    * **k-OS WARP**: *k-th order statistic loss*. Una modificación de WARP que utiliza el k-ésimo ejemplo positivo para cualquier usuario dado como base para actualizaciones por pares.\n",
    "    \n",
    "<br>\n",
    "\n",
    "* *Learning Schedule (learning_schedule*. Nos encontramos con dos opciones disponibles:\n",
    "    * [**adagrag**](https://ruder.io/optimizing-gradient-descent/index.html#adagrad).\n",
    "    * [**adadelta**](https://ruder.io/optimizing-gradient-descent/index.html#adadelta).\n",
    "\n",
    "<br>\n",
    "\n",
    "Para el ejemplo en el cual nos encontramos, vamos a emplear la función de perdida *WARP* y vamos a dejar el resto de los parámetros a su valor por defecto:"
   ]
  },
  {
   "cell_type": "code",
   "execution_count": 15,
   "metadata": {},
   "outputs": [
    {
     "name": "stdout",
     "output_type": "stream",
     "text": [
      "{'loss': 'bpr', 'learning_schedule': 'adagrad', 'no_components': 10, 'learning_rate': 0.05, 'k': 5, 'n': 10, 'rho': 0.95, 'epsilon': 1e-06, 'max_sampled': 10, 'item_alpha': 0.0, 'user_alpha': 0.0, 'random_state': RandomState(MT19937) at 0x213E8FEF8C8}\n"
     ]
    }
   ],
   "source": [
    "from lightfm import LightFM\n",
    "\n",
    "model = LightFM(loss='bpr')\n",
    "\n",
    "print(model.get_params())"
   ]
  },
  {
   "cell_type": "markdown",
   "metadata": {},
   "source": [
    "<div style=\"text-align: right\">\n",
    "<a href=\"#indice\"><font size=5><i class=\"fa fa-arrow-circle-up\" aria-hidden=\"true\" style=\"color:#92002A\"></i></font></a>\n",
    "</div>\n",
    "\n",
    "---"
   ]
  },
  {
   "cell_type": "markdown",
   "metadata": {},
   "source": [
    "<a id=\"section4\"></a>\n",
    "## <font color=\"#92002A\">4 - Validación cruzada</font>\n",
    "\n",
    "<br>\n",
    "\n",
    "*LigtFM* Incorpora una clase que nos permite realizar el proceso de validación cruzada. En el módulo `lightfm.cross_validation` nos encontramos con la función ***random_train_test_split***(), la cual toma un conjunto de interacción y lo divide en dos conjuntos disjuntos, un conjunto de entrenamiento y un conjunto de prueba. Hay que tener en cuenta que no se hace ningún esfuerzo para asegurarse de que todos los elementos y usuarios con interacciones en el conjunto de pruebas también tengan interacciones en el conjunto de entrenamiento (lo que puede conducir a un problema parcial de *arranque en frío* en el conjunto de prueba.\n",
    "<br>"
   ]
  },
  {
   "cell_type": "code",
   "execution_count": 16,
   "metadata": {},
   "outputs": [],
   "source": [
    "from lightfm.cross_validation import random_train_test_split\n",
    "\n",
    "train, test = random_train_test_split(interactions, test_percentage=0.2, random_state=None)"
   ]
  },
  {
   "cell_type": "code",
   "execution_count": 17,
   "metadata": {},
   "outputs": [
    {
     "name": "stdout",
     "output_type": "stream",
     "text": [
      "<278858x341762 sparse matrix of type '<class 'numpy.int32'>'\n",
      "\twith 919824 stored elements in COOrdinate format>\n"
     ]
    }
   ],
   "source": [
    "print(repr(train))"
   ]
  },
  {
   "cell_type": "code",
   "execution_count": 18,
   "metadata": {},
   "outputs": [
    {
     "name": "stdout",
     "output_type": "stream",
     "text": [
      "<278858x341762 sparse matrix of type '<class 'numpy.int32'>'\n",
      "\twith 229956 stored elements in COOrdinate format>\n"
     ]
    }
   ],
   "source": [
    "print(repr(test))"
   ]
  },
  {
   "cell_type": "markdown",
   "metadata": {},
   "source": [
    "<div style=\"text-align: right\">\n",
    "<a href=\"#indice\"><font size=5><i class=\"fa fa-arrow-circle-up\" aria-hidden=\"true\" style=\"color:#92002A\"></i></font></a>\n",
    "</div>\n",
    "\n",
    "---"
   ]
  },
  {
   "cell_type": "markdown",
   "metadata": {},
   "source": [
    "<a id=\"section5\"></a>\n",
    "## <font color=\"#92002A\">5 - Entrenamiento</font>\n",
    "\n",
    "<br>\n",
    "\n",
    "El proceso de entrenamiento podemos realizarlo de forma completa [(*fit*)](http://lyst.github.io/lightfm/docs/lightfm.html#lightfm.LightFM.fit) y de forma parcial [(*fit_partial*)](http://lyst.github.io/lightfm/docs/lightfm.html#lightfm.LightFM.fit_partial). Si optamos por esta última, podemos optar por realizar el entrenamiento de forma parcial (en varias etapas).\n",
    "\n",
    "<br>\n",
    "\n",
    "```python\n",
    "fit(interactions, user_features=None, item_features=None, sample_weight=None, epochs=1, num_threads=1, verbose=False\n",
    "```\n",
    "\n",
    "<br>\n",
    "\n",
    "Para el dataset que estamos empleando como ejemplo, vamos a realizar el proceso de entrenamiento de forma completa:"
   ]
  },
  {
   "cell_type": "code",
   "execution_count": 19,
   "metadata": {},
   "outputs": [
    {
     "name": "stdout",
     "output_type": "stream",
     "text": [
      "Epoch 0\n",
      "Epoch 1\n",
      "Epoch 2\n",
      "Epoch 3\n",
      "Epoch 4\n",
      "Epoch 5\n",
      "Epoch 6\n",
      "Epoch 7\n",
      "Epoch 8\n",
      "Epoch 9\n"
     ]
    },
    {
     "data": {
      "text/plain": [
       "<lightfm.lightfm.LightFM at 0x213edb26508>"
      ]
     },
     "execution_count": 19,
     "metadata": {},
     "output_type": "execute_result"
    }
   ],
   "source": [
    "model.fit(train, item_features=item_features, user_features=user_features, \n",
    "          verbose=True, epochs=10, num_threads=NUM_THREADS)"
   ]
  },
  {
   "cell_type": "markdown",
   "metadata": {},
   "source": [
    "<div style=\"text-align: right\">\n",
    "<a href=\"#indice\"><font size=5><i class=\"fa fa-arrow-circle-up\" aria-hidden=\"true\" style=\"color:#92002A\"></i></font></a>\n",
    "</div>\n",
    "\n",
    "---"
   ]
  },
  {
   "cell_type": "markdown",
   "metadata": {},
   "source": [
    "<a id=\"section6\"></a>\n",
    "## <font color=\"#92002A\">6 - Evaluación</font>\n",
    "\n",
    "<br>\n",
    "\n",
    "Dentro del módulo `lightfm.evaluation`, podemos encontrar funciones de evaluación adecuadas para juzgar el rendimiento de un modelo *LightFM* entrenado:\n",
    "\n",
    "* **precision_at_k**: Mide la precisión empleando la métrica *k* para un modelo: la fracción de positivos conocidos en las primeras *k* posiciones de la lista clasificada de resultados.\n",
    "* **recall_at_k**: Mide el número de elementos positivos en las primeras k posiciones de la lista clasificada de resultados dividido por el número de elementos positivos en el período de prueba.\n",
    "* **auc_score**: Mide la probabilidad de que un ejemplo positivo elegido al azar tenga una puntuación más alta que un ejemplo negativo elegido al azar.\n",
    "* **reciprocal_rank**: 1 / (rango del ejemplo positivo mejor clasificado).\n",
    "\n",
    "En las métricas anteriores, la puntuación más alta es *1* y la más baja es *0*.\n",
    "\n",
    "\n",
    "<br>\n",
    "\n",
    "Para nuestro modelo, vamos a probar las métricas *precision_at_k*, *recall_at_k* y *auc_score*:"
   ]
  },
  {
   "cell_type": "code",
   "execution_count": null,
   "metadata": {},
   "outputs": [],
   "source": [
    "from lightfm.evaluation import precision_at_k, recall_at_k, auc_score\n",
    "\n",
    "precision = precision_at_k(model, num_threads=NUM_THREADS, k=10,\n",
    "                           test_interactions=test,train_interactions=train,                                 \n",
    "                           item_features=item_features, user_features=user_features).mean()\n",
    "\n",
    "print(f'Precision: {precision}')\n",
    "\n",
    "recall = recall_at_k(model, num_threads=NUM_THREADS, k=10,\n",
    "                     test_interactions=test,train_interactions=train,\n",
    "                     item_features=item_features, user_features=user_features).mean()\n",
    "\n",
    "print(f'Recall: {recall}')\n",
    "\n",
    "auc = auc_score(model, num_threads=NUM_THREADS,\n",
    "                      test_interactions=test,train_interactions=train,\n",
    "                      item_features=item_features, user_features=user_features).mean()\n",
    "print(f'AUC: {auc}')"
   ]
  },
  {
   "cell_type": "markdown",
   "metadata": {},
   "source": [
    "<div style=\"text-align: right\">\n",
    "<a href=\"#indice\"><font size=5><i class=\"fa fa-arrow-circle-up\" aria-hidden=\"true\" style=\"color:#92002A\"></i></font></a>\n",
    "</div>\n",
    "\n",
    "---"
   ]
  },
  {
   "cell_type": "markdown",
   "metadata": {},
   "source": [
    "<a id=\"section7\"></a>\n",
    "## <font color=\"#92002A\">7 - Predicción</font>\n",
    "\n",
    "<br>\n",
    "\n",
    "Por último, en esta última sección hemos creado una función para realizar recomendaciones a los usuarios del conjunto de datos empleado. Tras su ejecución, mostrara qué libros le gustan al usuario/s y cuales podemos recomendarle/s.\n",
    "\n",
    "<br>\n",
    "\n",
    "Las predicciones las realizaremos mediante la función ***predict***, indicando los usuarios a los que queremos realizar las recomendaciones:"
   ]
  },
  {
   "cell_type": "code",
   "execution_count": 20,
   "metadata": {},
   "outputs": [],
   "source": [
    "book_dict = dict([(x['ISBN'], (x['Book-Title'], x['Book-Author']))\n",
    "                  for x in goodbooks.get_book_features()])"
   ]
  },
  {
   "cell_type": "code",
   "execution_count": 21,
   "metadata": {},
   "outputs": [],
   "source": [
    "def sample_recommendation(model, data, user_ids, u_features=None, n_threads=1):\n",
    "\n",
    "    #number of users and books in training data\n",
    "    n_users, n_items = data.shape\n",
    "\n",
    "    #generate recommendations for each user we input\n",
    "    for user_id in user_ids:\n",
    "\n",
    "        #books they already like\n",
    "        known_positives = item_labels[data.tocsr()[user_id].indices]\n",
    "\n",
    "        #books our model predicts they will like\n",
    "        scores = model.predict(user_id, np.arange(n_items), user_features=u_features, num_threads=n_threads)\n",
    "        #rank them in order of most liked to least\n",
    "        top_items = item_labels[np.argsort(-scores)]\n",
    "\n",
    "        #print out the results\n",
    "        print(\"User %s\" % user_id)\n",
    "        print(\"  Known positives:\")\n",
    "\n",
    "        for x in known_positives[:5]:\n",
    "            if x in book_dict:\n",
    "                print(f\"    {book_dict[x][0]} ({book_dict[x][1]})\")\n",
    "            else:\n",
    "                print(f\"    {x}\")\n",
    "\n",
    "        print(\"  Recommended:\")\n",
    "\n",
    "        for x in top_items[:5]:\n",
    "            if x in book_dict:\n",
    "                print(f\"    {book_dict[x][0]} ({book_dict[x][1]})\")\n",
    "            else:\n",
    "                print(f\"    {x}\")\n",
    "        print()"
   ]
  },
  {
   "cell_type": "code",
   "execution_count": 22,
   "metadata": {},
   "outputs": [
    {
     "name": "stdout",
     "output_type": "stream",
     "text": [
      "User 2342\n",
      "  Known positives:\n",
      "    Wayside School is Falling Down (Louis Sachar)\n",
      "    Watermelon (Marian Keyes)\n",
      "    Lucy Sullivan Is Getting Married (Marian Keyes)\n",
      "    Smart Vs. Pretty (Valerie Frankel)\n",
      "    The Princess Diaries (Meg Cabot)\n",
      "  Recommended:\n",
      "    0140296794\n",
      "    Wild Animus (Rich Shapero)\n",
      "    The Keys to the Street (Ruth Rendell)\n",
      "    0850791154\n",
      "    Berlin Diaries, 1940-1945 (Marie Vassiltchikov)\n",
      "\n",
      "User 9567\n",
      "  Known positives:\n",
      "    Dancing on Air (Harper Monogram) (Susan Wiggs)\n",
      "    Comeback (Dick Francis)\n",
      "    How the Garcia Girls Lost Their Accents (Plume Contemporary Fiction) (Julia Alvarez)\n",
      "  Recommended:\n",
      "    Shameless (Jennifer Blake)\n",
      "    Berlin Diaries, 1940-1945 (Marie Vassiltchikov)\n",
      "    Acid Row (Minette Walters)\n",
      "    Hemlock Bay (Catherine Coulter)\n",
      "    The Long Silence of Mario Salviati : A Novel (Etienne van Heerden)\n",
      "\n",
      "User 6756\n",
      "  Known positives:\n",
      "    Being There (Jerzy Kosinski)\n",
      "    I Know Why the Caged Bird Sings (MAYA ANGELOU)\n",
      "  Recommended:\n",
      "    0099255189\n",
      "    Terminal (Robin Cook)\n",
      "    Coming Home (Rosamunde Pilcher)\n",
      "    0006915132\n",
      "    JaneDentinger\n",
      "\n"
     ]
    }
   ],
   "source": [
    "sample_recommendation(model, interactions, [2342,9567,6756], u_features=user_features, n_threads=NUM_THREADS)"
   ]
  },
  {
   "cell_type": "markdown",
   "metadata": {},
   "source": [
    "<div style=\"text-align: right\">\n",
    "<a href=\"#indice\"><font size=5><i class=\"fa fa-arrow-circle-up\" aria-hidden=\"true\" style=\"color:#92002A\"></i></font></a>\n",
    "</div>\n",
    "\n",
    "---"
   ]
  },
  {
   "cell_type": "markdown",
   "metadata": {},
   "source": [
    "<a id=\"section8\"></a>\n",
    "## <font color=\"#92002A\">8 - Enlaces de interés</font>\n",
    "\n",
    "<br>\n",
    "\n",
    "A continuación, hemos adjuntado una serie de enlaces que hemos empleado para realizar esta libreta:\n",
    "\n",
    "* [\"Build a Machine Learning Recommender\" (*James Hope*)](https://towardsdatascience.com/build-a-machine-learning-recommender-72be2a8f96ed).\n",
    "* [\"Recommendation Systems - Learn Python for Data Science\" (*Siraj Raval*)](https://www.youtube.com/watch?v=9gBC9R-msAk) [Video].\n",
    "* [\"Building datasets\" (*LightFM*)](https://making.lyst.com/lightfm/docs/examples/dataset.html).\n",
    "\n",
    "<br>"
   ]
  },
  {
   "cell_type": "markdown",
   "metadata": {},
   "source": [
    "<div style=\"text-align: right\">\n",
    "<a href=\"#indice\"><font size=5><i class=\"fa fa-arrow-circle-up\" aria-hidden=\"true\" style=\"color:#92002A\"></i></font></a>\n",
    "</div>\n",
    "\n",
    "---\n",
    "\n",
    "<div style=\"text-align: right\"> <font size=6><i class=\"fa fa-graduation-cap\" aria-hidden=\"true\" style=\"color:#92002A\"></i> </font></div>"
   ]
  }
 ],
 "metadata": {
  "kernelspec": {
   "display_name": "Python 3",
   "language": "python",
   "name": "python3"
  },
  "language_info": {
   "codemirror_mode": {
    "name": "ipython",
    "version": 3
   },
   "file_extension": ".py",
   "mimetype": "text/x-python",
   "name": "python",
   "nbconvert_exporter": "python",
   "pygments_lexer": "ipython3",
   "version": "3.7.5"
  }
 },
 "nbformat": 4,
 "nbformat_minor": 4
}
