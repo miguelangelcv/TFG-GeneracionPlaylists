{
 "cells": [
  {
   "cell_type": "markdown",
   "metadata": {},
   "source": [
    "<img src=\"images/header.png\" alt=\"Logo UCLM-ESII\" align=\"right\">\n",
    "\n",
    "<br><br><br><br>\n",
    "<h2><font color=\"#92002A\" size=4>Trabajo Fin de Grado</font></h2>\n",
    "\n",
    "<h1><font color=\"#6B001F\" size=5>Generación automática de playlist de canciones <br> mediante técnicas de minería de datos</font></h1>\n",
    "<h2><font color=\"#92002A\" size=3>Parte 10 - Definición del modelo LightFM y entrenamiento</font></h2>\n",
    "\n",
    "<br>\n",
    "<div style=\"text-align: right\">\n",
    "    <font color=\"#B20033\" size=3><strong>Autor</strong>: <em>Miguel Ángel Cantero Víllora</em></font><br>\n",
    "    <br>\n",
    "    <font color=\"#B20033\" size=3><strong>Directores</strong>: <em>José Antonio Gámez Martín</em></font><br>\n",
    "    <font color=\"#B20033\" size=3><em>Juan Ángel Aledo Sánchez</em></font><br>\n",
    "    <br>\n",
    "<font color=\"#B20033\" size=3>Grado en Ingeniería Informática</font><br>\n",
    "<font color=\"#B20033\" size=2>Escuela Superior de Ingeniería Informática | Universidad de Castilla-La Mancha</font>\n",
    "\n",
    "</div>"
   ]
  },
  {
   "cell_type": "markdown",
   "metadata": {},
   "source": [
    "---\n",
    "\n",
    "<br>\n",
    "\n",
    "\n",
    "<a id=\"indice\"></a>\n",
    "<h2><font color=\"#92002A\" size=5>Índice</font></h2>\n",
    "\n",
    "<br>\n",
    "\n",
    "* [1. Definición de funcion para entrenamiento](#section1)\n",
    "* [2. Carga de datos](#section2)\n",
    "* [3. Proceso de entrenamiento](#section3)\n",
    "\n",
    "<br>\n",
    "\n",
    "---"
   ]
  },
  {
   "cell_type": "code",
   "execution_count": null,
   "metadata": {},
   "outputs": [],
   "source": [
    "# Permite establecer la anchura de la celda\n",
    "#from IPython.core.display import display, HTML\n",
    "#display(HTML(\"<style>.container { width:95% !important; }</style>\"))"
   ]
  },
  {
   "cell_type": "code",
   "execution_count": null,
   "metadata": {},
   "outputs": [],
   "source": [
    "import joblib\n",
    "import numpy as np\n",
    "import os\n",
    "import pandas as pd\n",
    "import pickle\n",
    "import time\n",
    "\n",
    "from lightfm import LightFM\n",
    "from modules.TelegramBot import telegram_bot_sendtext"
   ]
  },
  {
   "cell_type": "code",
   "execution_count": null,
   "metadata": {},
   "outputs": [],
   "source": [
    "# Variables globales\n",
    "SEED = 1\n",
    "NUM_THREADS = 8\n",
    "\n",
    "# Directorio empleado para guardar/leer los datos generados\n",
    "MPD_CSV_PATH = 'MPD_CSV'\n",
    "MODELS_PATH = 'models'\n",
    "MPD_LFM_PATH = os.path.join(MPD_CSV_PATH, \"mpd_lightfm.pickle\")"
   ]
  },
  {
   "cell_type": "markdown",
   "metadata": {},
   "source": [
    "---\n",
    "\n",
    "<br>\n",
    "\n",
    "\n",
    "<a id=\"section1\"></a>\n",
    "## <font color=\"#92002A\">1 - Definición de funcion para entrenamiento</font>\n",
    "<br>\n",
    "\n",
    "\n",
    "<br>"
   ]
  },
  {
   "cell_type": "code",
   "execution_count": null,
   "metadata": {},
   "outputs": [],
   "source": [
    "# Función que se encarga de entrenar el modelo y una vez que ha concluido el proceso\n",
    "# lo almacena en un fichero mediante joblib.\n",
    "def train_model(model, interactions, interactions_weights=None, item_features=None, user_features=None,\n",
    "                model_name='model', models_path='', n_epochs=10, n_threads=1, verbose=True, process_name=''):\n",
    "    train_error = False\n",
    "\n",
    "    ## Entrenamiento ##\n",
    "    try:\n",
    "        print(\"Comienza el entrenamiento\")\n",
    "        telegram_bot_sendtext(\"Comienza el entrenamiento\",process_name)\n",
    "\n",
    "        start_time = time.time()\n",
    "        model.fit(interactions=interactions, sample_weight=interactions_weights,\n",
    "                  item_features=item_features, user_features=user_features,\n",
    "                  epochs=n_epochs, num_threads=n_threads, verbose=True)\n",
    "        duration = (time.time() - start_time)\n",
    "\n",
    "        duration = np.round(duration/60,2)\n",
    "        print(\"Entrenamiento completado. Tiempo empleado: {} min.\".format(duration))\n",
    "        telegram_bot_sendtext(\"Entrenamiento completado. Tiempo empleado {} min.\".format(duration), process_name)          \n",
    "    except Exception as e:\n",
    "        print(e)\n",
    "        train_error = True\n",
    "        telegram_bot_sendtext(\"Error: se ha producido un error durante el proceso de entrenamiento\",process_name)       \n",
    "\n",
    "    ## Almacenamiento del modelo ##\n",
    "    try:\n",
    "        if not train_error:\n",
    "            print(\"Almacenando modelo ...\")\n",
    "            telegram_bot_sendtext(\"Almacenando modelo\",process_name)\n",
    "            model_file_path = os.path.join(models_path,\"{}.pkl\".format(model_name))\n",
    "            joblib.dump(model, open(model_file_path, 'wb'))\n",
    "    except Exception as e:\n",
    "        print(e)\n",
    "        train_error = True\n",
    "        telegram_bot_sendtext(\"Error: el modelo no ha podido ser almacenado\", process_name)\n",
    "\n",
    "    ## Comprobación del modelo almacenado ##\n",
    "    try:\n",
    "        if not train_error:\n",
    "            joblib.load(open(model_file_path, 'rb'))\n",
    "            print('Modelo almacendo correctamente')\n",
    "            telegram_bot_sendtext('Modelo almacenado correctamente',process_name)\n",
    "    except:\n",
    "        print(e)\n",
    "        telegram_bot_sendtext(\"Error: el modelo no se ha almacenado correctamente\", process_name)"
   ]
  },
  {
   "cell_type": "markdown",
   "metadata": {},
   "source": [
    "<div style=\"text-align: right\">\n",
    "<a href=\"#indice\"><font size=5><i class=\"fa fa-arrow-circle-up\" aria-hidden=\"true\" style=\"color:#92002A\"></i></font></a>\n",
    "</div>\n",
    "\n",
    "---"
   ]
  },
  {
   "cell_type": "markdown",
   "metadata": {},
   "source": [
    "<a id=\"section2\"></a>\n",
    "## <font color=\"#92002A\">2 - Carga de datos</font>\n",
    "\n",
    "<br>\n",
    "\n",
    "Para el entrenamiento del modelo, únicamente es necesario emplear las matrices creamos en el preprocesamiento y que se encuentran almacenadas en un diccionario dentro de un fichero de *pickle*."
   ]
  },
  {
   "cell_type": "code",
   "execution_count": null,
   "metadata": {},
   "outputs": [],
   "source": [
    "with open(MPD_LFM_PATH, \"rb\") as read_file:\n",
    "    mpd_lfm_dict = pickle.load(read_file)"
   ]
  },
  {
   "cell_type": "markdown",
   "metadata": {},
   "source": [
    "<div style=\"text-align: right\">\n",
    "<a href=\"#indice\"><font size=5><i class=\"fa fa-arrow-circle-up\" aria-hidden=\"true\" style=\"color:#92002A\"></i></font></a>\n",
    "</div>\n",
    "\n",
    "---"
   ]
  },
  {
   "cell_type": "markdown",
   "metadata": {},
   "source": [
    "<a id=\"section3\"></a>\n",
    "## <font color=\"#92002A\">3 - Proceso de entrenamiento</font>\n",
    "\n",
    "<br>\n",
    "\n",
    "Una vez que hemos creado la función que realizará el entrenamiento y guardará el modelo resultante, comenzamos con el entrenamiento:"
   ]
  },
  {
   "cell_type": "code",
   "execution_count": null,
   "metadata": {},
   "outputs": [],
   "source": [
    "model_plstrs = LightFM(loss='warp', no_components=200, max_sampled=30, random_state=SEED)"
   ]
  },
  {
   "cell_type": "code",
   "execution_count": null,
   "metadata": {},
   "outputs": [],
   "source": [
    "train_model(model_plstrs, model_name='tfg_model',n_epochs=150, n_threads=NUM_THREADS, models_path=MODELS_PATH,\n",
    "            interactions=mpd_lfm_dict['plstrs_interactions'], user_features=mpd_lfm_dict['pls_features'])"
   ]
  },
  {
   "cell_type": "markdown",
   "metadata": {},
   "source": [
    "<div style=\"text-align: right\">\n",
    "<a href=\"#indice\"><font size=5><i class=\"fa fa-arrow-circle-up\" aria-hidden=\"true\" style=\"color:#92002A\"></i></font></a>\n",
    "</div>\n",
    "\n",
    "---\n",
    "\n",
    "<div style=\"text-align: right\"> <font size=6><i class=\"fa fa-graduation-cap\" aria-hidden=\"true\" style=\"color:#92002A\"></i> </font></div>"
   ]
  }
 ],
 "metadata": {
  "kernelspec": {
   "display_name": "Python 3",
   "language": "python",
   "name": "python3"
  },
  "language_info": {
   "codemirror_mode": {
    "name": "ipython",
    "version": 3
   },
   "file_extension": ".py",
   "mimetype": "text/x-python",
   "name": "python",
   "nbconvert_exporter": "python",
   "pygments_lexer": "ipython3",
   "version": "3.8.5"
  }
 },
 "nbformat": 4,
 "nbformat_minor": 4
}
