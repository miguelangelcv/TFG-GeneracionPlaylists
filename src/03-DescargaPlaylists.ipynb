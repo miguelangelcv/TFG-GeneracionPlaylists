{
 "cells": [
  {
   "cell_type": "markdown",
   "metadata": {},
   "source": [
    "<img src=\"images/header.png\" alt=\"Logo UCLM-ESII\" align=\"right\">\n",
    "\n",
    "<br><br><br><br>\n",
    "<h2><font color=\"#92002A\" size=4>Trabajo Fin de Grado</font></h2>\n",
    "\n",
    "<h1><font color=\"#6B001F\" size=5>Generación automática de playlist de canciones <br> mediante técnicas de minería de datos</font></h1>\n",
    "<h2><font color=\"#92002A\" size=3>Parte 3 - Descarga de playlists</font></h2>\n",
    "\n",
    "<br>\n",
    "<div style=\"text-align: right\">\n",
    "    <font color=\"#B20033\" size=3><strong>Autor</strong>: <em>Miguel Ángel Cantero Víllora</em></font><br>\n",
    "    <br>\n",
    "    <font color=\"#B20033\" size=3><strong>Directores</strong>: <em>José Antonio Gámez Martín</em></font><br>\n",
    "    <font color=\"#B20033\" size=3><em>Juan Ángel Aledo Sánchez</em></font><br>\n",
    "    <br>\n",
    "<font color=\"#B20033\" size=3>Grado en Ingeniería Informática</font><br>\n",
    "<font color=\"#B20033\" size=2>Escuela Superior de Ingeniería Informática | Universidad de Castilla-La Mancha</font>\n",
    "\n",
    "</div>"
   ]
  },
  {
   "cell_type": "markdown",
   "metadata": {},
   "source": [
    "---\n",
    "\n",
    "<br>\n",
    "\n",
    "<a id=\"indice\"></a>\n",
    "<h2><font color=\"#92002A\" size=5>Índice</font></h2>\n",
    "\n",
    "<br>\n",
    "\n",
    "* [1. Introducción](#section1)\n",
    "* [2. Descarga de playlists](#section2)\n",
    "    * [2.1. Métodos auxiliares](#section21)\n",
    "    * [2.2. Métodos pertenecientes al proceso de descarga](#section22)\n",
    "* [3. Proceso de descarga](#section3)\n",
    "\n",
    "<br>\n",
    "\n",
    "---"
   ]
  },
  {
   "cell_type": "code",
   "execution_count": null,
   "metadata": {},
   "outputs": [],
   "source": [
    "# Permite establecer la anchura de la celda\n",
    "from IPython.core.display import display, HTML\n",
    "display(HTML(\"<style>.container { width:95% !important; }</style>\"))"
   ]
  },
  {
   "cell_type": "code",
   "execution_count": null,
   "metadata": {},
   "outputs": [],
   "source": [
    "import datetime\n",
    "import json\n",
    "import os\n",
    "import requests\n",
    "import spotipy\n",
    "import time\n",
    "import zipfile\n",
    "\n",
    "from spotipy.oauth2 import SpotifyClientCredentials\n",
    "from tqdm.notebook import tqdm as tqdm_nb"
   ]
  },
  {
   "cell_type": "markdown",
   "metadata": {},
   "source": [
    "---\n",
    "\n",
    "<br>\n",
    "\n",
    "<a id=\"section1\"></a>\n",
    "## <font color=\"#92002A\">1 - Introducción</font>\n",
    "\n",
    "<br>\n",
    "\n",
    "En la libreta anterior, [_Preparación de datos para el proceso de descarga_](02-PreparacionDescarga.ipynb), hemos seleccionado un conjunto de identificadores de playlists para descargar. Este conjunto es bastante grande, puesto que al no disponer de información suficiente con los resultados que nos ha devuelto el proceso de búsqueda (identificador, título y número de pistas que contiene la lista de reproducción), necesitamos descargarlos para decidir cuáles de ellos seleccionamos para nuestro DataSet.\n",
    "\n",
    "\n",
    "Para facilitar la tarea de descarga, vamos a establecer 2 de los criterios que habíamos indicado en la libreta [_Estudio del 'Million Playlist Dataset' (MPD)_](00-EstudioMPD.ipynb):\n",
    "\n",
    "* La playlist debe tener al menos _1 seguidor_.\n",
    "* En el momento de descarga, la playlist debe ser _pública_.\n",
    "* La playlist no contiene pistas locales (aquellas que están almacenadas en el dispositivo del usuario y no se encuentran en *Spotify*).\n",
    "\n",
    "\n",
    "Gracias a esto reduciremos el tiempo de descarga, puesto que, como primero hacemos una llamada a la API para ver si la playlist es publica y tiene más de 1 seguidor, la respuesta es inmediata (ya que el sistema no nos tiene que devolver la lista completa).\n",
    "\n",
    "Otra ventaja que obtenemos es la del espacio de almacenamiento, ya que no almacenamos las playlists que no cumplen los criterios anteriores."
   ]
  },
  {
   "cell_type": "markdown",
   "metadata": {},
   "source": [
    "<div style=\"text-align: right\">\n",
    "<a href=\"#indice\"><font size=5><i class=\"fa fa-arrow-circle-up\" aria-hidden=\"true\" style=\"color:#92002A\"></i></font></a>\n",
    "</div>\n",
    "\n",
    "---"
   ]
  },
  {
   "cell_type": "markdown",
   "metadata": {},
   "source": [
    "<a id=\"section2\"></a>\n",
    "## <font color=\"#92002A\">2 - Descarga de playlists</font>\n",
    "\n",
    "<br>\n",
    "\n",
    "Definimos los directorios con los que vamos a trabajar junto a los campos que nos interesa obtener de las playlists:"
   ]
  },
  {
   "cell_type": "code",
   "execution_count": null,
   "metadata": {},
   "outputs": [],
   "source": [
    "# Variables globales\n",
    "\n",
    "# Directorio donde se encuentran los conjuntos de identificadores\n",
    "# que queremos descargar (almacenados en varios ficheros .txt)\n",
    "PLS_ID_PATH = 'pls_id_sets'\n",
    "\n",
    "# Directorio que empleamos para almacenar temporalmente las playlists\n",
    "TEMP_PATH = 'pls_files_tmp'\n",
    "\n",
    "# Directorio donde almacenamos los conjuntos de playlists que hemos\n",
    "# descargado\n",
    "PLS_SET_PATH = 'pls_sets'\n",
    "\n",
    "# Campos que nos interesa descargar de las playlists\n",
    "FIELDS_PL ='collaborative,followers,id,name,tracks'"
   ]
  },
  {
   "cell_type": "markdown",
   "metadata": {},
   "source": [
    "<br>\n",
    "\n",
    "\n",
    "Creamos el gestor de _Spotipy_ que emplearemos para descargar las playlists:"
   ]
  },
  {
   "cell_type": "code",
   "execution_count": null,
   "metadata": {},
   "outputs": [],
   "source": [
    "sp_client_id = '' #SpotifyClientID\n",
    "sp_client_secret = '' #SpotifyClientSecret\n",
    "\n",
    "# Crea el gestor\n",
    "client_credentials_manager = SpotifyClientCredentials(client_id=sp_client_id, client_secret=sp_client_secret)\n",
    "sp = spotipy.Spotify(client_credentials_manager=client_credentials_manager)"
   ]
  },
  {
   "cell_type": "markdown",
   "metadata": {},
   "source": [
    "<div style=\"text-align: right\">\n",
    "<a href=\"#indice\"><font size=5><i class=\"fa fa-arrow-circle-up\" aria-hidden=\"true\" style=\"color:#92002A\"></i></font></a>\n",
    "</div>\n",
    "\n",
    "---"
   ]
  },
  {
   "cell_type": "markdown",
   "metadata": {},
   "source": [
    "<a id=\"section21\"></a>\n",
    "### <font color=\"#B20033\">2.1 - Métodos auxiliares</font>\n",
    "\n",
    "<br>\n",
    "\n",
    "<a id=\"section211\"></a>\n",
    "#### <font color=\"#B20033\">Bot de Telegram</font>\n",
    "\n",
    "<br>\n",
    "\n",
    "Al igual que en la libreta [_Búsqueda de playlists_](01-BusquedaPlaylists.ipynb), creamos un Bot de _Telegram_ para seguir el proceso de descarga:"
   ]
  },
  {
   "cell_type": "code",
   "execution_count": null,
   "metadata": {},
   "outputs": [],
   "source": [
    "tl_bot_token = ''\n",
    "tl_bot_chatID = ''\n",
    "\n",
    "def telegram_bot_sendtext(bot_message, prefix=''):\n",
    "    \"\"\"\n",
    "    :param bot_message: Mensaje que publicará el bot.\n",
    "    :param prefix: Prefijo con que se identificará el mensaje (opcional).\n",
    "    :return: Resultado de la petición.\n",
    "    \"\"\"\n",
    "    bot_token = tl_bot_token\n",
    "    bot_chatID = tl_bot_chatID\n",
    "    \n",
    "    if prefix != '':\n",
    "        bot_message = '[{}]: {}'.format(prefix,bot_message)\n",
    "        \n",
    "    send_text = 'https://api.telegram.org/bot' + bot_token + '/sendMessage?chat_id=' + bot_chatID + '&text=' + bot_message\n",
    "\n",
    "    response = requests.get(send_text)\n",
    "\n",
    "    return response.json()['ok']"
   ]
  },
  {
   "cell_type": "markdown",
   "metadata": {},
   "source": [
    "<br>\n",
    "\n",
    "<div class=\"alert alert-block alert-info\">\n",
    "    \n",
    "<i class=\"fa fa-info-circle\" aria-hidden=\"true\"></i> __Nota__: El argumento `prefix` lo utilizaremos para distinguir desde dónde se ha enviado el mensaje, en caso de que se empleen varios equipos o procesos para la descarga de playlists.\n",
    "</div>\n",
    "\n",
    "<br>"
   ]
  },
  {
   "cell_type": "markdown",
   "metadata": {},
   "source": [
    "Para comprobar que el Bot funciona correctamente:"
   ]
  },
  {
   "cell_type": "code",
   "execution_count": null,
   "metadata": {},
   "outputs": [],
   "source": [
    "#test = telegram_bot_sendtext('Testing Telegram bot')\n",
    "#print(test)"
   ]
  },
  {
   "cell_type": "markdown",
   "metadata": {},
   "source": [
    "<div style=\"text-align: right\">\n",
    "<a href=\"#indice\"><font size=5><i class=\"fa fa-arrow-circle-up\" aria-hidden=\"true\" style=\"color:#92002A\"></i></font></a>\n",
    "</div>\n",
    "\n",
    "---"
   ]
  },
  {
   "cell_type": "markdown",
   "metadata": {},
   "source": [
    "<a id=\"section212\"></a>\n",
    "#### <font color=\"#B20033\">Creación de logs</font>\n",
    "\n",
    "<br>\n",
    "\n",
    "Para almacenar la información del proceso de búsqueda, hemos creado una función que nos permitirá guardar aquellos eventos que consideremos de interés junto a la fecha y hora en la que han ocurrido. El nombre del fichero, por defecto, es `log.txt`."
   ]
  },
  {
   "cell_type": "code",
   "execution_count": null,
   "metadata": {},
   "outputs": [],
   "source": [
    "def write_to_log(text,file_name='log.txt'):\n",
    "    \"\"\"\n",
    "    :param text: Texto a guardar en el log\n",
    "    :param file_name: Nombre del fichero (opcional).\n",
    "    \"\"\"\n",
    "    current_date = datetime.datetime.now()\n",
    "    with open(file_name, 'a') as fp:\n",
    "        fp.write(f'({current_date}):\\t{text}\\n')"
   ]
  },
  {
   "cell_type": "markdown",
   "metadata": {},
   "source": [
    "<div style=\"text-align: right\">\n",
    "<a href=\"#indice\"><font size=5><i class=\"fa fa-arrow-circle-up\" aria-hidden=\"true\" style=\"color:#92002A\"></i></font></a>\n",
    "</div>\n",
    "\n",
    "---"
   ]
  },
  {
   "cell_type": "markdown",
   "metadata": {},
   "source": [
    "<a id=\"section213\"></a>\n",
    "#### <font color=\"#B20033\">Extracción de datos</font>\n",
    "\n",
    "<br>\n",
    "\n",
    "En determinados casos, si el número de pistas que contiene una playlist es demasiado grande, la respuesta a la llamada de la WebAPI no devuelve la lista completa de pistas que conforman dicha playlist. Para resolver este problema, hemos creado una función llamada ***get_playlist_tracks*** que se encargara de proporcionarnos todas las pistas que conforman la playlist solicitada.\n",
    "\n",
    "*Fuente*: [Spotipy: How to read more than 100 tracks from a playlist (Stack Overflow)](https://stackoverflow.com/questions/39086287/spotipy-how-to-read-more-than-100-tracks-from-a-playlist)."
   ]
  },
  {
   "cell_type": "code",
   "execution_count": null,
   "metadata": {},
   "outputs": [],
   "source": [
    "# Obtiene las pistas pertenecientes a una playlist\n",
    "def get_playlist_tracks(username,pl_id):\n",
    "    \"\"\"\n",
    "    :param username: Nombre de usuario al que pertenece la playlist.\n",
    "    :pl_id: Identificador de la playlist. \n",
    "    :return: Lista con el conjunto de pistas.\n",
    "    \"\"\"\n",
    "    results = sp.user_playlist_tracks(username,pl_id)\n",
    "    tracks = results['items']\n",
    "    while results['next']:\n",
    "        results = sp.next(results)\n",
    "        tracks.extend(results['items'])\n",
    "    return tracks"
   ]
  },
  {
   "cell_type": "markdown",
   "metadata": {},
   "source": [
    "<br>\n",
    "\n",
    "Cuando la llamada a la WebAPI nos devuelve una playlist, para cada pista podemos ver en qué fecha se agregó a la lista. Dicha fecha, está en un formato que no es estándar. Para resolver esto, hemos creado la siguiente función que se encarga de convertir el formato de fecha de _Spotify_ a `TimeStamp`:"
   ]
  },
  {
   "cell_type": "code",
   "execution_count": null,
   "metadata": {},
   "outputs": [],
   "source": [
    "# Convierte el formato de fecha de Spotify a TimeStamp\n",
    "def spdate_to_timestamp(date):\n",
    "    \"\"\"\n",
    "    :param date: Fecha en el formato de Spotify.\n",
    "    :return: Fecha en formato 'timestamp'.\n",
    "    \"\"\"\n",
    "    dt = datetime.datetime.strptime(date, '%Y-%m-%dT%H:%M:%SZ')\n",
    "    return int(dt.timestamp())"
   ]
  },
  {
   "cell_type": "markdown",
   "metadata": {},
   "source": [
    "<br>\n",
    "\n",
    "Como no nos interesa toda la información que contiene la lista de pistas que conforman la playlist, con el método ***clean_tracks_info*** nos encargamos de quedarnos con aquellos datos que son relevantes:\n",
    "\n",
    "* **pos**: Posición de una pista dentro de la playlist.\n",
    "* **added_at**: Fecha en la que se ha agregado la pista a la playlist.\n",
    "* **track_name**: Nombre de la pista.\n",
    "* **track_uri**: Dirección Spotify de la pista.\n",
    "* **duration_ms**: Duración en milisegundos de la pista.\n",
    "* **artist_name**: Nombre del artista al que pertenece la pista. En caso de que una pista tenga más de un artista, nos quedamos sólo con el primero (artista principal).\n",
    "* **artist_uri**: Dirección Spotify del artista. Al igual que en *artist_name*, en caso de que una pista tenga más de un artista, nos quedamos sólo con dirección de éste (artista principal).\n",
    "* **album_name**: Nombre del álbum al que pertenece la pista.\n",
    "* **album_uri**: Dirección Spotify del álbum.\n",
    "\n"
   ]
  },
  {
   "cell_type": "code",
   "execution_count": null,
   "metadata": {},
   "outputs": [],
   "source": [
    "# Obtiene aquellos datos que nos interesan de la lista\n",
    "# de pistas que contiene la playlist y devuelve una \n",
    "# lista de pistas en formato de diccionario\n",
    "def clean_tracks_info(track_list):\n",
    "    \"\"\"\n",
    "    :param track_list: Lista con el conjunto de listas a procesar.\n",
    "    :return: Lista con el conjunto de pistas procesadas.\n",
    "    \"\"\"\n",
    "    tracks = []\n",
    "    for track in track_list:\n",
    "        try:\n",
    "            track_data = dict()\n",
    "            track_data['pos'] = len(tracks)\n",
    "            track_data['added_at'] = spdate_to_timestamp(track['added_at'])\n",
    "            track_data['track_name'] = track['track']['name']\n",
    "            track_data['track_uri'] = track['track']['uri']\n",
    "            track_data['duration_ms'] = track['track']['duration_ms']\n",
    "            track_data['artist_name'] = track['track']['artists'][0]['name']\n",
    "            track_data['artist_uri'] = track['track']['artists'][0]['uri']\n",
    "            track_data['album_name'] = track['track']['album']['name']\n",
    "            track_data['album_uri'] = track['track']['album']['uri']\n",
    "            tracks.append(track_data)\n",
    "        except:\n",
    "            # Existen ocasiones en las que una pista no esta disponible\n",
    "            # Continuamos\n",
    "            pass\n",
    "    return tracks"
   ]
  },
  {
   "cell_type": "markdown",
   "metadata": {},
   "source": [
    "<br>\n",
    "\n",
    "<div class=\"alert alert-block alert-info\">\n",
    "    \n",
    "<i class=\"fa fa-info-circle\" aria-hidden=\"true\"></i> __Nota__: Hemos agregado un bloque _try-except_ puesto que existen ocasiones en las que una pista no contiene toda la información (ya sea porque la pista ya no se encuentra disponible en _Spotify_ u otros motivos). Si se da dicho caso, no la guardamos en la lista.\n",
    "</div>"
   ]
  },
  {
   "cell_type": "markdown",
   "metadata": {},
   "source": [
    "<br>\n",
    "\n",
    "Por último, con el método ***read_file_ids*** nos encargamos de leer los identificadores de playlists que hay almacenados dentro de un fichero:"
   ]
  },
  {
   "cell_type": "code",
   "execution_count": null,
   "metadata": {},
   "outputs": [],
   "source": [
    "# Lee los ficheros con los identificadores de\n",
    "# las playlists\n",
    "def read_file_ids(file_path):\n",
    "    \"\"\"\n",
    "    :param file_path: Fichero que contiene el conjunto de identificadores. \n",
    "    :return: Lista con el conjunto de identificadores.\n",
    "    \"\"\"\n",
    "    with open(file_path, 'r', encoding='utf-8') as f:\n",
    "        ids = [line.rstrip() for line in f]\n",
    "    return ids"
   ]
  },
  {
   "cell_type": "markdown",
   "metadata": {},
   "source": [
    "<div style=\"text-align: right\">\n",
    "<a href=\"#indice\"><font size=5><i class=\"fa fa-arrow-circle-up\" aria-hidden=\"true\" style=\"color:#92002A\"></i></font></a>\n",
    "</div>\n",
    "\n",
    "---"
   ]
  },
  {
   "cell_type": "markdown",
   "metadata": {},
   "source": [
    "<a id=\"section214\"></a>\n",
    "#### <font color=\"#B20033\">Comprobaciones</font>\n",
    "\n",
    "<br>\n",
    "\n",
    "Cuando buscamos una playlist que ya no se encuentra en el sistema, o que por cualquier motivo no se ha introducido de forma correcta, se produce una excepción llamada `spotipy.client.SpotifyException`. Para almacenar la información de dicha excepción, hemos creado un método llamado ***get_spotify_error*** para transformarla en un diccionario:"
   ]
  },
  {
   "cell_type": "code",
   "execution_count": null,
   "metadata": {},
   "outputs": [],
   "source": [
    "def get_spotify_error(e):\n",
    "    \"\"\"\n",
    "    :param e: Texto con el error devuelto por el cliente de Spotipy. \n",
    "    :return: Diccionario con la información procesada del error.\n",
    "    \"\"\"\n",
    "    val1 = str(e).split(',')[0].split(':')[-1].strip()\n",
    "    val2 = str(e).split(',')[1].split('-')[-1].split(':')[-1].strip()\n",
    "    return {'status' : val1, 'message' : val2}"
   ]
  },
  {
   "cell_type": "markdown",
   "metadata": {},
   "source": [
    "<br>\n",
    "\n",
    "Como hemos indicado en la introducción, vamos a comprobar que la playlist cumple dos criterios antes de descargarla por completo:\n",
    "* La playlist tiene al menos _1 seguidor_.\n",
    "* En el momento de la descarga, la playlist es _pública_.\n",
    "\n",
    "También comprobaremos que la playlist esté disponible, para evitar que se produzcan excepciones en el momento de la descarga.\n",
    "\n",
    "Estas comprobaciones las realizaremos en la función ***pl_check_requirements***:"
   ]
  },
  {
   "cell_type": "code",
   "execution_count": null,
   "metadata": {},
   "outputs": [],
   "source": [
    "# Comprobamos que la lista es pública, tiene al\n",
    "# menos un seguidor y existe\n",
    "def pl_check_requirements(pl_id):\n",
    "    \"\"\"\n",
    "    :param pl_id: Identificador de la playlist. \n",
    "    :return: Resultado de la comprobación (bool).\n",
    "    \"\"\"\n",
    "    try:\n",
    "        pl = sp.user_playlist('',pl_id,fields='public,followers')\n",
    "        if pl['public']:\n",
    "            if str(pl['followers']['total']).isnumeric():\n",
    "                return int(pl['followers']['total']) > 0\n",
    "            else:\n",
    "                return False\n",
    "        else:\n",
    "            return False\n",
    "    except spotipy.client.SpotifyException as e:\n",
    "        error = get_spotify_error(e)\n",
    "        write_to_log(f'Playlist [{pl_id}]: {error}')\n",
    "        return False"
   ]
  },
  {
   "cell_type": "markdown",
   "metadata": {},
   "source": [
    "<br>\n",
    "\n",
    "Otro de los requisitos que hemos establecido, es que la playlist no contenga pistas locales (aquellas que están en el dispositivo del usuario y no se encuentran en Spotify). Este criterio nos encargamos de comprobarlo con la siguiente función:"
   ]
  },
  {
   "cell_type": "code",
   "execution_count": null,
   "metadata": {},
   "outputs": [],
   "source": [
    "# Comprueba que una lista de pistas no contiene\n",
    "# ninguna que esté almacenada de forma local\n",
    "def pl_has_local_files(track_list):\n",
    "    \"\"\"\n",
    "    :param track_list: Lista con el conjunto de pistas. \n",
    "    :return: Resultado de la comprobación de pistas locales (bool).\n",
    "    \"\"\"\n",
    "    local_list = [track['is_local'] for track in track_list]\n",
    "    return any(local_list)"
   ]
  },
  {
   "cell_type": "markdown",
   "metadata": {},
   "source": [
    "<br>\n",
    "\n",
    "La última comprobación que vamos a realizar es si, para alguna pista de la playlist, el contenido de *artist_name*, *album_name* o *track_name* está ___vacío___. Existen casos en el que la pista que hay agregada a una playlist, ya no está disponible."
   ]
  },
  {
   "cell_type": "code",
   "execution_count": null,
   "metadata": {},
   "outputs": [],
   "source": [
    "def pl_has_incomplete_content(pl):\n",
    "    \"\"\"\n",
    "    :param pl: Playlist a comprobar. \n",
    "    :return: Resultado de la comprobación de contenido incompleto (bool).\n",
    "    \"\"\"\n",
    "    incomplete = False\n",
    "    \n",
    "    for track in pl['tracks']:\n",
    "        if track['artist_name'] == '':\n",
    "            incomplete = True\n",
    "            break\n",
    "        elif track['album_name'] == '':\n",
    "            incomplete = True\n",
    "            break\n",
    "        elif track['track_name'] == '':\n",
    "            incomplete = True\n",
    "            break\n",
    "        else:\n",
    "            pass\n",
    "        \n",
    "    return incomplete"
   ]
  },
  {
   "cell_type": "markdown",
   "metadata": {},
   "source": [
    "<div style=\"text-align: right\">\n",
    "<a href=\"#indice\"><font size=5><i class=\"fa fa-arrow-circle-up\" aria-hidden=\"true\" style=\"color:#92002A\"></i></font></a>\n",
    "</div>\n",
    "\n",
    "---"
   ]
  },
  {
   "cell_type": "markdown",
   "metadata": {},
   "source": [
    "<a id=\"section22\"></a>\n",
    "### <font color=\"#B20033\">2.2- Métodos pertenecientes al proceso de descarga</font>\n",
    "\n",
    "<br>\n",
    "\n",
    "En este apartado, vamos a explicar cómo se realiza la descarga de playlists cuyos identificadores tenemos almacenados en varios ficheros de texto.\n",
    "\n",
    "Primero, creamos una función para descargar una lista de reproducción mediante su identificador (*id*):"
   ]
  },
  {
   "cell_type": "code",
   "execution_count": null,
   "metadata": {},
   "outputs": [],
   "source": [
    "# Descarga la playlist con id 'pl_id' de Spotify\n",
    "def download_playlist(pl_id,fields=FIELDS_PL):\n",
    "    \"\"\"\n",
    "    :param pl_id: Identificador de la playlist a descargar.\n",
    "    :param fields: Campos de la playlist que se desean obtener.\n",
    "    :return: Playlist en formato de diccionario.\n",
    "    \"\"\"\n",
    "    \n",
    "    # Establecemos el valor del usuario a '',\n",
    "    # puesto que no es necesario indicarlo\n",
    "    pl = sp.user_playlist('',pl_id,fields=fields)\n",
    "\n",
    "    # Modificamos el valor de la key 'followers' ya que\n",
    "    # obtenemos un diccionario y sólo nos interesa el número\n",
    "    pl['num_followers'] = pl['followers']['total']\n",
    "    del pl['followers']\n",
    "\n",
    "    # Descargamos el conjunto completo de pistas\n",
    "    # (hay que hacer separado el proceso puesto que si \n",
    "    # la lista es muy larga, se bajan las primeras n pistas)\n",
    "    pl['tracks'] = get_playlist_tracks('',pl_id)\n",
    "\n",
    "    # Si hay contenido local, ignoramos la playlist\n",
    "    if not pl_has_local_files(pl['tracks']):\n",
    "        pl['tracks'] = clean_tracks_info(pl['tracks'])\n",
    "        pl['num_tracks'] = len(pl['tracks'])\n",
    "    else:\n",
    "        write_to_log(f'Playlist [{pl_id}] has local content.')\n",
    "        pl = {}\n",
    "        \n",
    "    # Si alguna pista tiene contenido incompleto,\n",
    "    # ignoramos la playlist\n",
    "    if pl != {}:\n",
    "        is_incomplete = pl_has_incomplete_content(pl)\n",
    "        \n",
    "        if is_incomplete:\n",
    "            write_to_log(f'Playlist [{pl_id}] has incomplete content.')\n",
    "            pl = {}\n",
    "    \n",
    "    return pl"
   ]
  },
  {
   "cell_type": "markdown",
   "metadata": {},
   "source": [
    "Una vez que hemos descargado la playlist mediante el cliente de *Spotipy*, realizamos las siguientes tareas:\n",
    "1. Extraemos el número de seguidores del diccionario, ya que no nos interesa la lista de usuarios que siguen la playlist.\n",
    "2. Obtenemos la lista completa de pistas que conforman la playlist. Como vimos anteriormente, si la lista tiene más de 100 elementos sólo se descargan los 100 primeros.\n",
    "3. Comprobamos que la lista *no contiene pistas locales* pertenecientes al usuario.\n",
    "    * En caso de que no tenga pistas locales:\n",
    "        * Extraemos la información más relevante de las pistas mediante la función *clean_tracks_info*\n",
    "        * Calculamos el número total de pistas y lo almacenamos con la clave 'num_tracks' dentro del diccionario que vamos a devolver.\n",
    "    * En caso de que *existan pistas locales*, vaciamos el diccionario a devolver\n",
    "\n",
    "\n",
    "4. Devolvemos el diccionario _pl_ que contiene la playlist que hemos indicado.\n",
    "\n",
    "<br>\n",
    "\n",
    "<div class=\"alert alert-block alert-warning\">\n",
    "    \n",
    "<i class=\"fa fa-exclamation-circle\" aria-hidden=\"true\"></i>\n",
    "__Importante__: Devolvemos un diccionario vacío en el caso de que la playlist indicada contenga pistas locales. Así nos resultará más fácil identificar este caso cuando procesemos el fichero que contiene los identificadores a descargar.\n",
    "</div>\n",
    "\n",
    "<br>"
   ]
  },
  {
   "cell_type": "markdown",
   "metadata": {},
   "source": [
    "Seguidamente, creamos un método para procesar el fichero de texto que contiene los identificadores de las playlists que nos interesa descargar:"
   ]
  },
  {
   "cell_type": "code",
   "execution_count": null,
   "metadata": {},
   "outputs": [],
   "source": [
    "# Procesa un fichero que contiene identificadores\n",
    "# de playlists para descargar\n",
    "def process_file(file_path):\n",
    "    \"\"\"\n",
    "    :param file_path: Ruta del fichero a procesar. \n",
    "    \"\"\"\n",
    "    pl_ids = read_file_ids(file_path)\n",
    "    file_name = os.path.basename(file_path)\n",
    "    \n",
    "    # Lista que empleamos para almacenar aquellas playlist\n",
    "    # que se han descartado\n",
    "    discarded_ids = []\n",
    "    \n",
    "    message = 'File [{}] processing starts.'.format(file_name)\n",
    "    write_to_log(message)\n",
    "    \n",
    "    try:\n",
    "        for pl_id in pl_ids:\n",
    "            # Comprobamos que es pública, tiene seguidores\n",
    "            # y está disponible\n",
    "            if pl_check_requirements(pl_id):\n",
    "                pl = download_playlist(pl_id)\n",
    "                time.sleep(0.2) # Retardo\n",
    "                \n",
    "                if bool(pl):\n",
    "                    pl_path = '{}/{}.json'.format(TEMP_PATH,pl_id)\n",
    "                    with open(pl_path, 'w') as file:\n",
    "                        json.dump(pl,file)\n",
    "                else:\n",
    "                    # La descartamos, ya que si el diccionario devuelto\n",
    "                    # esta vacío, significa que contiene pistas locales\n",
    "                    discarded_ids.append(pl_id)\n",
    "            else:\n",
    "                discarded_ids.append(pl_id)\n",
    "    except Exception as e:\n",
    "        time.sleep(300)\n",
    "        \n",
    "        message = 'File [{}] - Something went wrong. Retrying...'.format(file_name)\n",
    "        write_to_log(message)\n",
    "        write_to_log(str(e))\n",
    "        telegram_bot_sendtext(message)\n",
    "        \n",
    "        process_file(file_path)\n",
    "\n",
    "    pls_list = []\n",
    "    for pl_id in pl_ids:\n",
    "        if pl_id not in discarded_ids:\n",
    "            pl_path = '{}/{}.json'.format(TEMP_PATH,pl_id)\n",
    "            with open(pl_path) as json_file:  \n",
    "                data = json.load(json_file)\n",
    "                pls_list.append(data)\n",
    "            os.remove(pl_path)\n",
    "  \n",
    "    file_id = int(file_name.split('.')[0].split('_')[-1])\n",
    "    pls_file_name = 'pls-set_{:05d}.json'.format(file_id)\n",
    "    with open(os.path.join(PLS_SET_PATH,pls_file_name), 'w') as file:\n",
    "        json.dump(pls_list,file,indent=4)\n",
    "    \n",
    "    os.remove(file_path)\n",
    "    \n",
    "    message = 'File [{}] processed correctly.'.format(file_name)\n",
    "    write_to_log(message)"
   ]
  },
  {
   "cell_type": "markdown",
   "metadata": {},
   "source": [
    "El proceso que realiza la función anterior es el siguiente:\n",
    "\n",
    "1. Leemos los identificadores que tiene el fichero haciendo uso de la función ***read_file_ids***\n",
    "2. Creamos una lista, ***discarted_ids***, donde almacenaremos aquellos identificadores que se han omitido (ya sea porque la lista es privada, no tiene seguidores o no esté disponible).\n",
    "3. Para cada identificador que hayamos obtenido de la lista:\n",
    "    * Comprobamos que cumpla los requisitos que hemos establecido.\n",
    "        * En caso de que los cumpla, comprobamos que no tiene pistas locales y lo almacenamos en un fichero _JSON_ dentro de la carpeta temporal que hemos indicado (`TEMP_PATH`). \n",
    "        * En caso de que tenga pistas locales, lo añadimos a la lista de ids descartados.\n",
    "    * Si no cumple los requisitos, añadimos el identificador a la lista de descartes y continuamos.\n",
    "4. En caso de que se produzca una excepción en el proceso de descarga de playlists, esperaremos 5 minutos y volvemos a intentarlo.\n",
    "5. Una vez que se han descargado todas las playlist del fichero:\n",
    "    * Leemos las playlist de los ficheros _JSON_ que hemos almacenado en la carpeta temporal (comprobando que no sean aquellas que hemos descartado) y los almacenamos en una lista llamada ***pls_list***.\n",
    "    * Una vez que se han leído todas las playlist, guardamos la lista que las contiene en un único fichero JSON dentro de la carpeta que hemos indicada en `PLS_SET_PATH`.\n",
    "6. Borramos el fichero que contiene los identificadores de las playlist que hemos descargado.\n",
    "\n",
    "<br>\n",
    "\n",
    "<div class=\"alert alert-block alert-warning\">\n",
    "\n",
    "<i class=\"fa fa-exclamation-circle\" aria-hidden=\"true\"></i>\n",
    "__Importante__: Al igual que en el proceso de búsqueda, tras descargar una playlist hemos introducido un retardo para no saturar el servidor realizando miles de peticiones consecutivas. Aparte de evitar cualquier saturación, si no lo hiciéramos infringiríamos uno de los [_Términos del Servicio (ToS)_](https://developer.spotify.com/terms/#iv) de _Spotify_.\n",
    "</div>\n",
    "\n",
    "<br>"
   ]
  },
  {
   "cell_type": "markdown",
   "metadata": {},
   "source": [
    "Por último, definimos la función que se encargará de procesar la carpeta que contiene los ficheros de texto con los identificadores de las playlist que deseamos descargar:"
   ]
  },
  {
   "cell_type": "code",
   "execution_count": null,
   "metadata": {},
   "outputs": [],
   "source": [
    "# Procesa el directorio que contiene los\n",
    "# ficheros con los identificadores de las\n",
    "# playlists\n",
    "def process_folder(folder_path):\n",
    "    \"\"\"\n",
    "    :param folder_path: Ruta del directorio a procesar. \n",
    "    \"\"\"\n",
    "    files_list = list()\n",
    "    \n",
    "    # Creamos el directorio temporal en caso\n",
    "    # de que no exista\n",
    "    if not os.path.exists(TEMP_PATH):\n",
    "        os.makedirs(TEMP_PATH)\n",
    "    \n",
    "    # Creamos el directorio temporal en caso\n",
    "    # de que no exista\n",
    "    if not os.path.exists(PLS_SET_PATH):\n",
    "        os.makedirs(PLS_SET_PATH)\n",
    "    \n",
    "    # Almacenamos en una lista, aquellos ficheros\n",
    "    # que contienen los identificadores\n",
    "    for file_name in os.listdir(folder_path):\n",
    "        file_path = os.path.join(PLS_ID_PATH,file_name)\n",
    "        if os.path.isfile(file_path) and 'pls-id-set_' in file_name:\n",
    "            files_list.append(file_path)\n",
    "\n",
    "    # Procesamos uno a uno los ficheros que contiene\n",
    "    # la lista 'files_list'\n",
    "    for file in tqdm_nb(files_list):\n",
    "        process_file(file)\n",
    "        time.sleep(30) # Retardo\n",
    "    \n",
    "    # Borramos los directorios temporal y de lectura,\n",
    "    # ya que una vez terminado el proceso quedan vacíos\n",
    "    os.rmdir(TEMP_PATH)\n",
    "    os.rmdir(PLS_ID_PATH)\n",
    "    \n",
    "    message = 'Download Complete!'\n",
    "    telegram_bot_sendtext(message)"
   ]
  },
  {
   "cell_type": "markdown",
   "metadata": {},
   "source": [
    "<div style=\"text-align: right\">\n",
    "<a href=\"#indice\"><font size=5><i class=\"fa fa-arrow-circle-up\" aria-hidden=\"true\" style=\"color:#92002A\"></i></font></a>\n",
    "</div>\n",
    "\n",
    "---"
   ]
  },
  {
   "cell_type": "markdown",
   "metadata": {},
   "source": [
    "<a id=\"section3\"></a>\n",
    "## <font color=\"#92002A\">3 - Proceso de descarga</font>\n",
    "<br>\n",
    "\n",
    "Una vez que hemos declarado todo el código necesario para la descarga de playlists, llamamos a la función ***process_folder*** pasándole como argumento la ruta dónde se encuentran los ficheros con los identificadores de las playlist (en nuestro caso `PLS_ID_PATH`) para comenzar con el proceso:"
   ]
  },
  {
   "cell_type": "code",
   "execution_count": null,
   "metadata": {
    "scrolled": true
   },
   "outputs": [],
   "source": [
    "process_folder(PLS_ID_PATH)"
   ]
  },
  {
   "cell_type": "markdown",
   "metadata": {},
   "source": [
    "Tras descargarse y procesarse los conjuntos de playlists, comprimimos cada fichero que se ha generado para que ocupe menos espacio en el dispositivo de almacenamiento:"
   ]
  },
  {
   "cell_type": "code",
   "execution_count": null,
   "metadata": {},
   "outputs": [],
   "source": [
    "for file_name in tqdm_nb(os.listdir(PLS_SET_PATH)):\n",
    "    file_path = os.path.join(PLS_SET_PATH, file_name)\n",
    "\n",
    "    if file_name.endswith(\".json\"):\n",
    "        zip_file_name = os.path.splitext(file_name)[0] + \".zip\"\n",
    "        with zipfile.ZipFile(os.path.join(PLS_SET_PATH, zip_file_name),'w') as zip: \n",
    "             zip.write(file_path, compress_type=zipfile.ZIP_DEFLATED, arcname=file_name)\n",
    "        os.remove(file_path)"
   ]
  },
  {
   "cell_type": "markdown",
   "metadata": {},
   "source": [
    "Los nuevos ficheros se guardan en el mismo directorio donde se encuentran los *JSON*, los cuales serán eliminados tras comprimirse."
   ]
  },
  {
   "cell_type": "markdown",
   "metadata": {},
   "source": [
    "<div style=\"text-align: right\">\n",
    "<a href=\"#indice\"><font size=5><i class=\"fa fa-arrow-circle-up\" aria-hidden=\"true\" style=\"color:#92002A\"></i></font></a>\n",
    "</div>\n",
    "\n",
    "---\n",
    "\n",
    "<div style=\"text-align: right\"> <font size=6><i class=\"fa fa-graduation-cap\" aria-hidden=\"true\" style=\"color:#92002A\"></i> </font></div>"
   ]
  }
 ],
 "metadata": {
  "kernelspec": {
   "display_name": "Python 3",
   "language": "python",
   "name": "python3"
  },
  "language_info": {
   "codemirror_mode": {
    "name": "ipython",
    "version": 3
   },
   "file_extension": ".py",
   "mimetype": "text/x-python",
   "name": "python",
   "nbconvert_exporter": "python",
   "pygments_lexer": "ipython3",
   "version": "3.8.5"
  }
 },
 "nbformat": 4,
 "nbformat_minor": 2
}
