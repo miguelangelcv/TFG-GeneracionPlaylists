{
 "cells": [
  {
   "cell_type": "markdown",
   "metadata": {},
   "source": [
    "<img src=\"images/header.png\" alt=\"Logo UCLM-ESII\" align=\"right\">\n",
    "\n",
    "<br><br><br><br>\n",
    "<h2><font color=\"#92002A\" size=4>Trabajo Fin de Grado</font></h2>\n",
    "\n",
    "<h1><font color=\"#6B001F\" size=5>Generación automática de playlist de canciones <br> mediante técnicas de minería de datos</font></h1>\n",
    "<h2><font color=\"#92002A\" size=3>Parte 2 - Preparación para la descarga de playlists</font></h2>\n",
    "\n",
    "<br>\n",
    "<div style=\"text-align: right\">\n",
    "    <font color=\"#B20033\" size=3><strong>Autor</strong>: <em>Miguel Ángel Cantero Víllora</em></font><br>\n",
    "    <br>\n",
    "    <font color=\"#B20033\" size=3><strong>Directores</strong>: <em>José Antonio Gámez Martín</em></font><br>\n",
    "    <font color=\"#B20033\" size=3><em>Juan Ángel Aledo Sánchez</em></font><br>\n",
    "    <br>\n",
    "<font color=\"#B20033\" size=3>Grado en Ingeniería Informática</font><br>\n",
    "<font color=\"#B20033\" size=2>Escuela Superior de Ingeniería Informática | Universidad de Castilla-La Mancha</font>\n",
    "\n",
    "</div>"
   ]
  },
  {
   "cell_type": "markdown",
   "metadata": {},
   "source": [
    "---\n",
    "<br>\n",
    "\n",
    "<a id=\"indice\"></a>\n",
    "<h2><font color=\"#92002A\" size=5>Índice</font></h2>\n",
    "\n",
    "<br>\n",
    "\n",
    "\n",
    "* [1. Introducción](#section1)\n",
    "* [2. Lectura de resultados](#section2)\n",
    "* [3. Filtrado de resultados](#section3)\n",
    "    * [3.1. Filtrado de identificadores repetidos](#section31)\n",
    "    * [3.2. Filtrado por número de pistas](#section32)\n",
    "    * [3.3. Filtrado por títulos](#section33)\n",
    "* [4. Almacenamiento de identificadores](#section4)\n",
    "\n",
    "<br>\n",
    "\n",
    "---"
   ]
  },
  {
   "cell_type": "code",
   "execution_count": 1,
   "metadata": {},
   "outputs": [
    {
     "data": {
      "text/html": [
       "<style>.container { width:95% !important; }</style>"
      ],
      "text/plain": [
       "<IPython.core.display.HTML object>"
      ]
     },
     "metadata": {},
     "output_type": "display_data"
    }
   ],
   "source": [
    "# Permite establecer la anchura de la celda\n",
    "from IPython.core.display import display, HTML\n",
    "display(HTML(\"<style>.container { width:95% !important; }</style>\"))"
   ]
  },
  {
   "cell_type": "code",
   "execution_count": 2,
   "metadata": {},
   "outputs": [],
   "source": [
    "#!pip install pandas"
   ]
  },
  {
   "cell_type": "code",
   "execution_count": 3,
   "metadata": {},
   "outputs": [],
   "source": [
    "import os\n",
    "import pandas as pd\n",
    "import random\n",
    "import shutil\n",
    "\n",
    "from tqdm.notebook import tqdm as tqdm_nb"
   ]
  },
  {
   "cell_type": "markdown",
   "metadata": {},
   "source": [
    "---\n",
    "\n",
    "<br>\n",
    "\n",
    "\n",
    "<a id=\"section1\"></a>\n",
    "## <font color=\"#92002A\">1 - Introducción</font>\n",
    "\n",
    "<br>\n",
    "\n",
    "Tras haber realizado varias búsquedas empleando la [WebAPI de Spotify](https://developer.spotify.com/documentation/web-api/), hemos obtenido un conjunto de playlists con la siguiente información:\n",
    "\n",
    "* _Identificador_ (**id**)\n",
    "* _Título_ (**name**)\n",
    "* *Número de pistas* (**num_tracks**)\n",
    "\n",
    "<br>\n",
    "\n",
    "Con esta información no podemos realizar un filtrado completo para decidir con qué listas nos vamos a quedar, pero si podemos emplearla para realizar varios descartes:\n",
    "\n",
    "* Playlists repetidas (mismo identificador).\n",
    "* Playlists que tienen menos de 5 pistas y más de 250 pistas.\n",
    "* Playlists con títulos que contienen menos de 2 caracteres y más 50 caracteres (sin contar espacios).\n",
    "* Playlists cuyos títulos contienen más de 9 palabras.\n",
    "\n",
    "<br>\n",
    "\n",
    "Una vez que hayamos eliminado aquellas listas que no nos interesan, vamos a quedarnos con los identificadores y los almacenaremos en varios ficheros que contengan el mismo número de elementos. Esto se hace para poder realizar la descarga de forma escalonada y poder utilizar varios procesos y/o máquinas a la vez, con lo cual se reduce el tiempo de obtención."
   ]
  },
  {
   "cell_type": "markdown",
   "metadata": {},
   "source": [
    "<div style=\"text-align: right\">\n",
    "<a href=\"#indice\"><font size=5><i class=\"fa fa-arrow-circle-up\" aria-hidden=\"true\" style=\"color:#92002A\"></i></font></a>\n",
    "</div>\n",
    "\n",
    "---"
   ]
  },
  {
   "cell_type": "markdown",
   "metadata": {},
   "source": [
    "<a id=\"section2\"></a>\n",
    "## <font color=\"#92002A\">2 - Lectura de resultados</font>\n",
    "<br>\n",
    "\n",
    "En este apartado vamos a leer los _DataSets_ que hemos obtenido en la libreta anterior, [_Búsqueda de Playlists_](01-BusquedaPlaylists.ipynb), y unirlos en un único [_DataFrame_](https://pandas.pydata.org/pandas-docs/stable/reference/api/pandas.DataFrame.html) de `pandas` para estudiarlos."
   ]
  },
  {
   "cell_type": "code",
   "execution_count": 4,
   "metadata": {},
   "outputs": [],
   "source": [
    "# Variables globales\n",
    "\n",
    "# Directorio donde se encuentran los sets que deseamos leer\n",
    "SETS_PATH = 'sets' \n",
    "\n",
    "# Directorio donde se almacenan los sets generados\n",
    "PLS_ID_PATH = 'pls_id_sets'\n",
    "\n",
    "# Directorio que emplearemos para guardar copias de seguridad.\n",
    "BACKUP_PATH = 'backup'"
   ]
  },
  {
   "cell_type": "code",
   "execution_count": 5,
   "metadata": {},
   "outputs": [],
   "source": [
    "# Crea un DataFrame a partir de los DataSets contenidos\n",
    "# en el directorio indicado\n",
    "def create_dataframe(sets_path):\n",
    "    all_files = []\n",
    "\n",
    "    for file_name in os.listdir(sets_path):\n",
    "        if 'set-' in file_name:\n",
    "            file_path = os.path.join(sets_path, file_name)\n",
    "            all_files.append(file_path)\n",
    "            \n",
    "    list_df_files = (pd.read_csv(f,index_col=None,header=None) for f in all_files)\n",
    "\n",
    "    df_concat = pd.concat(list_df_files, ignore_index=True, sort=False)\n",
    "    df_concat.columns = ['id','name','tracks']\n",
    "\n",
    "    # Elimina los sets del directorio\n",
    "    for file_name in all_files:\n",
    "        os.remove(file_name)         \n",
    "    \n",
    "    # Borramos el directorio que contenía los sets\n",
    "    os.rmdir(sets_path)\n",
    "    \n",
    "    return df_concat"
   ]
  },
  {
   "cell_type": "markdown",
   "metadata": {},
   "source": [
    "<br>\n",
    "\n",
    "<div class=\"alert alert-block alert-warning\">\n",
    "\n",
    "<i class=\"fa fa-exclamation-circle\" aria-hidden=\"true\"></i>\n",
    "__Importante__: Aunque hemos eliminado el directorio `SETS_PATH` y todo su contenido, disponemos de una copia de dicho contenido en la carpeta establecida en `BACKUP_PATH`.\n",
    "</div>\n",
    "\n",
    "<br>"
   ]
  },
  {
   "cell_type": "code",
   "execution_count": 6,
   "metadata": {
    "scrolled": false
   },
   "outputs": [
    {
     "name": "stdout",
     "output_type": "stream",
     "text": [
      "Tamaño df_playlists: 15797992\n"
     ]
    }
   ],
   "source": [
    "df_playlists = create_dataframe(SETS_PATH)\n",
    "print(f'Tamaño df_playlists: {len(df_playlists)}')"
   ]
  },
  {
   "cell_type": "code",
   "execution_count": 7,
   "metadata": {},
   "outputs": [
    {
     "data": {
      "text/html": [
       "<div>\n",
       "<style scoped>\n",
       "    .dataframe tbody tr th:only-of-type {\n",
       "        vertical-align: middle;\n",
       "    }\n",
       "\n",
       "    .dataframe tbody tr th {\n",
       "        vertical-align: top;\n",
       "    }\n",
       "\n",
       "    .dataframe thead th {\n",
       "        text-align: right;\n",
       "    }\n",
       "</style>\n",
       "<table border=\"1\" class=\"dataframe\">\n",
       "  <thead>\n",
       "    <tr style=\"text-align: right;\">\n",
       "      <th></th>\n",
       "      <th>id</th>\n",
       "      <th>name</th>\n",
       "      <th>tracks</th>\n",
       "    </tr>\n",
       "  </thead>\n",
       "  <tbody>\n",
       "    <tr>\n",
       "      <th>0</th>\n",
       "      <td>2MBSSLDiiOOtxJb2bVjO56</td>\n",
       "      <td>Keep It Mello</td>\n",
       "      <td>47</td>\n",
       "    </tr>\n",
       "    <tr>\n",
       "      <th>1</th>\n",
       "      <td>2hb42Q1VZi86YLktFHRiCn</td>\n",
       "      <td>Keep Flowing</td>\n",
       "      <td>161</td>\n",
       "    </tr>\n",
       "    <tr>\n",
       "      <th>2</th>\n",
       "      <td>6nuo9FYCAGV0WalhCluicG</td>\n",
       "      <td>Keep It R&amp;B</td>\n",
       "      <td>58</td>\n",
       "    </tr>\n",
       "    <tr>\n",
       "      <th>3</th>\n",
       "      <td>5oxZIYU1L9N1CczN0C4JkM</td>\n",
       "      <td>Instrumental Pop Covers</td>\n",
       "      <td>401</td>\n",
       "    </tr>\n",
       "    <tr>\n",
       "      <th>4</th>\n",
       "      <td>1KPF87wrirpAWD0E7T24Lh</td>\n",
       "      <td>YOU SPIN ME RIGHT ROUND BABY RIGHT ROUND</td>\n",
       "      <td>61</td>\n",
       "    </tr>\n",
       "  </tbody>\n",
       "</table>\n",
       "</div>"
      ],
      "text/plain": [
       "                       id                                      name  tracks\n",
       "0  2MBSSLDiiOOtxJb2bVjO56                             Keep It Mello      47\n",
       "1  2hb42Q1VZi86YLktFHRiCn                              Keep Flowing     161\n",
       "2  6nuo9FYCAGV0WalhCluicG                               Keep It R&B      58\n",
       "3  5oxZIYU1L9N1CczN0C4JkM                   Instrumental Pop Covers     401\n",
       "4  1KPF87wrirpAWD0E7T24Lh  YOU SPIN ME RIGHT ROUND BABY RIGHT ROUND      61"
      ]
     },
     "execution_count": 7,
     "metadata": {},
     "output_type": "execute_result"
    }
   ],
   "source": [
    "df_playlists.head()"
   ]
  },
  {
   "cell_type": "markdown",
   "metadata": {},
   "source": [
    "<div style=\"text-align: right\">\n",
    "<a href=\"#indice\"><font size=5><i class=\"fa fa-arrow-circle-up\" aria-hidden=\"true\" style=\"color:#92002A\"></i></font></a>\n",
    "</div>\n",
    "\n",
    "---"
   ]
  },
  {
   "cell_type": "markdown",
   "metadata": {},
   "source": [
    "<a id=\"section3\"></a>\n",
    "## <font color=\"#92002A\">3 - Filtrado de resultados</font>\n",
    "<br>\n",
    "\n",
    "Como hemos comentado anteriormente, vamos a intentar eliminar parte de los identificadores que hemos obtenido con el objetivo de reducir las playlists a descargar.\n"
   ]
  },
  {
   "cell_type": "markdown",
   "metadata": {},
   "source": [
    "<a id=\"section31\"></a>\n",
    "### <font color=\"#B20033\">3.1 - Filtrado de identificadores repetidos</font>\n",
    "\n",
    "<br>\n",
    "\n",
    "Eliminamos las playlists que figuran más de una vez (contienen el mismo __id__):"
   ]
  },
  {
   "cell_type": "code",
   "execution_count": 8,
   "metadata": {},
   "outputs": [
    {
     "name": "stdout",
     "output_type": "stream",
     "text": [
      "Tamaño df_playlists (sin ids duplicados): 12083093\n"
     ]
    }
   ],
   "source": [
    "df_playlists.drop_duplicates(subset='id',inplace=True)\n",
    "print(f'Tamaño df_playlists (sin ids duplicados): {len(df_playlists)}')"
   ]
  },
  {
   "cell_type": "markdown",
   "metadata": {},
   "source": [
    "Establecemos la columna __id__ como índice del DataFrame:"
   ]
  },
  {
   "cell_type": "code",
   "execution_count": 9,
   "metadata": {
    "scrolled": true
   },
   "outputs": [
    {
     "data": {
      "text/html": [
       "<div>\n",
       "<style scoped>\n",
       "    .dataframe tbody tr th:only-of-type {\n",
       "        vertical-align: middle;\n",
       "    }\n",
       "\n",
       "    .dataframe tbody tr th {\n",
       "        vertical-align: top;\n",
       "    }\n",
       "\n",
       "    .dataframe thead th {\n",
       "        text-align: right;\n",
       "    }\n",
       "</style>\n",
       "<table border=\"1\" class=\"dataframe\">\n",
       "  <thead>\n",
       "    <tr style=\"text-align: right;\">\n",
       "      <th></th>\n",
       "      <th>name</th>\n",
       "      <th>tracks</th>\n",
       "    </tr>\n",
       "    <tr>\n",
       "      <th>id</th>\n",
       "      <th></th>\n",
       "      <th></th>\n",
       "    </tr>\n",
       "  </thead>\n",
       "  <tbody>\n",
       "    <tr>\n",
       "      <th>2MBSSLDiiOOtxJb2bVjO56</th>\n",
       "      <td>Keep It Mello</td>\n",
       "      <td>47</td>\n",
       "    </tr>\n",
       "    <tr>\n",
       "      <th>2hb42Q1VZi86YLktFHRiCn</th>\n",
       "      <td>Keep Flowing</td>\n",
       "      <td>161</td>\n",
       "    </tr>\n",
       "    <tr>\n",
       "      <th>6nuo9FYCAGV0WalhCluicG</th>\n",
       "      <td>Keep It R&amp;B</td>\n",
       "      <td>58</td>\n",
       "    </tr>\n",
       "    <tr>\n",
       "      <th>5oxZIYU1L9N1CczN0C4JkM</th>\n",
       "      <td>Instrumental Pop Covers</td>\n",
       "      <td>401</td>\n",
       "    </tr>\n",
       "    <tr>\n",
       "      <th>1KPF87wrirpAWD0E7T24Lh</th>\n",
       "      <td>YOU SPIN ME RIGHT ROUND BABY RIGHT ROUND</td>\n",
       "      <td>61</td>\n",
       "    </tr>\n",
       "  </tbody>\n",
       "</table>\n",
       "</div>"
      ],
      "text/plain": [
       "                                                            name  tracks\n",
       "id                                                                      \n",
       "2MBSSLDiiOOtxJb2bVjO56                             Keep It Mello      47\n",
       "2hb42Q1VZi86YLktFHRiCn                              Keep Flowing     161\n",
       "6nuo9FYCAGV0WalhCluicG                               Keep It R&B      58\n",
       "5oxZIYU1L9N1CczN0C4JkM                   Instrumental Pop Covers     401\n",
       "1KPF87wrirpAWD0E7T24Lh  YOU SPIN ME RIGHT ROUND BABY RIGHT ROUND      61"
      ]
     },
     "execution_count": 9,
     "metadata": {},
     "output_type": "execute_result"
    }
   ],
   "source": [
    "df_playlists.set_index('id',inplace=True)\n",
    "df_playlists.head()"
   ]
  },
  {
   "cell_type": "markdown",
   "metadata": {},
   "source": [
    "<div style=\"text-align: right\">\n",
    "<a href=\"#indice\"><font size=5><i class=\"fa fa-arrow-circle-up\" aria-hidden=\"true\" style=\"color:#92002A\"></i></font></a>\n",
    "</div>\n",
    "\n",
    "---"
   ]
  },
  {
   "cell_type": "markdown",
   "metadata": {},
   "source": [
    "<a id=\"section32\"></a>\n",
    "### <font color=\"#B20033\">3.2 - Filtrado por número de pistas</font>\n",
    "\n",
    "<br>\n",
    "\n",
    "Nos quedamos con aquellas playlists que contienen entre 5 y 250 pistas:"
   ]
  },
  {
   "cell_type": "code",
   "execution_count": 10,
   "metadata": {},
   "outputs": [
    {
     "name": "stdout",
     "output_type": "stream",
     "text": [
      "Tamaño df_playlists (con filtrado de pistas): 10548749\n"
     ]
    }
   ],
   "source": [
    "df_playlists.drop(df_playlists[df_playlists['tracks'] > 250].index,inplace=True)\n",
    "df_playlists.drop(df_playlists[df_playlists['tracks'] < 5].index,inplace=True)\n",
    "print(f'Tamaño df_playlists (con filtrado de pistas): {len(df_playlists)}')"
   ]
  },
  {
   "cell_type": "markdown",
   "metadata": {},
   "source": [
    "<div style=\"text-align: right\">\n",
    "<a href=\"#indice\"><font size=5><i class=\"fa fa-arrow-circle-up\" aria-hidden=\"true\" style=\"color:#92002A\"></i></font></a>\n",
    "</div>\n",
    "\n",
    "---"
   ]
  },
  {
   "cell_type": "markdown",
   "metadata": {},
   "source": [
    "<a id=\"section33\"></a>\n",
    "### <font color=\"#B20033\">3.3 - Filtrado por títulos</font>\n",
    "\n",
    "<br>\n",
    "\n",
    "Eliminamos las playlists con títulos de más de 50 caracteres y menos de 2:"
   ]
  },
  {
   "cell_type": "code",
   "execution_count": 11,
   "metadata": {},
   "outputs": [
    {
     "name": "stdout",
     "output_type": "stream",
     "text": [
      "Tamaño df_playlists (con filtrado de títulos): 10436758\n"
     ]
    }
   ],
   "source": [
    "large_names_ids = df_playlists[(df_playlists.name.str.len()-df_playlists.name.str.count(' ')) > 50].index\n",
    "sort_names_ids = df_playlists[(df_playlists.name.str.len()-df_playlists.name.str.count(' ')) < 2].index\n",
    "df_playlists.drop(large_names_ids,inplace=True)\n",
    "df_playlists.drop(sort_names_ids,inplace=True)\n",
    "print(f'Tamaño df_playlists (con filtrado de títulos): {len(df_playlists)}')"
   ]
  },
  {
   "cell_type": "markdown",
   "metadata": {},
   "source": [
    "<br>\n",
    "\n",
    "Eliminamos las playlist con títulos de más de 9 palabras:"
   ]
  },
  {
   "cell_type": "code",
   "execution_count": 12,
   "metadata": {},
   "outputs": [
    {
     "name": "stdout",
     "output_type": "stream",
     "text": [
      "Tamaño df_playlists (con filtrado por número de palabras): 10394271\n"
     ]
    }
   ],
   "source": [
    "large_names_ids = df_playlists[df_playlists.name.str.count(' ') > 9].index\n",
    "df_playlists.drop(large_names_ids,inplace=True)\n",
    "print(f'Tamaño df_playlists (con filtrado por número de palabras): {len(df_playlists)}')"
   ]
  },
  {
   "cell_type": "markdown",
   "metadata": {},
   "source": [
    "<br>\n",
    "\n",
    "<div class=\"alert alert-block alert-warning\">\n",
    "\n",
    "<i class=\"fa fa-exclamation-circle\" aria-hidden=\"true\"></i>\n",
    "**Importante**: En la libreta __[_Filtrado de Playlists_](04-FiltradoPlaylists.ipynb)__, volveremos a repetir estos dos últimos filtros que hemos empleado por los siguientes motivos:\n",
    "\n",
    "* El usuario puede haber modificado el título de la playlists tras realizar nuestro proceso de búsqueda, de tal forma que cuando vayamos a obtener la playlist figure un nuevo título.\n",
    "\n",
    "\n",
    "* Habrá pistas pertenecientes a una playlist que no están disponibles cuando descarguemos su información. Por lo tanto, el número de pistas que contenga puede variar.\n",
    "    * *Por ejemplo*: Puede que exista una pista que haya dejado de estar disponible en Spotify tiempo después de que el usuario crease la playlist.\n",
    "</div>\n",
    "\n",
    "\n",
    "<br>"
   ]
  },
  {
   "cell_type": "markdown",
   "metadata": {},
   "source": [
    "<div style=\"text-align: right\">\n",
    "<a href=\"#indice\"><font size=5><i class=\"fa fa-arrow-circle-up\" aria-hidden=\"true\" style=\"color:#92002A\"></i></font></a>\n",
    "</div>\n",
    "\n",
    "---"
   ]
  },
  {
   "cell_type": "markdown",
   "metadata": {},
   "source": [
    "<a id=\"section4\"></a>\n",
    "## <font color=\"#92002A\">4 - Almacenamiento de identificadores</font>\n",
    "\n",
    "<br>\n",
    "\n",
    "El último paso que vamos a realizar es el de almacenar en un directorio los identificadores de las playlists que hemos obtenido tras realizar el filtrado.\n",
    "\n",
    "En primer lugar, obtenemos los valores de la columna __id__, los almacenamos en una lista llamada _ids_ y los mezclamos:"
   ]
  },
  {
   "cell_type": "code",
   "execution_count": 13,
   "metadata": {},
   "outputs": [],
   "source": [
    "# Obtenemos todos los identificadores del DataFrame\n",
    "ids = df_playlists.index.to_list()\n",
    "\n",
    "random.shuffle(ids)"
   ]
  },
  {
   "cell_type": "markdown",
   "metadata": {},
   "source": [
    "A continuación, dividiremos la lista en bloques (*chunks*) de 1000 identificadores:"
   ]
  },
  {
   "cell_type": "code",
   "execution_count": 14,
   "metadata": {},
   "outputs": [
    {
     "name": "stdout",
     "output_type": "stream",
     "text": [
      "Bloques generados: 10395\n"
     ]
    }
   ],
   "source": [
    "# Establecemos el tamaño de bloque\n",
    "chunk_len = 1000\n",
    "\n",
    "# Almacenamos una lista con los bloques que hemos creado \n",
    "chunks = [ids[x:x+chunk_len] for x in range(0, len(ids), chunk_len)]\n",
    "\n",
    "print(f\"Bloques generados: {len(chunks)}\")"
   ]
  },
  {
   "cell_type": "markdown",
   "metadata": {},
   "source": [
    "Una vez creados los bloques, procedemos a almacenarlos en ficheros:"
   ]
  },
  {
   "cell_type": "code",
   "execution_count": 15,
   "metadata": {},
   "outputs": [
    {
     "data": {
      "application/vnd.jupyter.widget-view+json": {
       "model_id": "f96e4f71efe54aa19ffc33b515b1af4f",
       "version_major": 2,
       "version_minor": 0
      },
      "text/plain": [
       "  0%|          | 0/10395 [00:00<?, ?it/s]"
      ]
     },
     "metadata": {},
     "output_type": "display_data"
    }
   ],
   "source": [
    "if not os.path.exists(PLS_ID_PATH):\n",
    "    os.makedirs(PLS_ID_PATH)\n",
    "    \n",
    "num = 0\n",
    "for chunk in tqdm_nb(chunks):\n",
    "    with open('{}/pls-id-set_{:05d}.txt'.format(PLS_ID_PATH,num), 'w', encoding='utf-8') as f:\n",
    "        for item in chunk:\n",
    "            f.write(\"%s\\n\" % item)\n",
    "        num += 1"
   ]
  },
  {
   "cell_type": "markdown",
   "metadata": {},
   "source": [
    "Por último, guardamos una copia de los sets generados en un fichero comprimido y lo movemos al directorio establecido en la variable `BACKUP_PATH`:"
   ]
  },
  {
   "cell_type": "code",
   "execution_count": 16,
   "metadata": {},
   "outputs": [
    {
     "data": {
      "text/plain": [
       "'backup/pls_id_sets.zip'"
      ]
     },
     "execution_count": 16,
     "metadata": {},
     "output_type": "execute_result"
    }
   ],
   "source": [
    "zipfile_name = \"pls_id_sets\"\n",
    "\n",
    "shutil.make_archive(zipfile_name, 'zip', PLS_ID_PATH)\n",
    "shutil.move(f'{zipfile_name}.zip', BACKUP_PATH)"
   ]
  },
  {
   "cell_type": "markdown",
   "metadata": {},
   "source": [
    "<div style=\"text-align: right\">\n",
    "<a href=\"#indice\"><font size=5><i class=\"fa fa-arrow-circle-up\" aria-hidden=\"true\" style=\"color:#92002A\"></i></font></a>\n",
    "</div>\n",
    "\n",
    "---\n",
    "\n",
    "<div style=\"text-align: right\"> <font size=6><i class=\"fa fa-graduation-cap\" aria-hidden=\"true\" style=\"color:#92002A\"></i> </font></div>"
   ]
  }
 ],
 "metadata": {
  "kernelspec": {
   "display_name": "Python 3",
   "language": "python",
   "name": "python3"
  },
  "language_info": {
   "codemirror_mode": {
    "name": "ipython",
    "version": 3
   },
   "file_extension": ".py",
   "mimetype": "text/x-python",
   "name": "python",
   "nbconvert_exporter": "python",
   "pygments_lexer": "ipython3",
   "version": "3.8.5"
  }
 },
 "nbformat": 4,
 "nbformat_minor": 2
}
