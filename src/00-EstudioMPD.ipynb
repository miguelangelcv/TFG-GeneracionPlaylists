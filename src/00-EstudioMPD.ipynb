{
 "cells": [
  {
   "cell_type": "markdown",
   "metadata": {},
   "source": [
    "<img src=\"images/header.png\" alt=\"Logo UCLM-ESII\" align=\"right\">\n",
    "\n",
    "<br><br><br><br>\n",
    "<h2><font color=\"#92002A\" size=4>Trabajo Fin de Grado</font></h2>\n",
    "\n",
    "<h1><font color=\"#6B001F\" size=5>Generación automática de playlist de canciones <br> mediante técnicas de minería de datos</font></h1>\n",
    "<h2><font color=\"#92002A\" size=3>Parte 0 - Estudio del 'Million Playlist Dataset' (MPD)</font></h2>\n",
    "\n",
    "<br>\n",
    "<div style=\"text-align: right\">\n",
    "    <font color=\"#B20033\" size=3><strong>Autor</strong>: <em>Miguel Ángel Cantero Víllora</em></font><br>\n",
    "    <br>\n",
    "    <font color=\"#B20033\" size=3><strong>Directores</strong>: <em>José Antonio Gámez Martín</em></font><br>\n",
    "    <font color=\"#B20033\" size=3><em>Juan Ángel Aledo Sánchez</em></font><br>\n",
    "    <br>\n",
    "<font color=\"#B20033\" size=3>Grado en Ingeniería Informática</font><br>\n",
    "<font color=\"#B20033\" size=2>Escuela Superior de Ingeniería Informática | Universidad de Castilla-La Mancha</font>\n",
    "\n",
    "</div>"
   ]
  },
  {
   "cell_type": "markdown",
   "metadata": {},
   "source": [
    "---\n",
    "\n",
    "<br>\n",
    "\n",
    "<a id=\"indice\"></a>\n",
    "<h2><font color=\"#92002A\" size=5>Índice</font></h2>\n",
    "\n",
    "<br>\n",
    "\n",
    "* [1. Introducción](#section1)\n",
    "* [2. Carga de ficheros](#section2)\n",
    "* [3. Estructura de los ficheros JSON](#section3)\n",
    "* [4. Criterios de construcción](#section4)  \n",
    "* [5. Observaciones](#section5)\n",
    "* [6. Conclusiones](#section6)\n",
    "\n",
    "<br>\n",
    "\n",
    "---"
   ]
  },
  {
   "cell_type": "code",
   "execution_count": 1,
   "metadata": {},
   "outputs": [
    {
     "data": {
      "text/html": [
       "<style>.container { width:95% !important; }</style>"
      ],
      "text/plain": [
       "<IPython.core.display.HTML object>"
      ]
     },
     "metadata": {},
     "output_type": "display_data"
    }
   ],
   "source": [
    "# Permite establecer la anchura de la celda\n",
    "from IPython.core.display import display, HTML\n",
    "display(HTML(\"<style>.container { width:95% !important; }</style>\"))"
   ]
  },
  {
   "cell_type": "code",
   "execution_count": 2,
   "metadata": {},
   "outputs": [],
   "source": [
    "#!pip install emoji\n",
    "#!pip install regex"
   ]
  },
  {
   "cell_type": "code",
   "execution_count": 3,
   "metadata": {},
   "outputs": [],
   "source": [
    "import emoji\n",
    "import json\n",
    "import os\n",
    "import regex as re\n",
    "\n",
    "from collections import Counter\n",
    "from emoji import UNICODE_EMOJI"
   ]
  },
  {
   "cell_type": "markdown",
   "metadata": {},
   "source": [
    "\n",
    "---\n",
    "\n",
    "<br>\n",
    "\n",
    "<a id=\"section1\"></a>\n",
    "## <font color=\"#92002A\">1 - Introducción</font>\n",
    "<br>\n",
    "\n",
    "Para generar nuestro DataSet con playlists de *Spotify*, hemos tomado como referencia una muestra del conjunto de listas usado para la competición \"[__RecSys Challenge 2018__](https://recsys-challenge.spotify.com/)\". Dicha muestra está publicada en *GitHub* dentro del proyecto [_Spotify-Song-Recommendation-ML_](https://github.com/vaslnk/Spotify-Song-Recommendation-ML) del usuario *vaslnk*.\n",
    "\n",
    "A este conjunto se le conoce por el nombre de [\"__Million Playlist Dataset__\" (MPD)](https://recsys-challenge.spotify.com/readme). El MPD contiene un millón de listas de reproducción (playlists) generadas por usuarios de _Spotify_. Estas listas se crearon durante el periodo de enero de 2010 y octubre de 2017. Cada playlist contiene su título, la lista de canciones (incluyendo metadatos de cada una), información de edición (última vez editada y número de veces editada) y otra información diversa sobre la playlist.\n",
    "\n",
    "En esta libreta vamos a ver qué características posee dicha muestra, para llevar parte de ellas al conjunto que queremos crear."
   ]
  },
  {
   "cell_type": "markdown",
   "metadata": {},
   "source": [
    "<div style=\"text-align: right\">\n",
    "<a href=\"#indice\"><font size=5><i class=\"fa fa-arrow-circle-up\" aria-hidden=\"true\" style=\"color:#92002A\"></i></font></a>\n",
    "</div>\n",
    "\n",
    "---"
   ]
  },
  {
   "cell_type": "markdown",
   "metadata": {},
   "source": [
    "<a id=\"section2\"></a>\n",
    "## <font color=\"#92002A\">2 - Carga de ficheros</font>\n",
    "<br>"
   ]
  },
  {
   "cell_type": "code",
   "execution_count": 4,
   "metadata": {},
   "outputs": [],
   "source": [
    "# Variables globales\n",
    "\n",
    "# Directorio donde se encuentra la muestra del MPD\n",
    "MPD_PATH = 'spotifyMPD/'"
   ]
  },
  {
   "cell_type": "code",
   "execution_count": 5,
   "metadata": {},
   "outputs": [
    {
     "name": "stdout",
     "output_type": "stream",
     "text": [
      "4 ficheros cargados\n"
     ]
    },
    {
     "data": {
      "text/plain": [
       "['spotifyMPD/mpd.slice.1000-1999.json',\n",
       " 'spotifyMPD/mpd.slice.0-999.json',\n",
       " 'spotifyMPD/mpd.slice.2000-2999.json',\n",
       " 'spotifyMPD/mpd.slice.3000-3999.json']"
      ]
     },
     "execution_count": 5,
     "metadata": {},
     "output_type": "execute_result"
    }
   ],
   "source": [
    "mpd_files = [(MPD_PATH + file) for file in os.listdir(MPD_PATH) \n",
    "             if file.startswith('mpd.slice.') & file.endswith('.json')]\n",
    "\n",
    "mpd_dict_list = []\n",
    "\n",
    "for file in mpd_files:\n",
    "    with open(file, 'r') as f:\n",
    "        mpd_dict_list.append(json.load(f))\n",
    "\n",
    "print(f\"{len(mpd_dict_list)} ficheros cargados\")\n",
    "\n",
    "mpd_files"
   ]
  },
  {
   "cell_type": "markdown",
   "metadata": {},
   "source": [
    "<div style=\"text-align: right\">\n",
    "<a href=\"#indice\"><font size=5><i class=\"fa fa-arrow-circle-up\" aria-hidden=\"true\" style=\"color:#92002A\"></i></font></a>\n",
    "</div>\n",
    "\n",
    "---"
   ]
  },
  {
   "cell_type": "markdown",
   "metadata": {},
   "source": [
    "<a id=\"section3\"></a>\n",
    "## <font color=\"#92002A\">3 - Estructura de los ficheros JSON</font>\n",
    "\n",
    "<br>\n",
    "\n",
    "El _Million Playlist Dataset_ está dividido en 1.000 ficheros, donde cada uno contiene 1.000 listas de reproducción. Estos ficheros se han nombrado siguiendo la siguiente convención:\n",
    "\n",
    "<br>\n",
    "\n",
    "```\n",
    "mpd.slice.STARTING_PLAYLIST_ID_-_ENDING_PLAYLIST_ID.json\n",
    "```\n",
    "\n",
    "<br>\n",
    "\n",
    "Por ejemplo, las primeras 1.000 listas del MPD están contenidas en un fichero llamado `mpd.slice.0-999.json` y las últimas 1.000 listas están en un fichero llamado `mpd.slice.999000-999999.json`.\n",
    "\n",
    "<br>\n",
    "\n",
    "Cada bloque es un diccionario JSON con dos campos:\n",
    "\n",
    "- ___info___\n",
    "- ___playlists___"
   ]
  },
  {
   "cell_type": "code",
   "execution_count": 6,
   "metadata": {},
   "outputs": [
    {
     "data": {
      "text/plain": [
       "dict_keys(['info', 'playlists'])"
      ]
     },
     "execution_count": 6,
     "metadata": {},
     "output_type": "execute_result"
    }
   ],
   "source": [
    "# Usamos como ejemplo el primer diccionario que tenemos en la lista\n",
    "example_dict = mpd_dict_list[0]\n",
    "\n",
    "example_dict.keys()"
   ]
  },
  {
   "cell_type": "markdown",
   "metadata": {},
   "source": [
    "---"
   ]
  },
  {
   "cell_type": "markdown",
   "metadata": {},
   "source": [
    "<a id=\"section31\"></a>\n",
    "### <font color=\"#B20033\">El campo '*info*'</font>\n",
    "<br>\n",
    "\n",
    "El campo _info_ es un diccionario que contiene información general sobre el bloque en particular:\n",
    "* ___slice___: Porción de listas que contiene.\n",
    "* ___version___: Versión del conjunto de datos.\n",
    "* ***generated_on***: Fecha en la que se ha generado (formato *timestamp*)."
   ]
  },
  {
   "cell_type": "code",
   "execution_count": 7,
   "metadata": {},
   "outputs": [
    {
     "data": {
      "text/plain": [
       "{'generated_on': '2017-12-03 08:41:42.057563',\n",
       " 'slice': '1000-1999',\n",
       " 'version': 'v1'}"
      ]
     },
     "execution_count": 7,
     "metadata": {},
     "output_type": "execute_result"
    }
   ],
   "source": [
    "example_dict['info']"
   ]
  },
  {
   "cell_type": "markdown",
   "metadata": {},
   "source": [
    "\n",
    "\n",
    "---"
   ]
  },
  {
   "cell_type": "markdown",
   "metadata": {},
   "source": [
    "<a id=\"section32\"></a>\n",
    "### <font color=\"#B20033\">El campo '*playlists*'</font>\n",
    "<br>\n",
    "\n",
    "Este campo es un array que contiene 1.000 listas. Cada lista es un diccionario que posee los siguientes campos:\n",
    "\n",
    "* ***pid***: [integer] Identificador de la playlist dentro del conjunto. Es un número entre 0 y 999.999\n",
    "* ***name***: [string] Título de la lista.\n",
    "* ***modified_at***: [seconds - timestamp] Fecha de modificación.\n",
    "* ***num_artists***: [integer] Número total de artistas únicos que contiene la playlist.\n",
    "* ***num_albums***: [integer] Número total de álbumes únicos que contiene la playlist.\n",
    "* ***num_tracks***: [integer] Número total de pistas que contiene la playlist.\n",
    "* **num_followers**: [integer] Número de seguidores que tiene la playlist.\n",
    "* ***num_edits***: [integer] Número de sesiones de edición. Se considera que las pistas agregadas en una ventana de dos horas han sido agregadas en una sola sesión de edición.\n",
    "* ***duration_ms***: [miliseconds - timestamp] Duración total de la playlist.\n",
    "* ***collaborative***: [boolean] Si es colaborativa.\n",
    "* ***tracks***: Lista de diccionarios con información sobre las pistas. Cada diccionario contiene los siguientes campos:\n",
    "    * *track_name*: Título de la pista.\n",
    "    * *track_uri*: Dirección Spotify de la pista.\n",
    "    * *album_name*: Título del álbum.\n",
    "    * *album_uri*: Dirección Spotify del álbum.\n",
    "    * *artist_name*: Nombre del artista.\n",
    "    * *artist_uri*: Dirección Spotify del artista.\n",
    "    * *duration_ms*: Duración en milisegundos de la pista.\n",
    "    * *pos*: Posición de la pista dentro de la playlist.    "
   ]
  },
  {
   "cell_type": "code",
   "execution_count": 8,
   "metadata": {},
   "outputs": [
    {
     "data": {
      "text/plain": [
       "dict_keys(['name', 'collaborative', 'pid', 'modified_at', 'num_tracks', 'num_albums', 'num_followers', 'tracks', 'num_edits', 'duration_ms', 'num_artists'])"
      ]
     },
     "execution_count": 8,
     "metadata": {},
     "output_type": "execute_result"
    }
   ],
   "source": [
    "example_dict['playlists'][0].keys()"
   ]
  },
  {
   "cell_type": "code",
   "execution_count": 9,
   "metadata": {},
   "outputs": [
    {
     "data": {
      "text/plain": [
       "dict_keys(['pos', 'artist_name', 'track_uri', 'artist_uri', 'track_name', 'album_uri', 'duration_ms', 'album_name'])"
      ]
     },
     "execution_count": 9,
     "metadata": {},
     "output_type": "execute_result"
    }
   ],
   "source": [
    "example_dict['playlists'][0]['tracks'][0].keys()"
   ]
  },
  {
   "cell_type": "markdown",
   "metadata": {},
   "source": [
    "---"
   ]
  },
  {
   "cell_type": "markdown",
   "metadata": {},
   "source": [
    "<a id=\"section33\"></a>\n",
    "### <font color=\"#B20033\">Ejemplo</font>\n",
    "\n",
    "<br>\n",
    "\n",
    "A continuación se muestra un item de ejemplo perteneciente a la lista de playlists:"
   ]
  },
  {
   "cell_type": "markdown",
   "metadata": {},
   "source": [
    "```json\n",
    "{\n",
    "    \"name\": \"musical\",\n",
    "    \"collaborative\": \"false\",\n",
    "    \"pid\": 5,\n",
    "    \"modified_at\": 1493424000,\n",
    "    \"num_albums\": 7,\n",
    "    \"num_tracks\": 12,\n",
    "    \"num_followers\": 1,\n",
    "    \"num_edits\": 2,\n",
    "    \"duration_ms\": 2657366,\n",
    "    \"num_artists\": 6,\n",
    "    \"tracks\": [\n",
    "        {\n",
    "            \"pos\": 0,\n",
    "            \"artist_name\": \"Degiheugi\",\n",
    "            \"track_uri\": \"spotify:track:7vqa3sDmtEaVJ2gcvxtRID\",\n",
    "            \"artist_uri\": \"spotify:artist:3V2paBXEoZIAhfZRJmo2jL\",\n",
    "            \"track_name\": \"Finalement\",\n",
    "            \"album_uri\": \"spotify:album:2KrRMJ9z7Xjoz1Az4O6UML\",\n",
    "            \"duration_ms\": 166264,\n",
    "            \"album_name\": \"Dancing Chords and Fireflies\"\n",
    "        },\n",
    "        {\n",
    "            \"pos\": 1,\n",
    "            \"artist_name\": \"Degiheugi\",\n",
    "            \"track_uri\": \"spotify:track:23EOmJivOZ88WJPUbIPjh6\",\n",
    "            \"artist_uri\": \"spotify:artist:3V2paBXEoZIAhfZRJmo2jL\",\n",
    "            \"track_name\": \"Betty\",\n",
    "            \"album_uri\": \"spotify:album:3lUSlvjUoHNA8IkNTqURqd\",\n",
    "            \"duration_ms\": 235534,\n",
    "            \"album_name\": \"Endless Smile\"\n",
    "        },\n",
    "        {\n",
    "            \"pos\": 2,\n",
    "            \"artist_name\": \"Degiheugi\",\n",
    "            \"track_uri\": \"spotify:track:1vaffTCJxkyqeJY7zF9a55\",\n",
    "            \"artist_uri\": \"spotify:artist:3V2paBXEoZIAhfZRJmo2jL\",\n",
    "            \"track_name\": \"Some Beat in My Head\",\n",
    "            \"album_uri\": \"spotify:album:2KrRMJ9z7Xjoz1Az4O6UML\",\n",
    "            \"duration_ms\": 268050,\n",
    "            \"album_name\": \"Dancing Chords and Fireflies\"\n",
    "        },\n",
    "        // 8 tracks omitted\n",
    "        {\n",
    "            \"pos\": 11,\n",
    "            \"artist_name\": \"Mo' Horizons\",\n",
    "            \"track_uri\": \"spotify:track:7iwx00eBzeSSSy6xfESyWN\",\n",
    "            \"artist_uri\": \"spotify:artist:3tuX54dqgS8LsGUvNzgrpP\",\n",
    "            \"track_name\": \"Fever 99\\u00b0\",\n",
    "            \"album_uri\": \"spotify:album:2Fg1t2tyOSGWkVYHlFfXVf\",\n",
    "            \"duration_ms\": 364320,\n",
    "            \"album_name\": \"Come Touch The Sun\"\n",
    "        }\n",
    "    ],\n",
    "}\n",
    "```"
   ]
  },
  {
   "cell_type": "markdown",
   "metadata": {},
   "source": [
    "<div style=\"text-align: right\">\n",
    "<a href=\"#indice\"><font size=5><i class=\"fa fa-arrow-circle-up\" aria-hidden=\"true\" style=\"color:#92002A\"></i></font></a>\n",
    "</div>\n",
    "\n",
    "---"
   ]
  },
  {
   "cell_type": "markdown",
   "metadata": {},
   "source": [
    "<a id=\"section4\"></a>\n",
    "## <font color=\"#92002A\">4 - Criterios de construcción</font>\n",
    "\n",
    "<br>\n",
    "\n",
    "El _Million Playlist Dataset_ se ha creado muestreando listas de reproducción de los miles de millones que existen en _Spotify_ y que los usuarios han creado a lo largo de los años. Las listas de reproducción que cumplen los siguientes criterios, se seleccionan al azar:\n",
    "\n",
    "* Ha sido creada por un usuario que reside en los Estados Unidos y es mayor de 13 años.\n",
    "* A la hora en la que fue generado el MPD, la lista era pública.\n",
    "* Contiene entre 5 y 250 pistas.\n",
    "* Contiene al menos 3 artistas únicos.\n",
    "* Contiene al menos 2 álbumes únicos.\n",
    "* No contiene pistas locales (pistas que no están en _Spotify_ y que el usuario tiene en su dispositivo personal).\n",
    "* Tienen al menos un seguidor (sin incluir el creador de la playlist).\n",
    "* Se han creado después del 1 de junio de 2010 y antes del 1 de diciembre de 2017.\n",
    "* No tiene un título ofensivo.\n",
    "* No tiene un título orientado a adultos si la lista de reproducción fue creada por un usuario menor de 18 años.\n",
    "\n",
    "<br>\n",
    "\n",
    "A continuación, vamos a comprobar algunos de estos criterios en la muestra que hemos obtenido:"
   ]
  },
  {
   "cell_type": "code",
   "execution_count": 10,
   "metadata": {},
   "outputs": [
    {
     "name": "stdout",
     "output_type": "stream",
     "text": [
      "Número de listas: 4000 \n"
     ]
    }
   ],
   "source": [
    "playlists = []\n",
    "\n",
    "# Descartamos la clave 'info' y concatenamos los \n",
    "# valores de la clave 'playlists' en una nueva lista\n",
    "for item in mpd_dict_list:\n",
    "    playlists += item['playlists']\n",
    "    \n",
    "print(f\"Número de listas: {len(playlists)} \")"
   ]
  },
  {
   "cell_type": "markdown",
   "metadata": {},
   "source": [
    "---\n",
    "<a id=\"section41\"></a>\n",
    "### <font color=\"#B20033\" size=3>Número de pistas</font>\n",
    "<br>"
   ]
  },
  {
   "cell_type": "code",
   "execution_count": 11,
   "metadata": {},
   "outputs": [
    {
     "name": "stdout",
     "output_type": "stream",
     "text": [
      "Número máximo de pistas: 248\n",
      "Número mínimo de pistas: 5\n"
     ]
    }
   ],
   "source": [
    "print(\"Número máximo de pistas: {0}\".format(max([pl['num_tracks'] for pl in playlists])))\n",
    "print(\"Número mínimo de pistas: {0}\".format(min([pl['num_tracks'] for pl in playlists])))"
   ]
  },
  {
   "cell_type": "markdown",
   "metadata": {},
   "source": [
    "---\n",
    "<a id=\"section42\"></a>\n",
    "### <font color=\"#B20033\" size=3>Número de álbumes</font>\n",
    "<br>"
   ]
  },
  {
   "cell_type": "code",
   "execution_count": 12,
   "metadata": {},
   "outputs": [
    {
     "name": "stdout",
     "output_type": "stream",
     "text": [
      "Número mínimo de álbumes: 2\n"
     ]
    }
   ],
   "source": [
    "print(\"Número mínimo de álbumes: {0}\".format(min([pl['num_albums'] for pl in playlists])))"
   ]
  },
  {
   "cell_type": "markdown",
   "metadata": {},
   "source": [
    "---\n",
    "<a id=\"section43\"></a>\n",
    "### <font color=\"#B20033\" size=3>Número de artistas</font>\n",
    "<br>"
   ]
  },
  {
   "cell_type": "code",
   "execution_count": 13,
   "metadata": {},
   "outputs": [
    {
     "name": "stdout",
     "output_type": "stream",
     "text": [
      "Número mínimo de artistas: 3\n"
     ]
    }
   ],
   "source": [
    "print(\"Número mínimo de artistas: {0}\".format(min([pl['num_artists'] for pl in playlists])))"
   ]
  },
  {
   "cell_type": "markdown",
   "metadata": {},
   "source": [
    "---\n",
    "<a id=\"section44\"></a>\n",
    "### <font color=\"#B20033\" size=3>Número de seguidores</font>\n",
    "<br>"
   ]
  },
  {
   "cell_type": "code",
   "execution_count": 14,
   "metadata": {},
   "outputs": [
    {
     "name": "stdout",
     "output_type": "stream",
     "text": [
      "Número mínimo de seguidores: 1\n"
     ]
    }
   ],
   "source": [
    "print(\"Número mínimo de seguidores: {0}\".format(min([pl['num_followers'] for pl in playlists])))"
   ]
  },
  {
   "cell_type": "markdown",
   "metadata": {},
   "source": [
    "---\n",
    "\n",
    "<br>\n",
    "\n",
    "<div class=\"alert alert-block alert-warning\">\n",
    "\n",
    "<i class=\"fa fa-exclamation-circle\" aria-hidden=\"true\"></i>\n",
    "__Importante__: Algunas características como el país de residencia del usuario, fecha de creación o edad del usuario (para comprobar que no contiene títulos orientados a adultos), no es posible obtenerlas ya que la WebAPI de _Spotify_ no proporciona esta información.\n",
    "</div>\n",
    "\n",
    "<div class=\"alert alert-block alert-info\">\n",
    "    \n",
    "<i class=\"fa fa-info-circle\" aria-hidden=\"true\"></i> __Nota 1__: Si una lista es pública o contiene pistas locales no podemos comprobarlo en este fragmento del MPD, pero si podremos hacerlo una vez descarguemos las playlists. \n",
    "</div>\n",
    "\n",
    "<div class=\"alert alert-block alert-info\">\n",
    "    \n",
    "<i class=\"fa fa-info-circle\" aria-hidden=\"true\"></i> __Nota 2__:\n",
    "Podemos comprobar si un título es ofensivo, pero no de forma directa (WebAPI de *Spotify*). Para ello, buscaremos un conjunto de '*palabras ofensivas*' que nos permitan realizar esta comprobación.\n",
    "</div>\n",
    "\n",
    "<br>"
   ]
  },
  {
   "cell_type": "markdown",
   "metadata": {},
   "source": [
    "<div style=\"text-align: right\">\n",
    "<a href=\"#indice\"><font size=5><i class=\"fa fa-arrow-circle-up\" aria-hidden=\"true\" style=\"color:#92002A\"></i></font></a>\n",
    "</div>\n",
    "\n",
    "---"
   ]
  },
  {
   "cell_type": "markdown",
   "metadata": {},
   "source": [
    "<a id=\"section5\"></a>\n",
    "## <font color=\"#92002A\">5 - Observaciones</font>\n",
    "<br>"
   ]
  },
  {
   "cell_type": "markdown",
   "metadata": {},
   "source": [
    "A parte de los criterios de construcción con los que se llevó a cabo el DataSet, vamos a hacer algunas comprobaciones en los títulos para ver si podemos extraer alguna nueva característica que nos ayude a crear nuestro propio conjunto."
   ]
  },
  {
   "cell_type": "markdown",
   "metadata": {},
   "source": [
    "### <font color=\"#B20033\" size=3>Longitud de los títulos</font>\n",
    "<br>"
   ]
  },
  {
   "cell_type": "code",
   "execution_count": 15,
   "metadata": {},
   "outputs": [],
   "source": [
    "# Creamos una lista con los títulos de las playlists\n",
    "names = [pl['name'] for pl in playlists]\n",
    "\n",
    "sort_name = min(names, key=len) # Título más corto\n",
    "long_name = max(names, key=len) # Título más largo"
   ]
  },
  {
   "cell_type": "code",
   "execution_count": 16,
   "metadata": {},
   "outputs": [
    {
     "name": "stdout",
     "output_type": "stream",
     "text": [
      "Título más corto:\n",
      "\tpr --> 2 caracteres\n",
      "\n",
      "\n",
      "Título más largo:\n",
      "\tFifty Shades Of Grey (Original Motion Picture Soundtrack)\n",
      "\t- 50 caracteres (sin espacios)\n"
     ]
    }
   ],
   "source": [
    "print(\"Título más corto:\")\n",
    "print(f\"\\t{sort_name} --> {len(sort_name)} caracteres\\n\\n\")\n",
    "\n",
    "print(\"Título más largo:\")\n",
    "print(f\"\\t{long_name}\")\n",
    "chars = len(long_name) - long_name.count(' ')\n",
    "print(f\"\\t- {chars} caracteres (sin espacios)\")"
   ]
  },
  {
   "cell_type": "markdown",
   "metadata": {},
   "source": [
    "<div class=\"alert alert-block alert-info\">\n",
    "    \n",
    "<i class=\"fa fa-info-circle\" aria-hidden=\"true\"></i> __Nuevo criterio__: El título contiene entre 2 y 50 caracteres (sin espacios).\n",
    "</div>"
   ]
  },
  {
   "cell_type": "markdown",
   "metadata": {},
   "source": [
    "<br>\n",
    "\n",
    "Vamos a estudiar también el número de palabras que tiene un título:"
   ]
  },
  {
   "cell_type": "code",
   "execution_count": 17,
   "metadata": {},
   "outputs": [
    {
     "name": "stdout",
     "output_type": "stream",
     "text": [
      "Número máximo de palabras que tiene un título: 9\n"
     ]
    }
   ],
   "source": [
    "print(\"Número máximo de palabras que tiene un título: {0}\".format(max([len(pl['name'].split()) for pl in playlists])))"
   ]
  },
  {
   "cell_type": "markdown",
   "metadata": {},
   "source": [
    "<div class=\"alert alert-block alert-info\">\n",
    "    \n",
    "<i class=\"fa fa-info-circle\" aria-hidden=\"true\"></i> __Nuevo criterio__: El título contiene menos de 10 palabras.\n",
    "</div>"
   ]
  },
  {
   "cell_type": "markdown",
   "metadata": {},
   "source": [
    "---\n",
    "\n",
    "### <font color=\"#B20033\" size=3>Existencia de emoticonos</font>\n",
    "<br>"
   ]
  },
  {
   "cell_type": "markdown",
   "metadata": {},
   "source": [
    "Estudiamos el número de emoticonos/emojis que contienen los títulos de las playlists:"
   ]
  },
  {
   "cell_type": "code",
   "execution_count": 18,
   "metadata": {},
   "outputs": [],
   "source": [
    "# Comprueba si el carácter es un emoticono.\n",
    "def is_emoji(s):\n",
    "    return s in UNICODE_EMOJI['en']\n",
    "\n",
    "# Comprueba si un texto contiene emoticonos.\n",
    "def contains_emoji(text):\n",
    "    return len([c for c in UNICODE_EMOJI['en'] if(c in str(text))]) > 0\n",
    "\n",
    "# Comprueba si un texto contiene sólo emoticonos.\n",
    "def all_text_emoji(text):\n",
    "    return all([(c in UNICODE_EMOJI['en']) for c in str(text)])\n",
    "\n",
    "# Cuenta los emoticonos que contiene un texto.\n",
    "def count_text_emoji(text):\n",
    "    return sum([(c in UNICODE_EMOJI['en']) for c in str(text)])\n",
    "\n",
    "# Elimina los emoticonos de un texto.\n",
    "def remove_emoji(text):\n",
    "    return emoji.get_emoji_regexp().sub(u'', str(text))"
   ]
  },
  {
   "cell_type": "code",
   "execution_count": 19,
   "metadata": {},
   "outputs": [
    {
     "name": "stdout",
     "output_type": "stream",
     "text": [
      "Número máximo de emojis que contiene el título: 10\n"
     ]
    }
   ],
   "source": [
    "max_emojis = max([len(name) for name in names if count_text_emoji(name)])\n",
    "print(f\"Número máximo de emojis que contiene el título: {max_emojis}\")"
   ]
  },
  {
   "cell_type": "markdown",
   "metadata": {},
   "source": [
    "<br>\n",
    "\n",
    "Si el título sólo contiene emojis, el número máximo de estos es:"
   ]
  },
  {
   "cell_type": "code",
   "execution_count": 20,
   "metadata": {},
   "outputs": [
    {
     "name": "stdout",
     "output_type": "stream",
     "text": [
      "Número máximo de emojis que contiene el título: 6\n"
     ]
    }
   ],
   "source": [
    "max_only_emojis = max([len(name) for name in names if all_text_emoji(name)])\n",
    "print(f\"Número máximo de emojis que contiene el título: {max_only_emojis}\")"
   ]
  },
  {
   "cell_type": "markdown",
   "metadata": {},
   "source": [
    "<br>\n",
    "\n",
    "<div class=\"alert alert-block alert-info\">\n",
    "    \n",
    "<i class=\"fa fa-info-circle\" aria-hidden=\"true\"></i> __Nuevos criterios__:\n",
    "* El título contiene como máximo 10 emoticonos, si también contiene texto.\n",
    "* Si el título está formado únicamente por emoticonos, contiene un número máximo de 4.\n",
    "</div>"
   ]
  },
  {
   "cell_type": "markdown",
   "metadata": {},
   "source": [
    "---\n",
    "\n",
    "### <font color=\"#B20033\" size=3>Alfabeto</font>\n",
    "<br>\n",
    "\n",
    "Por último, vamos a comprobar si los títulos de la muestra de playlists contienen algun carácter que no sea perteneciente al alfabeto latino:"
   ]
  },
  {
   "cell_type": "code",
   "execution_count": 21,
   "metadata": {},
   "outputs": [],
   "source": [
    "# Comprueba que los caracteres de un texto pertenecen\n",
    "# al alfabeto latino o al conjunto de caracteres comunes\n",
    "def contains_valid_characters(input):\n",
    "    \"\"\"\n",
    "    :param input: Texto que queremos comprobar.\n",
    "    :return: Si pertenece o no al alfabeto (boolean).\n",
    "    \"\"\"\n",
    "    text = str(input)\n",
    "    pattern = re.compile(r'([\\p{IsCommon}\\p{IsLatin}]+)', re.UNICODE)\n",
    "    result = re.search(pattern,text)\n",
    "    is_valid = False\n",
    "    if len(result) > 0:\n",
    "        is_valid = len(result[0]) == len(text)\n",
    "    return is_valid"
   ]
  },
  {
   "cell_type": "markdown",
   "metadata": {},
   "source": [
    "Con la función que hemos declarado en el bloque anterior, vamos a imprimir aquellos títulos que contienen algún carácter que no sea del alfabeto latino, _{IsLatin}_ o del conjunto de caracteres comunes, _{IsCommon}_."
   ]
  },
  {
   "cell_type": "code",
   "execution_count": 22,
   "metadata": {},
   "outputs": [
    {
     "name": "stdout",
     "output_type": "stream",
     "text": [
      "❤️\n",
      "❤️\n",
      "☁️☁️☁️\n",
      "❄️\n",
      "✔️\n",
      "( ͡° ͜ʖ ͡°)\n",
      "⚡️⚡️⚡️\n",
      "⚡️\n",
      "❄️\n",
      "🏃🏼‍♀️\n",
      "‼️\n",
      "❤️\n",
      "❤️❤️\n",
      "❤️\n",
      "❤️\n"
     ]
    }
   ],
   "source": [
    "for name in names:\n",
    "    if not contains_valid_characters(name):\n",
    "        print(name)"
   ]
  },
  {
   "cell_type": "markdown",
   "metadata": {},
   "source": [
    "Vemos que aquellos títulos que la función nos ha devuelto como _False_ contienen solamente emoticonos (a excepción del 2 y el 11). Por lo tanto, consideramos que no tenemos otros caracteres pertenecientes a otros alfabetos."
   ]
  },
  {
   "cell_type": "markdown",
   "metadata": {},
   "source": [
    "<div class=\"alert alert-block alert-info\">\n",
    "    \n",
    "<i class=\"fa fa-info-circle\" aria-hidden=\"true\"></i> __Nuevo criterio__: Los títulos sólo contienen caracteres del alfabeto latino y emoticonos.\n",
    "</div>"
   ]
  },
  {
   "cell_type": "markdown",
   "metadata": {},
   "source": [
    "---\n",
    "\n",
    "### <font color=\"#B20033\" size=3>Otras observaciones</font>\n",
    "\n",
    "<br>\n",
    "\n",
    "Para hacernos una idea de qué contienen los títulos de las playlists, vamos a ver cuáles son las palabras (junto al número de apariciones) que existen en el conjunto:"
   ]
  },
  {
   "cell_type": "code",
   "execution_count": 23,
   "metadata": {},
   "outputs": [
    {
     "data": {
      "text/plain": [
       "[('country', 149),\n",
       " ('chill', 117),\n",
       " ('music', 106),\n",
       " ('songs', 94),\n",
       " ('summer', 89),\n",
       " ('rock', 77),\n",
       " ('new', 71),\n",
       " ('playlist', 66),\n",
       " ('good', 64),\n",
       " ('party', 60),\n",
       " ('rap', 60),\n",
       " ('workout', 59),\n",
       " ('the', 58),\n",
       " ('christmas', 55),\n",
       " ('mix', 50)]"
      ]
     },
     "execution_count": 23,
     "metadata": {},
     "output_type": "execute_result"
    }
   ],
   "source": [
    "word_list = Counter(' '.join(names).lower().split()).most_common()\n",
    "word_list[0:15]"
   ]
  },
  {
   "cell_type": "markdown",
   "metadata": {},
   "source": [
    "Como podemos observar, algunas de las palabras más frecuentes que contienen los títulos son:\n",
    "- Géneros musicales\n",
    "- Estaciones del año\n",
    "- Estados de ánimo\n",
    "- Actividades\n",
    "- Eventos\n",
    "- ..."
   ]
  },
  {
   "cell_type": "markdown",
   "metadata": {},
   "source": [
    "<div style=\"text-align: right\">\n",
    "<a href=\"#indice\"><font size=5><i class=\"fa fa-arrow-circle-up\" aria-hidden=\"true\" style=\"color:#92002A\"></i></font></a>\n",
    "</div>\n",
    "\n",
    "---"
   ]
  },
  {
   "cell_type": "markdown",
   "metadata": {},
   "source": [
    "<a id=\"section6\"></a>\n",
    "## <font color=\"#92002A\">6 - Conclusiones</font>\n",
    "<br>\n",
    "\n",
    "Una vez estudiada la muestra obtenida del *Million Playlist Dataset*, hemos obtenido los siguientes criterios para crear nuestro propio conjunto:\n",
    "\n",
    "1. La playlist es pública (al menos durante la fase de descarga).\n",
    "2. Contiene entre 5 y 250 pistas.\n",
    "3. Contiene al menos 3 artistas únicos.\n",
    "4. Contiene al menos 2 álbumes únicos.\n",
    "5. No contiene pistas locales.\n",
    "6. Tienen al menos un seguidor.\n",
    "7. No tiene un título ofensivo.\n",
    "8. El título contiene entre 2 y 50 caracteres (sin espacios).\n",
    "9. El título contiene menos de 10 palabras.\n",
    "10. Los títulos sólo contienen caracteres del alfabeto latino y emoticonos.\n",
    "11. El título contiene como máximo 10 emoticonos, si también contiene texto.\n",
    "12. Si el título está formado únicamente por emoticonos, contiene un número máximo de 4.\n",
    "\n",
    "<br>\n",
    "\n",
    "La mayor parte de estos criterios serán aplicados en la libreta [_Filtrado de Playlists_](04-FiltradoPlaylists.ipynb). Sin embargo, para reducir el número de playlists a obtener y facilitar la descarga, otros de ellos serán aplicados en las siguientes libretas:\n",
    "- [Preparación de la descarga de playlists](02-PreparacionDescarga.ipynb).\n",
    "- [Descarga de playlists](03-DescargaPlaylists.ipynb)."
   ]
  },
  {
   "cell_type": "markdown",
   "metadata": {},
   "source": [
    "<div style=\"text-align: right\">\n",
    "<a href=\"#indice\"><font size=5><i class=\"fa fa-arrow-circle-up\" aria-hidden=\"true\" style=\"color:#92002A\"></i></font></a>\n",
    "</div>\n",
    "\n",
    "---\n",
    "\n",
    "<div style=\"text-align: right\"> <font size=6><i class=\"fa fa-graduation-cap\" aria-hidden=\"true\" style=\"color:#92002A\"></i> </font></div>"
   ]
  }
 ],
 "metadata": {
  "kernelspec": {
   "display_name": "Python 3",
   "language": "python",
   "name": "python3"
  },
  "language_info": {
   "codemirror_mode": {
    "name": "ipython",
    "version": 3
   },
   "file_extension": ".py",
   "mimetype": "text/x-python",
   "name": "python",
   "nbconvert_exporter": "python",
   "pygments_lexer": "ipython3",
   "version": "3.8.5"
  }
 },
 "nbformat": 4,
 "nbformat_minor": 2
}
