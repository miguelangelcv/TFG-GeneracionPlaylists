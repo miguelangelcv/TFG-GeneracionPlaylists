{
 "cells": [
  {
   "cell_type": "markdown",
   "metadata": {},
   "source": [
    "<img src=\"images/header.png\" alt=\"Logo UCLM-ESII\" align=\"right\">\n",
    "\n",
    "<br><br><br><br>\n",
    "<h2><font color=\"#92002A\" size=4>Trabajo Fin de Grado</font></h2>\n",
    "\n",
    "<h1><font color=\"#6B001F\" size=5>Generación automática de playlist de canciones <br> mediante técnicas de minería de datos</font></h1>\n",
    "<h2><font color=\"#92002A\" size=3>Parte 9 - Preprocesamiento 2</font></h2>\n",
    "\n",
    "<br>\n",
    "<div style=\"text-align: right\">\n",
    "    <font color=\"#B20033\" size=3><strong>Autor</strong>: <em>Miguel Ángel Cantero Víllora</em></font><br>\n",
    "    <br>\n",
    "    <font color=\"#B20033\" size=3><strong>Directores</strong>: <em>José Antonio Gámez Martín</em></font><br>\n",
    "    <font color=\"#B20033\" size=3><em>Juan Ángel Aledo Sánchez</em></font><br>\n",
    "    <br>\n",
    "<font color=\"#B20033\" size=3>Grado en Ingeniería Informática</font><br>\n",
    "<font color=\"#B20033\" size=2>Escuela Superior de Ingeniería Informática | Universidad de Castilla-La Mancha</font>\n",
    "\n",
    "</div>"
   ]
  },
  {
   "cell_type": "markdown",
   "metadata": {},
   "source": [
    "---\n",
    "\n",
    "<br>\n",
    "\n",
    "\n",
    "<a id=\"indice\"></a>\n",
    "<h2><font color=\"#92002A\" size=5>Índice</font></h2>\n",
    "\n",
    "<br>\n",
    "\n",
    "* [1. Introducción](#section1)\n",
    "* [2. Creación de matrices dispersas](#section2)\n",
    "    * [2.1. Pistas](#section21)\n",
    "    * [2.2. Artistas](#section22)\n",
    "* [3. Creación de características de playlists](#section3)\n",
    "* [4. Almacenamiento del DataSet en formato LightFM](#section4)\n",
    "\n",
    "\n",
    "<br>\n",
    "\n",
    "---"
   ]
  },
  {
   "cell_type": "code",
   "execution_count": 1,
   "metadata": {},
   "outputs": [],
   "source": [
    "import csv\n",
    "import os\n",
    "import pickle\n",
    "import joblib\n",
    "import scipy.sparse as sp\n",
    "\n",
    "from lightfm.data import Dataset\n",
    "from sklearn.feature_extraction.text import CountVectorizer\n",
    "from sklearn.preprocessing import LabelBinarizer"
   ]
  },
  {
   "cell_type": "code",
   "execution_count": 2,
   "metadata": {},
   "outputs": [],
   "source": [
    "# Variables globales\n",
    "\n",
    "# Directorio empleado para guardar/leer los datos generados\n",
    "MPD_CSV_PATH = 'MPD_CSV'\n",
    "\n",
    "ALBUMS_FILE = os.path.join(MPD_CSV_PATH,'mpd.albums.csv')\n",
    "ARTISTS_FILE = os.path.join(MPD_CSV_PATH,'mpd.artists.csv')\n",
    "TRACKS_FILE = os.path.join(MPD_CSV_PATH,'mpd.tracks.csv')\n",
    "PLSTRS_FILE = os.path.join(MPD_CSV_PATH,'mpd.pls-tracks.csv')\n",
    "PLSTARTISTS_FILE = os.path.join(MPD_CSV_PATH,'mpd.pls-artists.csv')\n",
    "PLSINFO_FILE = os.path.join(MPD_CSV_PATH,'mpd.playlists-info.csv')\n",
    "PLSTESTINFO_FILE = os.path.join(MPD_CSV_PATH,'mpd.playlists-info-test.csv')\n",
    "NAMES_FILE = os.path.join(MPD_CSV_PATH, \"mpd.names.csv\")\n",
    "\n",
    "MPD_LFM_FILE = os.path.join(MPD_CSV_PATH, \"mpd_lightfm.pickle\")"
   ]
  },
  {
   "cell_type": "markdown",
   "metadata": {},
   "source": [
    "---\n",
    "\n",
    "<br>\n",
    "\n",
    "\n",
    "<a id=\"section1\"></a>\n",
    "## <font color=\"#92002A\">1 - Introducción</font>\n",
    "<br>\n",
    "\n",
    "**LightFM** requiere que los datos que se le pasen al modelo sean matrices de expansión. En el caso de las características de usuario serán matrices *CSR* (matrices de expansión comprimidas), mientras que las interacciones entre usuarios e items serán matrices *COO* (matriz de expansión en formato de coordenadas). En caso de que las interacciones entre usuario e item contengan un peso, también se requerirá que estas sean una matriz COO.\n",
    "\n",
    "Para facilitarnos esta tarea, en la biblioteca de *LightFM* podemos encontrar la clase `lightfm.data.Dataset`, la cual proporciona una serie de funciones para construir las matrices de interacción y las de características.\n",
    "\n",
    "<br>\n",
    "\n",
    "---"
   ]
  },
  {
   "cell_type": "markdown",
   "metadata": {},
   "source": [
    "<div style=\"text-align: right\">\n",
    "<a href=\"#indice\"><font size=5><i class=\"fa fa-arrow-circle-up\" aria-hidden=\"true\" style=\"color:#92002A\"></i></font></a>\n",
    "</div>\n",
    "\n",
    "---"
   ]
  },
  {
   "cell_type": "markdown",
   "metadata": {},
   "source": [
    "<a id=\"section2\"></a>\n",
    "## <font color=\"#92002A\">2 - Creación de matrices de interacción</font>\n",
    "<br>\n",
    "\n",
    "\n",
    "\n",
    "\n",
    "<br>"
   ]
  },
  {
   "cell_type": "markdown",
   "metadata": {},
   "source": [
    "<a id=\"section21\"></a>\n",
    "### <font color=\"#92002A\">2.1 - Pistas</font>\n",
    "\n",
    "<br>"
   ]
  },
  {
   "cell_type": "code",
   "execution_count": 3,
   "metadata": {},
   "outputs": [],
   "source": [
    "def get_plsartists():\n",
    "    file = open(PLSTARTISTS_FILE, \"r\")\n",
    "    return csv.DictReader((line for line in file))\n",
    "\n",
    "def get_plstrs():\n",
    "    file = open(PLSTRS_FILE, \"r\")\n",
    "    return csv.DictReader((line for line in file))\n",
    "\n",
    "def get_artists():\n",
    "    file = open(ARTISTS_FILE, \"r\", encoding='utf8')\n",
    "    return csv.DictReader((line for line in file))\n",
    "\n",
    "def get_tracks():\n",
    "    file = open(TRACKS_FILE, \"r\", encoding='utf8')\n",
    "    return csv.DictReader((line for line in file))\n",
    "\n",
    "def get_names():\n",
    "    file = open(NAMES_FILE, \"r\", encoding='utf8')\n",
    "    return csv.DictReader((line for line in file))"
   ]
  },
  {
   "cell_type": "code",
   "execution_count": 4,
   "metadata": {},
   "outputs": [],
   "source": [
    "mpd_tracks = Dataset()"
   ]
  },
  {
   "cell_type": "code",
   "execution_count": 5,
   "metadata": {},
   "outputs": [],
   "source": [
    "mpd_tracks.fit(users=(x['pl_pid'] for x in get_names()),\n",
    "               items=(x['track_pid'] for x in get_tracks()))"
   ]
  },
  {
   "cell_type": "code",
   "execution_count": 6,
   "metadata": {},
   "outputs": [
    {
     "name": "stdout",
     "output_type": "stream",
     "text": [
      "num_pls: 1010000, num_trs 3759782.\n"
     ]
    }
   ],
   "source": [
    "num_pls, num_trs = mpd_tracks.interactions_shape()\n",
    "print('num_pls: {}, num_trs {}.'.format(num_pls, num_trs))"
   ]
  },
  {
   "cell_type": "code",
   "execution_count": 7,
   "metadata": {},
   "outputs": [
    {
     "name": "stdout",
     "output_type": "stream",
     "text": [
      "<1010000x3759782 sparse matrix of type '<class 'numpy.int32'>'\n",
      "\twith 91895507 stored elements in COOrdinate format>\n"
     ]
    }
   ],
   "source": [
    "tracks_interactions, _ = mpd_tracks.build_interactions(((x['pl_pid'], x['track_pid']))\n",
    "                                                       for x in get_plstrs())\n",
    "print(repr(tracks_interactions))"
   ]
  },
  {
   "cell_type": "markdown",
   "metadata": {},
   "source": [
    "---\n",
    "\n",
    "\n",
    "<br>\n",
    "\n",
    "\n",
    "<a id=\"section22\"></a>\n",
    "### <font color=\"#92002A\">2.2 - Artistas</font>\n",
    "\n",
    "<br>"
   ]
  },
  {
   "cell_type": "code",
   "execution_count": 8,
   "metadata": {},
   "outputs": [],
   "source": [
    "mpd_artists = Dataset()"
   ]
  },
  {
   "cell_type": "code",
   "execution_count": 9,
   "metadata": {},
   "outputs": [],
   "source": [
    "mpd_artists.fit(users=(x['pl_pid'] for x in get_names()),\n",
    "                items=(x['artist_pid'] for x in get_artists()))"
   ]
  },
  {
   "cell_type": "code",
   "execution_count": 10,
   "metadata": {},
   "outputs": [
    {
     "name": "stdout",
     "output_type": "stream",
     "text": [
      "num_pls: 1010000, num_artists 237518.\n"
     ]
    }
   ],
   "source": [
    "num_pls, num_artists = mpd_artists.interactions_shape()\n",
    "print('num_pls: {}, num_artists {}.'.format(num_pls, num_artists))"
   ]
  },
  {
   "cell_type": "code",
   "execution_count": 13,
   "metadata": {},
   "outputs": [
    {
     "name": "stdout",
     "output_type": "stream",
     "text": [
      "<1010000x237518 sparse matrix of type '<class 'numpy.int32'>'\n",
      "\twith 53768798 stored elements in COOrdinate format>\n",
      "<1010000x237518 sparse matrix of type '<class 'numpy.float32'>'\n",
      "\twith 53768798 stored elements in COOrdinate format>\n"
     ]
    }
   ],
   "source": [
    "arts_interactions, arts_weights = mpd_artists.build_interactions(((x['pl_pid'], x['artist_pid'],\n",
    "                                                                   int(x['artist_count']))\n",
    "                                                                  for x in get_plsartists()))\n",
    "print(repr(arts_interactions))\n",
    "print(repr(arts_weights))"
   ]
  },
  {
   "cell_type": "markdown",
   "metadata": {},
   "source": [
    "<div style=\"text-align: right\">\n",
    "<a href=\"#indice\"><font size=5><i class=\"fa fa-arrow-circle-up\" aria-hidden=\"true\" style=\"color:#92002A\"></i></font></a>\n",
    "</div>\n",
    "\n",
    "---"
   ]
  },
  {
   "cell_type": "markdown",
   "metadata": {},
   "source": [
    "<a id=\"section3\"></a>\n",
    "## <font color=\"#92002A\">3 - Creación de características de playlists</font>\n",
    "<br>\n",
    "\n",
    "Para el caso de la matriz de características de las playlists hemos empleado la función de preprocesamiento ***LabelBinarizer***, que contiene la biblioteca de *scikit-learn*.\n",
    "\n",
    "<br>"
   ]
  },
  {
   "cell_type": "code",
   "execution_count": 14,
   "metadata": {},
   "outputs": [],
   "source": [
    "import scipy.sparse as sp"
   ]
  },
  {
   "cell_type": "code",
   "execution_count": 15,
   "metadata": {},
   "outputs": [],
   "source": [
    "# Lectura de las etiquetas de playlists\n",
    "pls_tags_list = [row['tags'] for row in get_names()]\n",
    "pls_names_list = [row['name'] for row in get_names()]\n",
    "\n",
    "# Transformación de etiquetas\n",
    "labelbinarizer = LabelBinarizer(sparse_output=True)\n",
    "plsfeatures_matrix = labelbinarizer.fit_transform(pls_names_list)\n",
    "plsfeatures_matrix = sp.hstack([sp.eye(len(pls_names_list)), plsfeatures_matrix]) #Need to hstack user_features"
   ]
  },
  {
   "cell_type": "code",
   "execution_count": 16,
   "metadata": {},
   "outputs": [
    {
     "data": {
      "text/plain": [
       "<1010000x1775995 sparse matrix of type '<class 'numpy.float64'>'\n",
       "\twith 2020000 stored elements in COOrdinate format>"
      ]
     },
     "execution_count": 16,
     "metadata": {},
     "output_type": "execute_result"
    }
   ],
   "source": [
    "plsfeatures_matrix"
   ]
  },
  {
   "cell_type": "markdown",
   "metadata": {},
   "source": [
    "<div style=\"text-align: right\">\n",
    "<a href=\"#indice\"><font size=5><i class=\"fa fa-arrow-circle-up\" aria-hidden=\"true\" style=\"color:#92002A\"></i></font></a>\n",
    "</div>\n",
    "\n",
    "---"
   ]
  },
  {
   "cell_type": "markdown",
   "metadata": {},
   "source": [
    "<a id=\"section4\"></a>\n",
    "## <font color=\"#92002A\">4 - Almacenamiento del DataSet en formato LightFM</font>\n",
    "<br>\n",
    "\n",
    "Una vez que hemos creado todas las matrices necesarias para trabajar con *LightFM*, las almacenamos en un diccionario y las guardamos en un archivo.\n",
    "\n",
    "<br>"
   ]
  },
  {
   "cell_type": "code",
   "execution_count": 17,
   "metadata": {},
   "outputs": [],
   "source": [
    "mpd_lfm_dict = {}\n",
    "\n",
    "mpd_lfm_dict['plstrs_interactions'] = tracks_interactions\n",
    "mpd_lfm_dict['artists_interactions'] = arts_interactions\n",
    "mpd_lfm_dict['artists_weights'] = arts_weights\n",
    "mpd_lfm_dict['pls_features'] = plsfeatures_matrix"
   ]
  },
  {
   "cell_type": "code",
   "execution_count": 18,
   "metadata": {},
   "outputs": [],
   "source": [
    "if os.path.isfile(MPD_LFM_FILE):\n",
    "    with open(MPD_LFM_FILE, \"rb\") as read_file:\n",
    "        mpd_lfm_dict = pickle.load(read_file)\n",
    "else:\n",
    "    with open(MPD_LFM_FILE, \"wb\") as write_file:\n",
    "        pickle.dump(mpd_lfm_dict, write_file, protocol=pickle.HIGHEST_PROTOCOL)"
   ]
  },
  {
   "cell_type": "markdown",
   "metadata": {},
   "source": [
    "<div style=\"text-align: right\">\n",
    "<a href=\"#indice\"><font size=5><i class=\"fa fa-arrow-circle-up\" aria-hidden=\"true\" style=\"color:#92002A\"></i></font></a>\n",
    "</div>\n",
    "\n",
    "---\n",
    "\n",
    "<div style=\"text-align: right\"> <font size=6><i class=\"fa fa-graduation-cap\" aria-hidden=\"true\" style=\"color:#92002A\"></i> </font></div>"
   ]
  }
 ],
 "metadata": {
  "kernelspec": {
   "display_name": "Python 3",
   "language": "python",
   "name": "python3"
  },
  "language_info": {
   "codemirror_mode": {
    "name": "ipython",
    "version": 3
   },
   "file_extension": ".py",
   "mimetype": "text/x-python",
   "name": "python",
   "nbconvert_exporter": "python",
   "pygments_lexer": "ipython3",
   "version": "3.8.5"
  }
 },
 "nbformat": 4,
 "nbformat_minor": 4
}
