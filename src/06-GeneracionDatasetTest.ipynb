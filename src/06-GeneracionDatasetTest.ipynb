{
 "cells": [
  {
   "cell_type": "markdown",
   "metadata": {},
   "source": [
    "<img src=\"images/header.png\" alt=\"Logo UCLM-ESII\" align=\"right\">\n",
    "\n",
    "<br><br><br><br>\n",
    "<h2><font color=\"#92002A\" size=4>Trabajo Fin de Grado</font></h2>\n",
    "\n",
    "<h1><font color=\"#6B001F\" size=5>Generación automática de playlist de canciones <br> mediante técnicas de minería de datos</font></h1>\n",
    "<h2><font color=\"#92002A\" size=3>Parte 6 - Generación del DataSet de pruebas</font></h2>\n",
    "\n",
    "<br>\n",
    "<div style=\"text-align: right\">\n",
    "    <font color=\"#B20033\" size=3><strong>Autor</strong>: <em>Miguel Ángel Cantero Víllora</em></font><br>\n",
    "    <br>\n",
    "    <font color=\"#B20033\" size=3><strong>Directores</strong>: <em>José Antonio Gámez Martín</em></font><br>\n",
    "    <font color=\"#B20033\" size=3><em>Juan Ángel Aledo Sánchez</em></font><br>\n",
    "    <br>\n",
    "<font color=\"#B20033\" size=3>Grado en Ingeniería Informática</font><br>\n",
    "<font color=\"#B20033\" size=2>Escuela Superior de Ingeniería Informática | Universidad de Castilla-La Mancha</font>\n",
    "\n",
    "</div>"
   ]
  },
  {
   "cell_type": "markdown",
   "metadata": {},
   "source": [
    "---\n",
    "\n",
    "<br>\n",
    "\n",
    "\n",
    "<a id=\"indice\"></a>\n",
    "<h2><font color=\"#92002A\" size=5>Índice</font></h2>\n",
    "\n",
    "<br>\n",
    "\n",
    "* [1. Introducción](#section1)\n",
    "* [2. Lectura de datos](#section2)\n",
    "* [3. Lectura del conjunto de pistas](#section3)\n",
    "* [4. Obtención de playlists válidas](#section4)\n",
    "* [5. Generación del conjunto de prueba](#section5)\n",
    "\n",
    "<br>\n",
    "\n",
    "---"
   ]
  },
  {
   "cell_type": "code",
   "execution_count": 1,
   "metadata": {},
   "outputs": [],
   "source": [
    "# Permite establecer la anchura de la celda\n",
    "from IPython.core.display import display, HTML\n",
    "display(HTML(\"<style>.container { width:95% !important; }</style>\"))"
   ]
  },
  {
   "cell_type": "code",
   "execution_count": 2,
   "metadata": {},
   "outputs": [],
   "source": [
    "import datetime\n",
    "import json\n",
    "import os\n",
    "import pandas as pd\n",
    "import random\n",
    "import zipfile\n",
    "\n",
    "from collections import defaultdict\n",
    "from operator import itemgetter\n",
    "from tqdm.notebook import tqdm as tqdm_nb"
   ]
  },
  {
   "cell_type": "markdown",
   "metadata": {},
   "source": [
    "---\n",
    "\n",
    "<br>\n",
    "\n",
    "\n",
    "<a id=\"section1\"></a>\n",
    "## <font color=\"#92002A\">1 - Introducción</font>\n",
    "<br>\n",
    "\n",
    "Para crear el conjunto de prueba, nos basaremos también en el conjunto que se ofreció como reto en el [*RecSys Challenge 2018*](https://recsys-challenge.spotify.com/).\n",
    "\n",
    "Dicho conjunto se utilizaba para evaluar el sistema de recomendación creado. Los participantes del reto tenían el conjunto de forma incompleta y, una vez creado el sistema, enviaban los resultados a la organización para devolverles la puntuación obtenida.\n",
    "\n",
    "En nuestro caso, vamos a crear dos ficheros: uno que contendrá las playlists con su contenido completo y otro con las playlists incompletas (con la posibilidad de que el nombre de la playlist no figure).\n",
    "\n",
    "<br>\n",
    "\n",
    "---\n",
    "\n",
    "<br>\n",
    "\n",
    "<a id=\"section11\"></a>\n",
    "### <font color=\"#92002A\">1.1 - Formato</font>\n",
    "<br>\n",
    "\n",
    "El conjunto consta de un único diccionario almacenado en un fichero *JSON*, con los siguientes campos:\n",
    "\n",
    "* ***date***: Fecha en la que se ha generado (formato *timestamp*).\n",
    "* ***version***: Versión del conjunto de datos.\n",
    "* ***playlists***: Array de 10.000 playlist incompletas. Cada elemento de la lista es un diccionario que posee los siguientes campos:\n",
    "\n",
    "    * ***pid***: [integer] Identificador de la playlist.\n",
    "    * ***name***: [string] Título de la lista. (Opcional)\n",
    "    * ***num_holdouts***: [string] Número de pistas que han sido omitidas de la lista.\n",
    "    * ***tracks***: Lista de diccionarios con información sobre las pistas (la lista puede estar vacía). Cada diccionario contiene los siguientes campos:\n",
    "        * *pos*: Posición de la pista dentro de la playlist.\n",
    "        * *track_name*: Título de la pista.\n",
    "        * *track_uri*: Dirección Spotify de la pista.\n",
    "        * *album_name*: Título del álbum.\n",
    "        * *album_uri*: Dirección Spotify del álbum.\n",
    "        * *artist_name*: Nombre del artista.\n",
    "        * *artist_uri*: Dirección Spotify del artista.\n",
    "        * *duration_ms*: Duración en milisegundos de la pista.\n",
    "    * ***num_samples***: [string] Número de pistas que contiene la lista.\n",
    "    * ***num_tracks***: [string] Número *total* de pistas que contiene la lista.\n",
    "\n",
    "<br>\n",
    "\n",
    "<div class=\"alert alert-block alert-info\">\n",
    "    \n",
    "<i class=\"fa fa-info-circle\" aria-hidden=\"true\"></i> __Nota 1__:\n",
    "        \\begin{equation*}\n",
    "        len(tracks) == num\\_samples\n",
    "        \\end{equation*}\n",
    "</div>\n",
    "\n",
    "<div class=\"alert alert-block alert-info\">\n",
    "    \n",
    "<i class=\"fa fa-info-circle\" aria-hidden=\"true\"></i> __Nota 2__:\n",
    "        \\begin{equation*}\n",
    "        num\\_samples + num\\_holdouts == num\\_tracks\n",
    "        \\end{equation*}\n",
    "</div>\n",
    "\n",
    "<br>\n",
    "\n",
    "---\n",
    "\n",
    "<br>\n",
    "\n",
    "<a id=\"section12\"></a>\n",
    "### <font color=\"#92002A\">1.2 - Categorías del conjunto de prueba</font>\n",
    "<br>\n",
    "\n",
    "Las 10.000 playlists están agrupadas en 10 categorías de desafíos diferentes, con 1.000 listas en cada categoría:\n",
    "\n",
    "1. Predecir las pistas para una playlist dado sólo su título.\n",
    "2. Predecir las pistas para una playlist dado su título y la primera pista.\n",
    "3. Predecir las pistas para una playlist dado su título y las primeras 5 pistas.\n",
    "4. Predecir las pistas para una playlist dadas las primeras 5 pistas (sin título).\n",
    "5. Predecir las pistas para una playlist dado su título y las primeras 10 pistas.\n",
    "6. Predecir las pistas para una playlist dadas las primeras 10 pistas (sin título).\n",
    "7. Predecir las pistas para una playlist dado su título y las primeras 25 pistas.\n",
    "8. Predecir las pistas para una playlist dado su título y 25 pistas aleatorias.\n",
    "9. Predecir las pistas para una playlist dado su título y las primeras 100 pistas.\n",
    "10. Predecir las pistas para una playlist dado su título y 100 pistas aleatorias.\n",
    "\n",
    "---\n",
    "\n",
    "<br>\n",
    "\n",
    "<a id=\"section13\"></a>\n",
    "### <font color=\"#92002A\">1.3 - Restricciones</font>\n",
    "<br>\n",
    "\n",
    "Las playlists del conjunto de prueba cumplen con lo siguiente:\n",
    "- Todas las pistas del conjunto de prueba están en el conjunto final (*MPD*).\n",
    "- Todas las pistas por predecir (*holdout*) están en el conjunto final."
   ]
  },
  {
   "cell_type": "markdown",
   "metadata": {},
   "source": [
    "<div style=\"text-align: right\">\n",
    "<a href=\"#indice\"><font size=5><i class=\"fa fa-arrow-circle-up\" aria-hidden=\"true\" style=\"color:#92002A\"></i></font></a>\n",
    "</div>\n",
    "\n",
    "---"
   ]
  },
  {
   "cell_type": "markdown",
   "metadata": {},
   "source": [
    "<a id=\"section2\"></a>\n",
    "## <font color=\"#92002A\">2 - Lectura de datos</font>\n",
    "\n",
    "<br>\n",
    "\n",
    "Al igual que hicimos para generar el conjunto final, vamos a leer el fichero donde hemos almacenado la información relativa a las playlists y vamos a cargar desde la playlist que figura en la posición *1.000.000* en adelante (que son las que tenemos para crear el conjunto de prueba).\n",
    "\n",
    "<br>"
   ]
  },
  {
   "cell_type": "code",
   "execution_count": 3,
   "metadata": {},
   "outputs": [],
   "source": [
    "# Variables globales\n",
    "\n",
    "# Directorios donde almacenaremos el DataSet que vamos a generar\n",
    "MPD_PATH = 'MPD'\n",
    "MPD_TEST_PATH = 'MPD_TEST'\n",
    "\n",
    "# Directorio donde se encuentran almacenadas las playlists que \n",
    "# hemos descargado\n",
    "PLS_SETS_PATH = 'pls_sets'\n",
    "\n",
    "# Directorio empleado para guardar/leer aquellos datos generados\n",
    "# que resultan de interés para diferentes tareas\n",
    "DATA_PATH = 'data'"
   ]
  },
  {
   "cell_type": "code",
   "execution_count": 4,
   "metadata": {},
   "outputs": [
    {
     "name": "stdout",
     "output_type": "stream",
     "text": [
      "Playlists obtenidas: 19338\n"
     ]
    }
   ],
   "source": [
    "# Ruta del fichero donde están contenidas las playlists\n",
    "mpd_info_file = os.path.join(DATA_PATH, 'mpd_info_set.csv')\n",
    "\n",
    "if os.path.isfile(mpd_info_file):\n",
    "    # Cargamos a partir de la playlist desde donde comienza el conjunto de prueba\n",
    "    df_mpd_test_info = pd.read_csv(mpd_info_file, sep=';', encoding='utf-8')[1000000:]\n",
    "    print(f\"Playlists obtenidas: {len(df_mpd_test_info)}\")\n",
    "else:\n",
    "    print(\"¡ERROR!: Fichero 'mpd_info_set.csv' no encontrado.\")"
   ]
  },
  {
   "cell_type": "markdown",
   "metadata": {},
   "source": [
    "<div style=\"text-align: right\">\n",
    "<a href=\"#indice\"><font size=5><i class=\"fa fa-arrow-circle-up\" aria-hidden=\"true\" style=\"color:#92002A\"></i></font></a>\n",
    "</div>\n",
    "\n",
    "---"
   ]
  },
  {
   "cell_type": "markdown",
   "metadata": {},
   "source": [
    "<a id=\"section3\"></a>\n",
    "## <font color=\"#92002A\">3 - Lectura del conjunto de pistas</font>\n",
    "\n",
    "<br>\n",
    "\n",
    "\n",
    "Para facilitar el proceso de lectura de las listas de canciones de las playlists, vamos a crear un diccionario en el cual estableceremos como clave el nombre del fichero y cuyo valor será una lista con los identificadores de las playlists que deseamos obtener su información:\n",
    "\n",
    "<br>"
   ]
  },
  {
   "cell_type": "code",
   "execution_count": 5,
   "metadata": {},
   "outputs": [],
   "source": [
    "pls_location_dict = defaultdict(list)\n",
    "\n",
    "for _, row in df_mpd_test_info.iterrows():\n",
    "    pls_location_dict[row['file_name']].append(row['id'])"
   ]
  },
  {
   "cell_type": "markdown",
   "metadata": {},
   "source": [
    "<br>\n",
    "\n",
    "Tras crear el diccionario, procedemos a obtener las listas de pistas que nos interesa guardar:"
   ]
  },
  {
   "cell_type": "code",
   "execution_count": 6,
   "metadata": {},
   "outputs": [],
   "source": [
    "def get_test_pls_data(location_dict, pls_sets_path):\n",
    "    pls_dict = dict()\n",
    "    \n",
    "    pbar = tqdm_nb(total=len(location_dict))\n",
    "    for file_name, pls_ids in location_dict.items():\n",
    "        zip_file_path = os.path.join(pls_sets_path, file_name)\n",
    "        with zipfile.ZipFile(zip_file_path,'r') as zip_file:\n",
    "            with zip_file.open(zip_file.namelist()[0]) as json_file:\n",
    "                data = json_file.read()\n",
    "                pls = json.loads(data.decode())\n",
    "        for pl in pls:\n",
    "            if pl['id'] in pls_ids:\n",
    "                pls_dict[pl['id']] = pl\n",
    "        pbar.update(1)\n",
    "    pbar.close()\n",
    "    \n",
    "    return pls_dict"
   ]
  },
  {
   "cell_type": "code",
   "execution_count": 7,
   "metadata": {},
   "outputs": [
    {
     "data": {
      "application/vnd.jupyter.widget-view+json": {
       "model_id": "66cbd50da24f459bb7de72f4882a8b4c",
       "version_major": 2,
       "version_minor": 0
      },
      "text/plain": [
       "HBox(children=(IntProgress(value=0, max=8642), HTML(value='')))"
      ]
     },
     "metadata": {},
     "output_type": "display_data"
    },
    {
     "name": "stdout",
     "output_type": "stream",
     "text": [
      "\n",
      "Obtenida la información de 19338 playlists\n"
     ]
    }
   ],
   "source": [
    "test_pls_dict = get_test_pls_data(pls_location_dict, PLS_SETS_PATH)\n",
    "print(f'Obtenida la información de {len(test_pls_dict)} playlists')"
   ]
  },
  {
   "cell_type": "markdown",
   "metadata": {},
   "source": [
    "<div style=\"text-align: right\">\n",
    "<a href=\"#indice\"><font size=5><i class=\"fa fa-arrow-circle-up\" aria-hidden=\"true\" style=\"color:#92002A\"></i></font></a>\n",
    "</div>\n",
    "\n",
    "---"
   ]
  },
  {
   "cell_type": "markdown",
   "metadata": {},
   "source": [
    "<a id=\"section4\"></a>\n",
    "## <font color=\"#92002A\">4 - Obtención de playlists válidas</font>\n",
    "\n",
    "<br>\n",
    "\n",
    "Antes de comenzar, vamos a obtener las pistas que hay en las playlists que conforman el conjunto de datos que hemos creado. Este paso lo realizamos para que en nuestro conjunto de prueba no tengamos playlists que contienen pistas desconocidas (no figuran en el conjunto de datos final).\n",
    "\n",
    "<br>"
   ]
  },
  {
   "cell_type": "code",
   "execution_count": 8,
   "metadata": {},
   "outputs": [],
   "source": [
    "#https://www.geeksforgeeks.org/python-get-values-of-particular-key-in-list-of-dictionaries/\n",
    "def get_tracks_ids(mpd_path):\n",
    "    tracks_set = set()\n",
    "    \n",
    "    for file in tqdm_nb(os.listdir(mpd_path)):\n",
    "        zip_file_path = os.path.join(mpd_path, file)\n",
    "        with zipfile.ZipFile(zip_file_path,'r') as zip_file:\n",
    "            with zip_file.open(zip_file.namelist()[0]) as json_file:\n",
    "                data = json_file.read()\n",
    "                slice_pls = json.loads(data.decode())['playlists']\n",
    "        for pl in slice_pls:\n",
    "            tracks_set.update(list(map(itemgetter('track_uri'), pl['tracks'])))\n",
    "    \n",
    "    return tracks_set"
   ]
  },
  {
   "cell_type": "code",
   "execution_count": 9,
   "metadata": {},
   "outputs": [
    {
     "data": {
      "application/vnd.jupyter.widget-view+json": {
       "model_id": "8977c2f64ce64c18a5e907848aff3deb",
       "version_major": 2,
       "version_minor": 0
      },
      "text/plain": [
       "HBox(children=(IntProgress(value=0, max=1000), HTML(value='')))"
      ]
     },
     "metadata": {},
     "output_type": "display_data"
    },
    {
     "name": "stdout",
     "output_type": "stream",
     "text": [
      "\n"
     ]
    }
   ],
   "source": [
    "tracks_set = get_tracks_ids(MPD_PATH)"
   ]
  },
  {
   "cell_type": "markdown",
   "metadata": {},
   "source": [
    "Obtenemos los identificadores de las playlist que cumplen con el criterio establecido:"
   ]
  },
  {
   "cell_type": "code",
   "execution_count": 10,
   "metadata": {},
   "outputs": [
    {
     "name": "stdout",
     "output_type": "stream",
     "text": [
      "Número de playlists válidas : 11701\n"
     ]
    }
   ],
   "source": [
    "valid_pls = []\n",
    "\n",
    "for p_id, p_data in test_pls_dict.items():\n",
    "    tracks = list(map(itemgetter('track_uri'), p_data['tracks']))\n",
    "    if all(t in tracks_set for t in tracks):\n",
    "        valid_pls.append(p_id)\n",
    "        \n",
    "print(f'Número de playlists válidas : {len(valid_pls)}')"
   ]
  },
  {
   "cell_type": "markdown",
   "metadata": {},
   "source": [
    "<br>\n",
    "\n",
    "Por último, eliminamos del *DataFrame* aquellas listas que no nos son válidas:"
   ]
  },
  {
   "cell_type": "code",
   "execution_count": 11,
   "metadata": {},
   "outputs": [],
   "source": [
    "df_mpd_test_info.set_index('id', inplace=True)\n",
    "df_mpd_test_info = df_mpd_test_info.loc[valid_pls]"
   ]
  },
  {
   "cell_type": "markdown",
   "metadata": {},
   "source": [
    "<div style=\"text-align: right\">\n",
    "<a href=\"#indice\"><font size=5><i class=\"fa fa-arrow-circle-up\" aria-hidden=\"true\" style=\"color:#92002A\"></i></font></a>\n",
    "</div>\n",
    "\n",
    "---"
   ]
  },
  {
   "cell_type": "markdown",
   "metadata": {},
   "source": [
    "<a id=\"section5\"></a>\n",
    "## <font color=\"#92002A\">5 - Generación del conjunto de prueba</font>\n",
    "\n",
    "<br>\n",
    "\n",
    "Una vez obtenidas las playlist que podemos emplear en el conjunto de prueba. Procedemos a elegir qué listas pueden formar parte de una de las categorías en las que se ha dividido el conjunto. Lo único que debemos tener en cuenta es que las playlists tengan más pistas que el número de elementos que se ofrecen en cada categoría.\n",
    "\n",
    "Por ejemplo: Para la categoría \"*Predecir las pistas para una playlist dado su título y 100 pistas aleatorias*\", tenemos que asegurarnos de que las listas que vamos a elegir tengan más de 100 pistas.\n",
    "\n",
    "<br>"
   ]
  },
  {
   "cell_type": "code",
   "execution_count": 12,
   "metadata": {},
   "outputs": [],
   "source": [
    "df_mpd_test_len = df_mpd_test_info[['num_tracks']].copy()"
   ]
  },
  {
   "cell_type": "code",
   "execution_count": 13,
   "metadata": {},
   "outputs": [],
   "source": [
    "test_pls_id_list = []\n",
    "\n",
    "# Categorías 9 y 10\n",
    "category_pls = df_mpd_test_len[df_mpd_test_len.num_tracks > 100].sample(2000).index.to_list()\n",
    "test_pls_id_list += category_pls\n",
    "df_mpd_test_len.drop(category_pls, inplace=True) # Eliminamos las playlist que hemos seleccionado\n",
    "\n",
    "# Categorías 7 y 8\n",
    "category_pls = df_mpd_test_len[df_mpd_test_len.num_tracks > 25].sample(2000).index.to_list()\n",
    "test_pls_id_list += category_pls\n",
    "df_mpd_test_len.drop(category_pls, inplace=True) # Eliminamos las playlist que hemos seleccionado\n",
    "\n",
    "# Categorías 5 y 6\n",
    "category_pls = df_mpd_test_len[df_mpd_test_len.num_tracks > 10].sample(2000).index.to_list()\n",
    "test_pls_id_list += category_pls\n",
    "df_mpd_test_len.drop(category_pls, inplace=True) # Eliminamos las playlist que hemos seleccionado\n",
    "\n",
    "# Categorías 3 y 4\n",
    "category_pls = df_mpd_test_len[df_mpd_test_len.num_tracks > 5].sample(2000).index.to_list()\n",
    "test_pls_id_list += category_pls\n",
    "df_mpd_test_len.drop(category_pls, inplace=True) # Eliminamos las playlist que hemos seleccionado\n",
    "\n",
    "# Categorías 1 y 2\n",
    "category_pls = df_mpd_test_len.sample(2000).index.to_list() # Nos vale cualquiera de las restantes playlists\n",
    "test_pls_id_list += category_pls\n",
    "df_mpd_test_len.drop(category_pls, inplace=True) # Eliminamos las playlist que hemos seleccionado\n",
    "\n",
    "test_pls_id_list.reverse()"
   ]
  },
  {
   "cell_type": "markdown",
   "metadata": {},
   "source": [
    "<br>\n",
    "\n",
    "Puesto que ya tenemos hemos establecido qué playlists conforman cada categoría, vamos a leer los datos de cada una e incorporarlos a una lista. Con este proceso crearemos el conjunto de prueba completo (figuran todos los nombres y pistas de las playlists).\n",
    "\n",
    "<br>\n",
    "\n",
    "<div class=\"alert alert-block alert-info\">\n",
    "    \n",
    "<i class=\"fa fa-info-circle\" aria-hidden=\"true\"></i> __Nota__: Los campos `num_holdouts` y `num_samples` los añadiremos durante la creación del conjunto de playlists incompletas.\n",
    "</div>"
   ]
  },
  {
   "cell_type": "code",
   "execution_count": 14,
   "metadata": {},
   "outputs": [],
   "source": [
    "test_set_list = []\n",
    "current_pid = 1000000\n",
    "\n",
    "for pl_id in test_pls_id_list:\n",
    "    pl_dict = dict()\n",
    "    pl_dict['pid'] = current_pid\n",
    "    pl_dict['name'] = df_mpd_test_info.loc[pl_id]['name']\n",
    "    pl_dict['num_holdouts'] = None\n",
    "    pl_dict['num_samples'] = None\n",
    "    pl_dict['num_tracks'] = int(df_mpd_test_info.loc[pl_id]['num_tracks'])\n",
    "    pl_dict['tracks'] = test_pls_dict[pl_id]['tracks'][:]\n",
    "    # No necesitamos el campo \"added_at\", lo borramos\n",
    "    for pl_track in pl_dict['tracks']:\n",
    "        del pl_track['added_at']\n",
    "    \n",
    "    test_set_list.append(pl_dict)\n",
    "    \n",
    "    current_pid += 1"
   ]
  },
  {
   "cell_type": "markdown",
   "metadata": {},
   "source": [
    "<br>\n",
    "\n",
    "Con el conjunto completo de playlists que conforman el conjunto de prueba, creamos el conjunto que contiene las playlists incompletas. \n",
    "\n",
    "Lo primero que vamos a hacer es crear una función para facilitar el proceso de eliminación de pistas según la configuración indicada:"
   ]
  },
  {
   "cell_type": "code",
   "execution_count": 15,
   "metadata": {},
   "outputs": [],
   "source": [
    "# Función mediante la cual devolvemos la playlist incompleta que hemos indicado\n",
    "# con la configuración que se ha establecido.\n",
    "def remove_playlist_content(pl_complete, num_samples, random_tracks= False, remove_title = False):\n",
    "    pl_incomplete = pl_complete.copy()\n",
    "    if remove_title:\n",
    "        pl_incomplete['name'] = \"\"\n",
    "        \n",
    "    if random_tracks:\n",
    "        # Obtenemos n índices de pistas aleatorias\n",
    "        random_ids = random.sample(range(int(pl_complete['num_tracks'])), num_samples)\n",
    "        # Ordenamos los ids\n",
    "        random_ids.sort()\n",
    "        # Obtenemos las pistas y las añadimos a pl_incomplete['tracks']\n",
    "        pl_incomplete['tracks'] = []\n",
    "        for i in random_ids: \n",
    "            pl_incomplete['tracks'].append(pl_complete['tracks'][i])        \n",
    "    else:\n",
    "        pl_incomplete['tracks'] = pl_incomplete['tracks'][0:num_samples]\n",
    "        \n",
    "    pl_incomplete['num_holdouts'] = int(pl_complete['num_tracks']) - num_samples\n",
    "    pl_incomplete['num_samples'] = num_samples\n",
    "    \n",
    "    return pl_incomplete"
   ]
  },
  {
   "cell_type": "markdown",
   "metadata": {},
   "source": [
    "<br>\n",
    "\n",
    "Por último, por cada categoría añadimos el conjunto de playlist con la configuración que hemos indicado y vamos incorporando las playlists a la lista `test_set_incomplete_list`:"
   ]
  },
  {
   "cell_type": "code",
   "execution_count": 16,
   "metadata": {},
   "outputs": [],
   "source": [
    "test_set_incomplete_list = []\n",
    "\n",
    "# 1 - Playlist dado sólo su título.\n",
    "for pl in test_set_list[0:1000]:\n",
    "    num_samples = 0\n",
    "    pl_incomplete = remove_playlist_content(pl, num_samples)\n",
    "    pl['num_samples'] = num_samples\n",
    "    pl['num_holdouts'] = str(int(pl['num_tracks']) - num_samples)\n",
    "    test_set_incomplete_list.append(pl_incomplete)\n",
    "    \n",
    "# 2 - Playlist dado su título y la primera pista.\n",
    "for pl in test_set_list[1000:2000]:\n",
    "    num_samples = 1\n",
    "    pl_incomplete = remove_playlist_content(pl, num_samples)\n",
    "    pl['num_samples'] = num_samples\n",
    "    pl['num_holdouts'] = str(int(pl['num_tracks']) - num_samples)\n",
    "    test_set_incomplete_list.append(pl_incomplete)\n",
    "    \n",
    "# 3 -  Playlist dado su título y las primeras 5 pistas.\n",
    "for pl in test_set_list[2000:3000]:\n",
    "    num_samples = 5\n",
    "    pl_incomplete = remove_playlist_content(pl, num_samples)\n",
    "    pl['num_samples'] = num_samples\n",
    "    pl['num_holdouts'] = int(pl['num_tracks']) - num_samples\n",
    "    test_set_incomplete_list.append(pl_incomplete)\n",
    "    \n",
    "# 4 - Playlist dadas las primeras 5 pistas (sin título).\n",
    "for pl in test_set_list[3000:4000]:\n",
    "    num_samples = 5\n",
    "    pl_incomplete = remove_playlist_content(pl, num_samples, remove_title=True)\n",
    "    pl['num_samples'] = num_samples\n",
    "    pl['num_holdouts'] = int(pl['num_tracks']) - num_samples\n",
    "    test_set_incomplete_list.append(pl_incomplete)\n",
    "    \n",
    "# 5 - Playlist dado su título y las primeras 10 pistas.\n",
    "for pl in test_set_list[4000:5000]:\n",
    "    num_samples = 10\n",
    "    pl_incomplete = remove_playlist_content(pl, num_samples)\n",
    "    pl['num_samples'] = num_samples\n",
    "    pl['num_holdouts'] = int(pl['num_tracks']) - num_samples\n",
    "    test_set_incomplete_list.append(pl_incomplete)\n",
    "    \n",
    "# 6 - Playlist dadas las primeras 10 pistas (sin título).\n",
    "for pl in test_set_list[5000:6000]:\n",
    "    num_samples = 10\n",
    "    pl_incomplete = remove_playlist_content(pl, num_samples, remove_title=True)\n",
    "    pl['num_samples'] = num_samples\n",
    "    pl['num_holdouts'] = int(pl['num_tracks']) - num_samples\n",
    "    test_set_incomplete_list.append(pl_incomplete)\n",
    "    \n",
    "# 7 - Playlist dado su título y las primeras 25 pistas.\n",
    "for pl in test_set_list[6000:7000]:\n",
    "    num_samples = 25\n",
    "    pl_incomplete = remove_playlist_content(pl, num_samples)\n",
    "    pl['num_samples'] = num_samples\n",
    "    pl['num_holdouts'] = int(pl['num_tracks']) - num_samples\n",
    "    test_set_incomplete_list.append(pl_incomplete)\n",
    "    \n",
    "# 8 - Playlist dado su título y 25 pistas aleatorias.\n",
    "for pl in test_set_list[7000:8000]:\n",
    "    num_samples = 25\n",
    "    pl_incomplete = remove_playlist_content(pl, num_samples, random_tracks=True)\n",
    "    pl['num_samples'] = num_samples\n",
    "    pl['num_holdouts'] = int(pl['num_tracks']) - num_samples\n",
    "    test_set_incomplete_list.append(pl_incomplete)\n",
    "    \n",
    "# 9 - Playlist dado su título y las primeras 100 pistas.\n",
    "for pl in test_set_list[8000:9000]:\n",
    "    num_samples = 100\n",
    "    pl_incomplete = remove_playlist_content(pl, num_samples)\n",
    "    pl['num_samples'] = num_samples\n",
    "    pl['num_holdouts'] = int(pl['num_tracks']) - num_samples\n",
    "    test_set_incomplete_list.append(pl_incomplete)\n",
    "    \n",
    "# 10 - Playlist dado su título y 100 pistas aleatorias.\n",
    "for pl in test_set_list[9000:10000]:\n",
    "    num_samples = 100\n",
    "    pl_incomplete = remove_playlist_content(pl, num_samples, random_tracks=True)\n",
    "    pl['num_samples'] = num_samples\n",
    "    pl['num_holdouts'] = int(pl['num_tracks']) - num_samples\n",
    "    test_set_incomplete_list.append(pl_incomplete)"
   ]
  },
  {
   "cell_type": "markdown",
   "metadata": {},
   "source": [
    "<br>\n",
    "\n",
    "Ahora volcamos el contenido de ambas listas (completa e incompleta) a su fichero *JSON* correspondiente y lo guardamos:"
   ]
  },
  {
   "cell_type": "code",
   "execution_count": 17,
   "metadata": {},
   "outputs": [],
   "source": [
    "# Creamos la carpeta donde guardaremos los ficheros que pertenecen al\n",
    "# conjunto de prueba\n",
    "if not os.path.exists(MPD_TEST_PATH):\n",
    "    os.makedirs(MPD_TEST_PATH)\n",
    "    \n",
    "# Creamos un diccionario para cada conjunto\n",
    "test_set_complete = {'date' : str(datetime.datetime.now()),\n",
    "                     'version': 'v1.1',\n",
    "                     'playlists' : test_set_list\n",
    "                    }\n",
    "\n",
    "test_set = {'date' : str(datetime.datetime.now()),\n",
    "            'version': 'v1.1',\n",
    "            'playlists' : test_set_incomplete_list\n",
    "           }"
   ]
  },
  {
   "cell_type": "code",
   "execution_count": 18,
   "metadata": {},
   "outputs": [],
   "source": [
    "# Guardamos el fichero del conjunto de playlist de prueba incompleto\n",
    "\n",
    "# Creamos el fichero .json\n",
    "file_name = \"mpd.test.json\"\n",
    "file_path = os.path.join(MPD_TEST_PATH, file_name)\n",
    "with open(file_path, 'w') as f:\n",
    "    json.dump(test_set,f,indent=4)\n",
    "    \n",
    "# Comprimimos el fichero que hemos creado\n",
    "zip_file_path = file_path.replace('.json', '.zip')\n",
    "with zipfile.ZipFile(zip_file_path,'w') as zip_file: \n",
    "     zip_file.write(file_path, compress_type=zipfile.ZIP_DEFLATED, arcname=file_name)\n",
    "\n",
    "# Eliminamos el fichero creado para quedarnos con\n",
    "# la versión comprimida\n",
    "os.remove(file_path)"
   ]
  },
  {
   "cell_type": "code",
   "execution_count": 19,
   "metadata": {},
   "outputs": [],
   "source": [
    "# Guardamos el fichero del conjunto de playlist de prueba incompleto\n",
    "\n",
    "# Creamos el fichero .json\n",
    "file_name = \"mpd.test_complete.json\"\n",
    "file_path = os.path.join(MPD_TEST_PATH, file_name)\n",
    "with open(file_path, 'w') as f:\n",
    "    json.dump(test_set_complete,f,indent=4)\n",
    "    \n",
    "# Comprimimos el fichero que hemos creado\n",
    "zip_file_path = file_path.replace('.json', '.zip')\n",
    "with zipfile.ZipFile(zip_file_path,'w') as zip_file: \n",
    "     zip_file.write(file_path, compress_type=zipfile.ZIP_DEFLATED, arcname=file_name)\n",
    "\n",
    "# Eliminamos el fichero creado para quedarnos con\n",
    "# la versión comprimida\n",
    "os.remove(file_path)"
   ]
  },
  {
   "cell_type": "markdown",
   "metadata": {},
   "source": [
    "<br>\n",
    "\n",
    "Para finalizar, vamos a eliminar del directorio `DATA_PATH` aquellos ficheros que ya no nos resultarán de utilidad:"
   ]
  },
  {
   "cell_type": "code",
   "execution_count": 20,
   "metadata": {},
   "outputs": [],
   "source": [
    "os.remove(os.path.join(DATA_PATH, 'mpd_info_set.csv'))"
   ]
  },
  {
   "cell_type": "markdown",
   "metadata": {},
   "source": [
    "<div style=\"text-align: right\">\n",
    "<a href=\"#indice\"><font size=5><i class=\"fa fa-arrow-circle-up\" aria-hidden=\"true\" style=\"color:#92002A\"></i></font></a>\n",
    "</div>\n",
    "\n",
    "---\n",
    "\n",
    "<div style=\"text-align: right\"> <font size=6><i class=\"fa fa-graduation-cap\" aria-hidden=\"true\" style=\"color:#92002A\"></i> </font></div>"
   ]
  }
 ],
 "metadata": {
  "kernelspec": {
   "display_name": "Python 3",
   "language": "python",
   "name": "python3"
  },
  "language_info": {
   "codemirror_mode": {
    "name": "ipython",
    "version": 3
   },
   "file_extension": ".py",
   "mimetype": "text/x-python",
   "name": "python",
   "nbconvert_exporter": "python",
   "pygments_lexer": "ipython3",
   "version": "3.7.5"
  }
 },
 "nbformat": 4,
 "nbformat_minor": 2
}
